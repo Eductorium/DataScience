{
  "nbformat": 4,
  "nbformat_minor": 0,
  "metadata": {
    "colab": {
      "name": "Lesson3.ipynb",
      "provenance": [],
      "collapsed_sections": []
    },
    "kernelspec": {
      "name": "python3",
      "display_name": "Python 3"
    }
  },
  "cells": [
    {
      "cell_type": "markdown",
      "metadata": {
        "id": "KMdWnE3suEiq",
        "colab_type": "text"
      },
      "source": [
        "# Лекция 3. Библиотеки Numpy, Scipy, Pandas, Scikit-learn и matplotlib"
      ]
    },
    {
      "cell_type": "markdown",
      "metadata": {
        "id": "YgGJQTe4uOTn",
        "colab_type": "text"
      },
      "source": [
        "В данной лекции будут рассмотрены следующие библиотеки для Python.\n",
        "\n",
        "**NumPy** - это библиотека, которая предназначена для различных операций с массивами. Она предоставляет собственные массивы, которые отличаются от обычных плоских списков в Python в части того как они хранятся и обрабатываются. В памяти элементы такого массива располагаются рядом, что обеспечивает быстрый доступ к ним. NumPy также поддерживает subindexing, то есть выражение a[0, :, 2] выдаст все элементы массива, где первый индекс равен 0, а третий индекс равен 2.\n",
        "\n",
        "Кроме того, NumPy предоставляет векторизованные математические функции. Когда, например, при вызове numpy.sin(a), функция синуса применяется к каждому элементу массива a. Это делается с использованием скомпилированного кода на C, поэтому он работает намного быстрее, чем цикл Python for. Даже быстрее, чем списки.\n",
        "\n",
        "**SciPy** является библиотекой для научных вычислений: интегрирование, интерполяция, обработка сигналов, линейные алгебраические вычисления, статистические функции, обработка изображений, поиск экстремумов функций и т.д. Строится поверх библиотеки NumPy, являющейся инструментом более низкого уровня.\n",
        "\n",
        "**Pandas** - предназначена для анализа числовых таблиц и временных рядов. Может использоваться для исследовательского анализа данных, статистики, визуализации. Строится поверх библиотеки NumPy, являющейся инструментом более низкого уровня.\n",
        "\n",
        "**Scikit-learn** - это коллекция готовых алгоритмов машинного обучения. Строится поверх библиотек NumPy и SciPy, являющихся инструментами более низкого уровня."
      ]
    },
    {
      "cell_type": "markdown",
      "metadata": {
        "id": "7au1K5lp1zj5",
        "colab_type": "text"
      },
      "source": [
        "## Для чего использовать каждую из библиотек?"
      ]
    },
    {
      "cell_type": "markdown",
      "metadata": {
        "id": "q9piS_Lv139M",
        "colab_type": "text"
      },
      "source": [
        "* Если необходимо проанализировать данные и понять, что в них, то используется Pandas.\n",
        "\n",
        "* Если Вы хотите использовать эти данные для обучения алгоритмов машинного обучения, используйте Scikit-learn.\n",
        "\n",
        "* Если необходимо произвести какие-либо научные и инженерные вычисления, то приходит на помощь SciPy.\n",
        "\n",
        "* Если необходимо визуализировать данные графически, используйте matplotlib.\n",
        "\n",
        "И все эти библиотеки используют Numpy! Это означает, что вы должны при операциях со всеми Вашими данными использовать структуры данных NumPy."
      ]
    },
    {
      "cell_type": "markdown",
      "metadata": {
        "id": "YbpTrPcT2jdR",
        "colab_type": "text"
      },
      "source": [
        "## NumPy"
      ]
    },
    {
      "cell_type": "markdown",
      "metadata": {
        "id": "AbduDUbo2nBY",
        "colab_type": "text"
      },
      "source": [
        "NumPy это open-source модуль для Python, который предоставляет общие математические и числовые операции в виде пре-скомпилированных, быстрых функций. Они объединяются в высокоуровневые пакеты. Они обеспечивают функционал, который можно сравнить с функционалом MatLab. NumPy (Numeric Python) предоставляет базовые методы для манипуляции с большими массивами и матрицами.\n",
        "\n",
        "Сообщество NumPy и SciPy поддерживает онлайн руководство, включающие гайды и туториалы, тут: http://docs.scipy.org/doc."
      ]
    },
    {
      "cell_type": "markdown",
      "metadata": {
        "id": "eORgLxjN3PIb",
        "colab_type": "text"
      },
      "source": [
        "### Импорт модуля numpy"
      ]
    },
    {
      "cell_type": "markdown",
      "metadata": {
        "id": "RbKNEhUn3gY2",
        "colab_type": "text"
      },
      "source": [
        "Есть несколько путей импорта. Стандартный метод это — использовать простое выражение:"
      ]
    },
    {
      "cell_type": "code",
      "metadata": {
        "id": "TTp4pne-3lw0",
        "colab_type": "code",
        "colab": {}
      },
      "source": [
        "import numpy # не исполняйте код нажатием на кнопку >"
      ],
      "execution_count": 0,
      "outputs": []
    },
    {
      "cell_type": "markdown",
      "metadata": {
        "id": "HdkEJlkw3qVn",
        "colab_type": "text"
      },
      "source": [
        "Тем не менее, для большого количества вызовов функций numpy, становится утомительно писать numpy.X снова и снова. Вместо этого намного легче сделать это так:"
      ]
    },
    {
      "cell_type": "code",
      "metadata": {
        "id": "monyI3gy3v7k",
        "colab_type": "code",
        "colab": {}
      },
      "source": [
        "import numpy as np  # здесь можно нажать >, так как далее мы будем работать с numpy через синоним np. Это наиболее оптимальный вариант и best practice"
      ],
      "execution_count": 0,
      "outputs": []
    },
    {
      "cell_type": "markdown",
      "metadata": {
        "id": "YE6yAf8-3x7j",
        "colab_type": "text"
      },
      "source": [
        "Это выражение позволяет нам получать доступ к numpy объектам используя np.X вместо numpy.X. Также можно импортировать numpy прямо в используемое пространство имен, чтобы вообще не использовать функции через точку, а вызывать их напрямую:"
      ]
    },
    {
      "cell_type": "code",
      "metadata": {
        "id": "Wb7_RGKU33qQ",
        "colab_type": "code",
        "colab": {}
      },
      "source": [
        "from numpy import * # не исполняйте код нажатием на кнопку >"
      ],
      "execution_count": 0,
      "outputs": []
    },
    {
      "cell_type": "markdown",
      "metadata": {
        "id": "1G1NvoeH38FP",
        "colab_type": "text"
      },
      "source": [
        "Однако, этот вариант не приветствуется в программировании на python, так как убирает некоторые полезные структуры, которые модуль предоставляет. До конца этого туториала мы будем использовать второй вариант импорта (import numpy as np)."
      ]
    },
    {
      "cell_type": "markdown",
      "metadata": {
        "id": "A-JTC2lW4m9m",
        "colab_type": "text"
      },
      "source": [
        "### Массивы"
      ]
    },
    {
      "cell_type": "markdown",
      "metadata": {
        "id": "Xuf0dNgc4qFx",
        "colab_type": "text"
      },
      "source": [
        "Главной особенностью numpy является объект array. Массивы схожи со списками в python, исключая тот факт, что элементы массива должны иметь одинаковый тип данных, как float и int. С массивами можно проводить числовые операции с большим объемом информации в разы быстрее и, главное, намного эффективнее чем со списками.\n",
        "\n",
        "Создание массива из списка:"
      ]
    },
    {
      "cell_type": "code",
      "metadata": {
        "id": "Z41nxA8U4t1J",
        "colab_type": "code",
        "colab": {}
      },
      "source": [
        "a = np.array([1, 4, 5, 8], float)\n",
        "a"
      ],
      "execution_count": 0,
      "outputs": []
    },
    {
      "cell_type": "code",
      "metadata": {
        "id": "XJ7UBnGR487c",
        "colab_type": "code",
        "colab": {}
      },
      "source": [
        "type(a)"
      ],
      "execution_count": 0,
      "outputs": []
    },
    {
      "cell_type": "markdown",
      "metadata": {
        "id": "JXbQLlEf5E7i",
        "colab_type": "text"
      },
      "source": [
        "Здесь функция array принимает два аргумента: список для конвертации в массив и тип для каждого элемента. Ко всем элементам можно получить доступ и манипулировать ими также, как вы бы это делали с обычными списками:"
      ]
    },
    {
      "cell_type": "code",
      "metadata": {
        "id": "v2clwy-K5IW7",
        "colab_type": "code",
        "colab": {}
      },
      "source": [
        "a[:2]\n"
      ],
      "execution_count": 0,
      "outputs": []
    },
    {
      "cell_type": "code",
      "metadata": {
        "id": "3HhtDxrV5P2B",
        "colab_type": "code",
        "colab": {}
      },
      "source": [
        "a[3]"
      ],
      "execution_count": 0,
      "outputs": []
    },
    {
      "cell_type": "code",
      "metadata": {
        "id": "FhgJM1xx5UoS",
        "colab_type": "code",
        "colab": {}
      },
      "source": [
        "a[0] = 5.\n",
        "a"
      ],
      "execution_count": 0,
      "outputs": []
    },
    {
      "cell_type": "markdown",
      "metadata": {
        "id": "tUg31loB5g_H",
        "colab_type": "text"
      },
      "source": [
        "Массивы могут быть и многомерными. В отличии от списков можно задавать команды в скобках. Вот пример двумерного массива (матрица):"
      ]
    },
    {
      "cell_type": "code",
      "metadata": {
        "id": "a1GGsMe95i0d",
        "colab_type": "code",
        "colab": {}
      },
      "source": [
        "a = np.array([[1, 2, 3], [4, 5, 6]], float)\n",
        "a"
      ],
      "execution_count": 0,
      "outputs": []
    },
    {
      "cell_type": "code",
      "metadata": {
        "id": "ECwvznxg5nKT",
        "colab_type": "code",
        "colab": {}
      },
      "source": [
        "a[0,0]"
      ],
      "execution_count": 0,
      "outputs": []
    },
    {
      "cell_type": "code",
      "metadata": {
        "id": "eC_3237u5pdk",
        "colab_type": "code",
        "colab": {}
      },
      "source": [
        "a[0,1]"
      ],
      "execution_count": 0,
      "outputs": []
    },
    {
      "cell_type": "markdown",
      "metadata": {
        "id": "s-BwQIwm5tSQ",
        "colab_type": "text"
      },
      "source": [
        "Array slicing работает с многомерными массивами аналогично, как и с одномерными, применяя каждый срез, как фильтр для установленного измерения. Используйте \":\" в измерении для указывания использования всех элементов этого измерения:"
      ]
    },
    {
      "cell_type": "code",
      "metadata": {
        "id": "8k4SUbNL54P4",
        "colab_type": "code",
        "colab": {}
      },
      "source": [
        "a = np.array([[1, 2, 3], [4, 5, 6]], float)\n",
        "a[1,:]"
      ],
      "execution_count": 0,
      "outputs": []
    },
    {
      "cell_type": "code",
      "metadata": {
        "id": "Rl77IUHO595x",
        "colab_type": "code",
        "colab": {}
      },
      "source": [
        "a[:,2]"
      ],
      "execution_count": 0,
      "outputs": []
    },
    {
      "cell_type": "code",
      "metadata": {
        "id": "lPZ1QhCc6SId",
        "colab_type": "code",
        "colab": {}
      },
      "source": [
        "a[-1:, -2:]"
      ],
      "execution_count": 0,
      "outputs": []
    },
    {
      "cell_type": "markdown",
      "metadata": {
        "id": "cLDo7O5n6aBU",
        "colab_type": "text"
      },
      "source": [
        "Метод shape возвращает количество строк и столбцов в матрице:"
      ]
    },
    {
      "cell_type": "code",
      "metadata": {
        "id": "j4lhcW5K6cw8",
        "colab_type": "code",
        "colab": {}
      },
      "source": [
        "a.shape"
      ],
      "execution_count": 0,
      "outputs": []
    },
    {
      "cell_type": "markdown",
      "metadata": {
        "id": "IywyNXLA6vYK",
        "colab_type": "text"
      },
      "source": [
        "Метод dtype возвращает тип переменных, хранящихся в массиве:"
      ]
    },
    {
      "cell_type": "code",
      "metadata": {
        "id": "GL8rjW8L6waO",
        "colab_type": "code",
        "colab": {}
      },
      "source": [
        "a.dtype"
      ],
      "execution_count": 0,
      "outputs": []
    },
    {
      "cell_type": "markdown",
      "metadata": {
        "id": "mykIZ4y4641E",
        "colab_type": "text"
      },
      "source": [
        "Тут float64, это числовой тип данных в numpy, который используется для хранения вещественных чисел двойной точности. Так как же float в Python.\n",
        "\n",
        "Метод len возвращает длину первого измерения (оси):"
      ]
    },
    {
      "cell_type": "code",
      "metadata": {
        "id": "amHn7lcS672s",
        "colab_type": "code",
        "colab": {}
      },
      "source": [
        "a = np.array([[1, 2, 3], [4, 5, 6]], float)\n",
        "len(a)"
      ],
      "execution_count": 0,
      "outputs": []
    },
    {
      "cell_type": "markdown",
      "metadata": {
        "id": "jJXxuWTN7Bdb",
        "colab_type": "text"
      },
      "source": [
        "Метод in используется для проверки на наличие элемента в массиве:"
      ]
    },
    {
      "cell_type": "code",
      "metadata": {
        "id": "G7T9gET37C1m",
        "colab_type": "code",
        "colab": {}
      },
      "source": [
        "a = np.array([[1, 2, 3], [4, 5, 6]], float)\n",
        "2 in a"
      ],
      "execution_count": 0,
      "outputs": []
    },
    {
      "cell_type": "code",
      "metadata": {
        "id": "9KrXsJJ97Mxu",
        "colab_type": "code",
        "colab": {}
      },
      "source": [
        "0 in a"
      ],
      "execution_count": 0,
      "outputs": []
    },
    {
      "cell_type": "markdown",
      "metadata": {
        "id": "qAUroPB17Qt1",
        "colab_type": "text"
      },
      "source": [
        "Массивы можно переформировать при помощи метода, который задает новый многомерный массив. Следуя следующему примеру, мы переформатируем одномерный массив из десяти элементов во двумерный массив, состоящий из пяти строк и двух столбцов:"
      ]
    },
    {
      "cell_type": "code",
      "metadata": {
        "id": "RJ5r_oqA7XJ6",
        "colab_type": "code",
        "colab": {}
      },
      "source": [
        "a = np.array(range(10), float)\n",
        "a"
      ],
      "execution_count": 0,
      "outputs": []
    },
    {
      "cell_type": "code",
      "metadata": {
        "id": "HZqQnZOM7a5q",
        "colab_type": "code",
        "colab": {}
      },
      "source": [
        "a = a.reshape((5, 2))\n",
        "a"
      ],
      "execution_count": 0,
      "outputs": []
    },
    {
      "cell_type": "code",
      "metadata": {
        "id": "3EKesJ_h7gRt",
        "colab_type": "code",
        "colab": {}
      },
      "source": [
        "a.shape"
      ],
      "execution_count": 0,
      "outputs": []
    },
    {
      "cell_type": "markdown",
      "metadata": {
        "id": "zy2nFb5m7kF1",
        "colab_type": "text"
      },
      "source": [
        "Обратите внимание, метод reshape создает новый массив, а не модифицирует оригинальный.\n",
        "\n",
        "Имейте ввиду, связывание имен в Python работает и с массивами. Метод copy используется для создания копии существующего массива в памяти:"
      ]
    },
    {
      "cell_type": "code",
      "metadata": {
        "id": "cO9RFS9u7rS_",
        "colab_type": "code",
        "colab": {}
      },
      "source": [
        "a = np.array([1, 2, 3], float)\n",
        "b = a\n",
        "c = a.copy()\n",
        "a[0] = 0\n",
        "a"
      ],
      "execution_count": 0,
      "outputs": []
    },
    {
      "cell_type": "code",
      "metadata": {
        "id": "AiBI8V0371wR",
        "colab_type": "code",
        "colab": {}
      },
      "source": [
        "b"
      ],
      "execution_count": 0,
      "outputs": []
    },
    {
      "cell_type": "markdown",
      "metadata": {
        "id": "IX1agvBQ8CHB",
        "colab_type": "text"
      },
      "source": [
        "Обратите внимание, что после того, как мы выполнили a[0] = 0, массив, на который ссылается переменая b также изменился. Это объясняется тем, что в выражении b = a просто была создана ссылка на один и тот же массив, на который ссылалась переменная a. В памяти он располагается в одном месте и теперь на него стала ссылаться и переменная b. А вот использование метода copy создало копию массива в новом месте в памяти, поэтому массив c изменения массива, на который ссылается переменная a, не затронули:"
      ]
    },
    {
      "cell_type": "code",
      "metadata": {
        "id": "uP1ee1k_75o5",
        "colab_type": "code",
        "colab": {}
      },
      "source": [
        "c"
      ],
      "execution_count": 0,
      "outputs": []
    },
    {
      "cell_type": "markdown",
      "metadata": {
        "id": "kBeqyifS86ll",
        "colab_type": "text"
      },
      "source": [
        "Из numpy массивов можно также создавать обычные плоские списки Python вот так:\n"
      ]
    },
    {
      "cell_type": "code",
      "metadata": {
        "id": "QGyihdQU9BD0",
        "colab_type": "code",
        "colab": {}
      },
      "source": [
        "a = np.array([1, 2, 3], float)\n",
        "a.tolist()"
      ],
      "execution_count": 0,
      "outputs": []
    },
    {
      "cell_type": "markdown",
      "metadata": {
        "id": "gBU6GI_V9MQy",
        "colab_type": "text"
      },
      "source": [
        "Или вот так:"
      ]
    },
    {
      "cell_type": "code",
      "metadata": {
        "id": "AFatlGyd9F01",
        "colab_type": "code",
        "colab": {}
      },
      "source": [
        "list(a)"
      ],
      "execution_count": 0,
      "outputs": []
    },
    {
      "cell_type": "markdown",
      "metadata": {
        "id": "64LB-OjU9wct",
        "colab_type": "text"
      },
      "source": [
        "Массив можно заполнить одинаковыми значениями:"
      ]
    },
    {
      "cell_type": "code",
      "metadata": {
        "id": "UgMxqTdp96hq",
        "colab_type": "code",
        "colab": {}
      },
      "source": [
        "a = np.array([1, 2, 3], float)\n",
        "a"
      ],
      "execution_count": 0,
      "outputs": []
    },
    {
      "cell_type": "code",
      "metadata": {
        "id": "vC5Lz3RQ9_f1",
        "colab_type": "code",
        "colab": {}
      },
      "source": [
        "a.fill(0)\n",
        "a"
      ],
      "execution_count": 0,
      "outputs": []
    },
    {
      "cell_type": "markdown",
      "metadata": {
        "id": "yOJX0O9y-FDW",
        "colab_type": "text"
      },
      "source": [
        "Транспонирование массивов также возможно, при этом создается новый массив:"
      ]
    },
    {
      "cell_type": "code",
      "metadata": {
        "id": "Z3l70S1e-G-0",
        "colab_type": "code",
        "colab": {}
      },
      "source": [
        "a = np.array(range(6), float).reshape((2, 3))\n",
        "a"
      ],
      "execution_count": 0,
      "outputs": []
    },
    {
      "cell_type": "code",
      "metadata": {
        "id": "f5cSRDrz-NDU",
        "colab_type": "code",
        "colab": {}
      },
      "source": [
        "a.transpose()"
      ],
      "execution_count": 0,
      "outputs": []
    },
    {
      "cell_type": "markdown",
      "metadata": {
        "id": "NFhQnjTO-Qer",
        "colab_type": "text"
      },
      "source": [
        "Многомерный массив можно переконвертировать в одномерный при помощи метода flatten:"
      ]
    },
    {
      "cell_type": "code",
      "metadata": {
        "id": "yNnJeatU-Txl",
        "colab_type": "code",
        "colab": {}
      },
      "source": [
        "a = np.array([[1, 2, 3], [4, 5, 6]], float)\n",
        "a"
      ],
      "execution_count": 0,
      "outputs": []
    },
    {
      "cell_type": "code",
      "metadata": {
        "id": "AE1rpwKU-Ybl",
        "colab_type": "code",
        "colab": {}
      },
      "source": [
        "a.flatten()"
      ],
      "execution_count": 0,
      "outputs": []
    },
    {
      "cell_type": "markdown",
      "metadata": {
        "id": "tBlWijRw-a8L",
        "colab_type": "text"
      },
      "source": [
        "Два или больше массивов можно сконкатенировать при помощи метода concatenate:"
      ]
    },
    {
      "cell_type": "code",
      "metadata": {
        "id": "6RjTh80P-dJZ",
        "colab_type": "code",
        "colab": {}
      },
      "source": [
        "a = np.array([1,2], float)\n",
        "b = np.array([3,4,5,6], float)\n",
        "c = np.array([7,8,9], float)\n",
        "np.concatenate((a, b, c))"
      ],
      "execution_count": 0,
      "outputs": []
    },
    {
      "cell_type": "markdown",
      "metadata": {
        "id": "UyR0rQKH-lJB",
        "colab_type": "text"
      },
      "source": [
        "Если массив не одномерный, можно задать ось, по которой будет происходить соединение. По умолчанию (не задавая значения оси), соединение будет происходить по первому измерению:"
      ]
    },
    {
      "cell_type": "code",
      "metadata": {
        "id": "C3m3n0Qv-kY4",
        "colab_type": "code",
        "colab": {}
      },
      "source": [
        "a = np.array([[1, 2], [3, 4]], float)\n",
        "b = np.array([[5, 6], [7,8]], float)\n",
        "np.concatenate((a,b))"
      ],
      "execution_count": 0,
      "outputs": []
    },
    {
      "cell_type": "code",
      "metadata": {
        "id": "KOYyVvIb-tEV",
        "colab_type": "code",
        "colab": {}
      },
      "source": [
        "np.concatenate((a,b), axis=0)"
      ],
      "execution_count": 0,
      "outputs": []
    },
    {
      "cell_type": "code",
      "metadata": {
        "id": "fTamFkZS-xOe",
        "colab_type": "code",
        "colab": {}
      },
      "source": [
        "np.concatenate((a,b), axis=1)"
      ],
      "execution_count": 0,
      "outputs": []
    },
    {
      "cell_type": "markdown",
      "metadata": {
        "id": "8Up0GuaT-0I7",
        "colab_type": "text"
      },
      "source": [
        "Размерность массива может быть увеличена при использовании константы newaxis в квадратных скобках:"
      ]
    },
    {
      "cell_type": "code",
      "metadata": {
        "id": "HzRgqvX--4AY",
        "colab_type": "code",
        "colab": {}
      },
      "source": [
        "a = np.array([1, 2, 3], float)\n",
        "a"
      ],
      "execution_count": 0,
      "outputs": []
    },
    {
      "cell_type": "code",
      "metadata": {
        "id": "8cr8WZL0-77P",
        "colab_type": "code",
        "colab": {}
      },
      "source": [
        "a[:,np.newaxis]"
      ],
      "execution_count": 0,
      "outputs": []
    },
    {
      "cell_type": "code",
      "metadata": {
        "id": "yVzJw7_O_BBk",
        "colab_type": "code",
        "colab": {}
      },
      "source": [
        "a[:,np.newaxis].shape"
      ],
      "execution_count": 0,
      "outputs": []
    },
    {
      "cell_type": "code",
      "metadata": {
        "id": "atPVBZr9_DYm",
        "colab_type": "code",
        "colab": {}
      },
      "source": [
        "b[np.newaxis,:]"
      ],
      "execution_count": 0,
      "outputs": []
    },
    {
      "cell_type": "code",
      "metadata": {
        "id": "759yBF9J_GSq",
        "colab_type": "code",
        "colab": {}
      },
      "source": [
        "b[np.newaxis,:].shape"
      ],
      "execution_count": 0,
      "outputs": []
    },
    {
      "cell_type": "markdown",
      "metadata": {
        "id": "YJRlgT51_N5o",
        "colab_type": "text"
      },
      "source": [
        "Заметьте, тут каждый массив двумерный; созданный при помощи newaxis имеет размерность один. Метод newaxis подходит для удобного создания надлежаще-мерных массивов в векторной и матричной математике."
      ]
    },
    {
      "cell_type": "markdown",
      "metadata": {
        "id": "T1yEkqoy_a93",
        "colab_type": "text"
      },
      "source": [
        "### Другие пути создания массивов"
      ]
    }
  ]
}