{
  "nbformat": 4,
  "nbformat_minor": 0,
  "metadata": {
    "colab": {
      "name": "Lesson3.ipynb",
      "provenance": [],
      "collapsed_sections": []
    },
    "kernelspec": {
      "name": "python3",
      "display_name": "Python 3"
    }
  },
  "cells": [
    {
      "cell_type": "markdown",
      "metadata": {
        "id": "KMdWnE3suEiq",
        "colab_type": "text"
      },
      "source": [
        "# Лекция 3. Библиотеки Numpy, Scipy, Pandas, Scikit-learn и matplotlib"
      ]
    },
    {
      "cell_type": "markdown",
      "metadata": {
        "id": "YgGJQTe4uOTn",
        "colab_type": "text"
      },
      "source": [
        "В данной лекции будут рассмотрены следующие библиотеки для Python.\n",
        "\n",
        "**NumPy** - это библиотека, которая предназначена для различных операций с массивами. Она предоставляет собственные массивы, которые отличаются от обычных плоских списков в Python в части того как они хранятся и обрабатываются. В памяти элементы такого массива располагаются рядом, что обеспечивает быстрый доступ к ним. NumPy также поддерживает subindexing, то есть выражение a[0, :, 2] выдаст все элементы массива, где первый индекс равен 0, а третий индекс равен 2.\n",
        "\n",
        "Кроме того, NumPy предоставляет векторизованные математические функции. Когда, например, при вызове numpy.sin(a), функция синуса применяется к каждому элементу массива a. Это делается с использованием скомпилированного кода на C, поэтому он работает намного быстрее, чем цикл Python for. Даже быстрее, чем списки.\n",
        "\n",
        "**SciPy** является библиотекой для научных вычислений: интегрирование, интерполяция, обработка сигналов, линейные алгебраические вычисления, статистические функции, обработка изображений, поиск экстремумов функций и т.д. Строится поверх библиотеки NumPy, являющейся инструментом более низкого уровня.\n",
        "\n",
        "**Pandas** - предназначена для анализа числовых таблиц и временных рядов. Может использоваться для исследовательского анализа данных, статистики, визуализации. Строится поверх библиотеки NumPy, являющейся инструментом более низкого уровня.\n",
        "\n",
        "**Scikit-learn** - это коллекция готовых алгоритмов машинного обучения. Строится поверх библиотек NumPy и SciPy, являющихся инструментами более низкого уровня."
      ]
    },
    {
      "cell_type": "markdown",
      "metadata": {
        "id": "7au1K5lp1zj5",
        "colab_type": "text"
      },
      "source": [
        "## Для чего использовать каждую из библиотек?"
      ]
    },
    {
      "cell_type": "markdown",
      "metadata": {
        "id": "q9piS_Lv139M",
        "colab_type": "text"
      },
      "source": [
        "* Если необходимо проанализировать данные и понять, что в них, то используется Pandas.\n",
        "\n",
        "* Если Вы хотите использовать эти данные для обучения алгоритмов машинного обучения, используйте Scikit-learn.\n",
        "\n",
        "* Если необходимо произвести какие-либо научные и инженерные вычисления, то приходит на помощь SciPy.\n",
        "\n",
        "* Если необходимо визуализировать данные графически, используйте matplotlib.\n",
        "\n",
        "И все эти библиотеки используют Numpy! Это означает, что вы должны при операциях со всеми Вашими данными использовать структуры данных NumPy."
      ]
    },
    {
      "cell_type": "markdown",
      "metadata": {
        "id": "YbpTrPcT2jdR",
        "colab_type": "text"
      },
      "source": [
        "## NumPy"
      ]
    },
    {
      "cell_type": "markdown",
      "metadata": {
        "id": "AbduDUbo2nBY",
        "colab_type": "text"
      },
      "source": [
        "NumPy это open-source модуль для Python, который предоставляет общие математические и числовые операции в виде пре-скомпилированных, быстрых функций. Они объединяются в высокоуровневые пакеты. Они обеспечивают функционал, который можно сравнить с функционалом MatLab. NumPy (Numeric Python) предоставляет базовые методы для манипуляции с большими массивами и матрицами.\n",
        "\n",
        "Сообщество NumPy и SciPy поддерживает онлайн руководство, включающие гайды и туториалы, тут: http://docs.scipy.org/doc."
      ]
    },
    {
      "cell_type": "markdown",
      "metadata": {
        "id": "eORgLxjN3PIb",
        "colab_type": "text"
      },
      "source": [
        "### Импорт модуля numpy"
      ]
    },
    {
      "cell_type": "markdown",
      "metadata": {
        "id": "RbKNEhUn3gY2",
        "colab_type": "text"
      },
      "source": [
        "Есть несколько путей импорта. Стандартный метод это — использовать простое выражение:"
      ]
    },
    {
      "cell_type": "code",
      "metadata": {
        "id": "TTp4pne-3lw0",
        "colab_type": "code",
        "colab": {}
      },
      "source": [
        "import numpy # не исполняйте код, нажатием на кнопку >"
      ],
      "execution_count": 0,
      "outputs": []
    },
    {
      "cell_type": "markdown",
      "metadata": {
        "id": "HdkEJlkw3qVn",
        "colab_type": "text"
      },
      "source": [
        "Тем не менее, для большого количества вызовов функций numpy, становится утомительно писать numpy.X снова и снова. Вместо этого намного легче сделать это так:"
      ]
    },
    {
      "cell_type": "code",
      "metadata": {
        "id": "monyI3gy3v7k",
        "colab_type": "code",
        "colab": {}
      },
      "source": [
        "import numpy as np  # здесь можно нажать >, так как далее мы будем работать с numpy через синоним np. Это наиболее оптимальный вариант и best practice"
      ],
      "execution_count": 0,
      "outputs": []
    },
    {
      "cell_type": "markdown",
      "metadata": {
        "id": "YE6yAf8-3x7j",
        "colab_type": "text"
      },
      "source": [
        "Это выражение позволяет нам получать доступ к numpy объектам используя np.X вместо numpy.X. Также можно импортировать numpy прямо в используемое пространство имен, чтобы вообще не использовать функции через точку, а вызывать их напрямую:"
      ]
    },
    {
      "cell_type": "code",
      "metadata": {
        "id": "Wb7_RGKU33qQ",
        "colab_type": "code",
        "colab": {}
      },
      "source": [
        "from numpy import * # не исполняйте код, нажатием на кнопку >"
      ],
      "execution_count": 0,
      "outputs": []
    },
    {
      "cell_type": "markdown",
      "metadata": {
        "id": "1G1NvoeH38FP",
        "colab_type": "text"
      },
      "source": [
        "Однако, этот вариант не приветствуется в программировании на python, так как убирает некоторые полезные структуры, которые модуль предоставляет. До конца этого туториала мы будем использовать второй вариант импорта (import numpy as np)."
      ]
    },
    {
      "cell_type": "markdown",
      "metadata": {
        "id": "A-JTC2lW4m9m",
        "colab_type": "text"
      },
      "source": [
        "### Массивы"
      ]
    },
    {
      "cell_type": "markdown",
      "metadata": {
        "id": "Xuf0dNgc4qFx",
        "colab_type": "text"
      },
      "source": [
        "Главной особенностью numpy является объект array. Массивы схожи со списками в python, исключая тот факт, что элементы массива должны иметь одинаковый тип данных, как float и int. С массивами можно проводить числовые операции с большим объемом информации в разы быстрее и, главное, намного эффективнее чем со списками.\n",
        "\n",
        "Создание массива из списка:"
      ]
    },
    {
      "cell_type": "code",
      "metadata": {
        "id": "Z41nxA8U4t1J",
        "colab_type": "code",
        "colab": {
          "base_uri": "https://localhost:8080/",
          "height": 34
        },
        "outputId": "2b162abb-a213-476e-d64d-f98bf4b8dd69"
      },
      "source": [
        "a = np.array([1, 4, 5, 8], float)\n",
        "a"
      ],
      "execution_count": 6,
      "outputs": [
        {
          "output_type": "execute_result",
          "data": {
            "text/plain": [
              "array([1., 4., 5., 8.])"
            ]
          },
          "metadata": {
            "tags": []
          },
          "execution_count": 6
        }
      ]
    },
    {
      "cell_type": "code",
      "metadata": {
        "id": "XJ7UBnGR487c",
        "colab_type": "code",
        "colab": {
          "base_uri": "https://localhost:8080/",
          "height": 34
        },
        "outputId": "c871295d-f71e-4611-ce6a-55fa5517ab40"
      },
      "source": [
        "type(a)"
      ],
      "execution_count": 7,
      "outputs": [
        {
          "output_type": "execute_result",
          "data": {
            "text/plain": [
              "numpy.ndarray"
            ]
          },
          "metadata": {
            "tags": []
          },
          "execution_count": 7
        }
      ]
    },
    {
      "cell_type": "markdown",
      "metadata": {
        "id": "JXbQLlEf5E7i",
        "colab_type": "text"
      },
      "source": [
        "Здесь функция array принимает два аргумента: список для конвертации в массив и тип для каждого элемента. Ко всем элементам можно получить доступ и манипулировать ими также, как вы бы это делали с обычными списками:"
      ]
    },
    {
      "cell_type": "code",
      "metadata": {
        "id": "v2clwy-K5IW7",
        "colab_type": "code",
        "colab": {
          "base_uri": "https://localhost:8080/",
          "height": 34
        },
        "outputId": "aa139a2a-0dd2-4f5f-865c-f49747a97c7f"
      },
      "source": [
        "a[:2]\n"
      ],
      "execution_count": 8,
      "outputs": [
        {
          "output_type": "execute_result",
          "data": {
            "text/plain": [
              "array([1., 4.])"
            ]
          },
          "metadata": {
            "tags": []
          },
          "execution_count": 8
        }
      ]
    },
    {
      "cell_type": "code",
      "metadata": {
        "id": "3HhtDxrV5P2B",
        "colab_type": "code",
        "colab": {
          "base_uri": "https://localhost:8080/",
          "height": 34
        },
        "outputId": "10cffb88-cbb6-44db-e269-044e56ea1b78"
      },
      "source": [
        "a[3]"
      ],
      "execution_count": 9,
      "outputs": [
        {
          "output_type": "execute_result",
          "data": {
            "text/plain": [
              "8.0"
            ]
          },
          "metadata": {
            "tags": []
          },
          "execution_count": 9
        }
      ]
    },
    {
      "cell_type": "code",
      "metadata": {
        "id": "FhgJM1xx5UoS",
        "colab_type": "code",
        "colab": {
          "base_uri": "https://localhost:8080/",
          "height": 34
        },
        "outputId": "ccf4159b-f4e5-46cf-e71a-b1407ebe7d52"
      },
      "source": [
        "a[0] = 5.\n",
        "a"
      ],
      "execution_count": 10,
      "outputs": [
        {
          "output_type": "execute_result",
          "data": {
            "text/plain": [
              "array([5., 4., 5., 8.])"
            ]
          },
          "metadata": {
            "tags": []
          },
          "execution_count": 10
        }
      ]
    },
    {
      "cell_type": "markdown",
      "metadata": {
        "id": "tUg31loB5g_H",
        "colab_type": "text"
      },
      "source": [
        "Массивы могут быть и многомерными. В отличии от списков можно задавать команды в скобках. Вот пример двумерного массива (матрица):"
      ]
    },
    {
      "cell_type": "code",
      "metadata": {
        "id": "a1GGsMe95i0d",
        "colab_type": "code",
        "colab": {
          "base_uri": "https://localhost:8080/",
          "height": 51
        },
        "outputId": "e0f2b1fa-130a-49b5-c7d8-89094f8382ed"
      },
      "source": [
        "a = np.array([[1, 2, 3], [4, 5, 6]], float)\n",
        "a"
      ],
      "execution_count": 11,
      "outputs": [
        {
          "output_type": "execute_result",
          "data": {
            "text/plain": [
              "array([[1., 2., 3.],\n",
              "       [4., 5., 6.]])"
            ]
          },
          "metadata": {
            "tags": []
          },
          "execution_count": 11
        }
      ]
    },
    {
      "cell_type": "code",
      "metadata": {
        "id": "ECwvznxg5nKT",
        "colab_type": "code",
        "colab": {
          "base_uri": "https://localhost:8080/",
          "height": 34
        },
        "outputId": "7ea61fbe-44e7-4a9b-dd31-18ee61108d85"
      },
      "source": [
        "a[0,0]"
      ],
      "execution_count": 12,
      "outputs": [
        {
          "output_type": "execute_result",
          "data": {
            "text/plain": [
              "1.0"
            ]
          },
          "metadata": {
            "tags": []
          },
          "execution_count": 12
        }
      ]
    },
    {
      "cell_type": "code",
      "metadata": {
        "id": "eC_3237u5pdk",
        "colab_type": "code",
        "colab": {
          "base_uri": "https://localhost:8080/",
          "height": 34
        },
        "outputId": "09dbd5d9-a419-425e-bc92-6c32ff95d7d6"
      },
      "source": [
        "a[0,1]"
      ],
      "execution_count": 13,
      "outputs": [
        {
          "output_type": "execute_result",
          "data": {
            "text/plain": [
              "2.0"
            ]
          },
          "metadata": {
            "tags": []
          },
          "execution_count": 13
        }
      ]
    },
    {
      "cell_type": "markdown",
      "metadata": {
        "id": "s-BwQIwm5tSQ",
        "colab_type": "text"
      },
      "source": [
        "Array slicing работает с многомерными массивами аналогично, как и с одномерными, применяя каждый срез, как фильтр для установленного измерения. Используйте \":\" в измерении для указывания использования всех элементов этого измерения:"
      ]
    },
    {
      "cell_type": "code",
      "metadata": {
        "id": "8k4SUbNL54P4",
        "colab_type": "code",
        "colab": {
          "base_uri": "https://localhost:8080/",
          "height": 34
        },
        "outputId": "1de6d678-cbb9-4b0c-aa31-f209872e564d"
      },
      "source": [
        "a = np.array([[1, 2, 3], [4, 5, 6]], float)\n",
        "a[1,:]"
      ],
      "execution_count": 14,
      "outputs": [
        {
          "output_type": "execute_result",
          "data": {
            "text/plain": [
              "array([4., 5., 6.])"
            ]
          },
          "metadata": {
            "tags": []
          },
          "execution_count": 14
        }
      ]
    },
    {
      "cell_type": "code",
      "metadata": {
        "id": "Rl77IUHO595x",
        "colab_type": "code",
        "colab": {
          "base_uri": "https://localhost:8080/",
          "height": 34
        },
        "outputId": "95d9bed1-7bb1-4034-c8f0-98b5f6d5cdd5"
      },
      "source": [
        "a[:,2]"
      ],
      "execution_count": 15,
      "outputs": [
        {
          "output_type": "execute_result",
          "data": {
            "text/plain": [
              "array([3., 6.])"
            ]
          },
          "metadata": {
            "tags": []
          },
          "execution_count": 15
        }
      ]
    },
    {
      "cell_type": "code",
      "metadata": {
        "id": "lPZ1QhCc6SId",
        "colab_type": "code",
        "colab": {
          "base_uri": "https://localhost:8080/",
          "height": 34
        },
        "outputId": "b2c6cc2c-f227-4bea-d34c-4b3092b2be8e"
      },
      "source": [
        "a[-1:, -2:]"
      ],
      "execution_count": 16,
      "outputs": [
        {
          "output_type": "execute_result",
          "data": {
            "text/plain": [
              "array([[5., 6.]])"
            ]
          },
          "metadata": {
            "tags": []
          },
          "execution_count": 16
        }
      ]
    },
    {
      "cell_type": "markdown",
      "metadata": {
        "id": "cLDo7O5n6aBU",
        "colab_type": "text"
      },
      "source": [
        "Метод shape возвращает количество строк и столбцов в матрице:"
      ]
    },
    {
      "cell_type": "code",
      "metadata": {
        "id": "j4lhcW5K6cw8",
        "colab_type": "code",
        "colab": {
          "base_uri": "https://localhost:8080/",
          "height": 34
        },
        "outputId": "d158d2f1-8025-4047-a046-89a07dc664bd"
      },
      "source": [
        "a.shape"
      ],
      "execution_count": 17,
      "outputs": [
        {
          "output_type": "execute_result",
          "data": {
            "text/plain": [
              "(2, 3)"
            ]
          },
          "metadata": {
            "tags": []
          },
          "execution_count": 17
        }
      ]
    },
    {
      "cell_type": "markdown",
      "metadata": {
        "id": "IywyNXLA6vYK",
        "colab_type": "text"
      },
      "source": [
        "Метод dtype возвращает тип переменных, хранящихся в массиве:"
      ]
    },
    {
      "cell_type": "code",
      "metadata": {
        "id": "GL8rjW8L6waO",
        "colab_type": "code",
        "colab": {
          "base_uri": "https://localhost:8080/",
          "height": 34
        },
        "outputId": "940007df-721d-4ae6-b781-871e2fdefc8b"
      },
      "source": [
        "a.dtype"
      ],
      "execution_count": 18,
      "outputs": [
        {
          "output_type": "execute_result",
          "data": {
            "text/plain": [
              "dtype('float64')"
            ]
          },
          "metadata": {
            "tags": []
          },
          "execution_count": 18
        }
      ]
    },
    {
      "cell_type": "markdown",
      "metadata": {
        "id": "mykIZ4y4641E",
        "colab_type": "text"
      },
      "source": [
        "Тут float64, это числовой тип данных в numpy, который используется для хранения вещественных чисел двойной точности. Так как же float в Python.\n",
        "\n",
        "Метод len возвращает длину первого измерения (оси):"
      ]
    },
    {
      "cell_type": "code",
      "metadata": {
        "id": "amHn7lcS672s",
        "colab_type": "code",
        "colab": {
          "base_uri": "https://localhost:8080/",
          "height": 34
        },
        "outputId": "ed92ee1c-1f52-429b-dee6-9a676de96820"
      },
      "source": [
        "a = np.array([[1, 2, 3], [4, 5, 6]], float)\n",
        "len(a)"
      ],
      "execution_count": 19,
      "outputs": [
        {
          "output_type": "execute_result",
          "data": {
            "text/plain": [
              "2"
            ]
          },
          "metadata": {
            "tags": []
          },
          "execution_count": 19
        }
      ]
    },
    {
      "cell_type": "markdown",
      "metadata": {
        "id": "jJXxuWTN7Bdb",
        "colab_type": "text"
      },
      "source": [
        "Метод in используется для проверки на наличие элемента в массиве:"
      ]
    },
    {
      "cell_type": "code",
      "metadata": {
        "id": "G7T9gET37C1m",
        "colab_type": "code",
        "colab": {
          "base_uri": "https://localhost:8080/",
          "height": 34
        },
        "outputId": "80ec372a-2953-4665-f9d0-deb7a56731f5"
      },
      "source": [
        "a = np.array([[1, 2, 3], [4, 5, 6]], float)\n",
        "2 in a"
      ],
      "execution_count": 23,
      "outputs": [
        {
          "output_type": "execute_result",
          "data": {
            "text/plain": [
              "True"
            ]
          },
          "metadata": {
            "tags": []
          },
          "execution_count": 23
        }
      ]
    },
    {
      "cell_type": "code",
      "metadata": {
        "id": "9KrXsJJ97Mxu",
        "colab_type": "code",
        "colab": {
          "base_uri": "https://localhost:8080/",
          "height": 34
        },
        "outputId": "e8b031c2-985c-450d-fac0-d4106edab424"
      },
      "source": [
        "0 in a"
      ],
      "execution_count": 24,
      "outputs": [
        {
          "output_type": "execute_result",
          "data": {
            "text/plain": [
              "False"
            ]
          },
          "metadata": {
            "tags": []
          },
          "execution_count": 24
        }
      ]
    },
    {
      "cell_type": "markdown",
      "metadata": {
        "id": "qAUroPB17Qt1",
        "colab_type": "text"
      },
      "source": [
        "Массивы можно переформировать при помощи метода, который задает новый многомерный массив. Следуя следующему примеру, мы переформатируем одномерный массив из десяти элементов во двумерный массив, состоящий из пяти строк и двух столбцов:"
      ]
    },
    {
      "cell_type": "code",
      "metadata": {
        "id": "RJ5r_oqA7XJ6",
        "colab_type": "code",
        "colab": {
          "base_uri": "https://localhost:8080/",
          "height": 34
        },
        "outputId": "1f3102eb-eaf7-4e27-c4a3-3ffcd4cda397"
      },
      "source": [
        "a = np.array(range(10), float)\n",
        "a"
      ],
      "execution_count": 25,
      "outputs": [
        {
          "output_type": "execute_result",
          "data": {
            "text/plain": [
              "array([0., 1., 2., 3., 4., 5., 6., 7., 8., 9.])"
            ]
          },
          "metadata": {
            "tags": []
          },
          "execution_count": 25
        }
      ]
    },
    {
      "cell_type": "code",
      "metadata": {
        "id": "HZqQnZOM7a5q",
        "colab_type": "code",
        "colab": {
          "base_uri": "https://localhost:8080/",
          "height": 102
        },
        "outputId": "39e6370f-5bc7-49f2-dbdb-f05f74d43b68"
      },
      "source": [
        "a = a.reshape((5, 2))\n",
        "a"
      ],
      "execution_count": 27,
      "outputs": [
        {
          "output_type": "execute_result",
          "data": {
            "text/plain": [
              "array([[0., 1.],\n",
              "       [2., 3.],\n",
              "       [4., 5.],\n",
              "       [6., 7.],\n",
              "       [8., 9.]])"
            ]
          },
          "metadata": {
            "tags": []
          },
          "execution_count": 27
        }
      ]
    },
    {
      "cell_type": "code",
      "metadata": {
        "id": "3EKesJ_h7gRt",
        "colab_type": "code",
        "colab": {
          "base_uri": "https://localhost:8080/",
          "height": 34
        },
        "outputId": "2d840c17-ec31-4e67-d6a5-3ffd9bd6e6c5"
      },
      "source": [
        "a.shape"
      ],
      "execution_count": 28,
      "outputs": [
        {
          "output_type": "execute_result",
          "data": {
            "text/plain": [
              "(5, 2)"
            ]
          },
          "metadata": {
            "tags": []
          },
          "execution_count": 28
        }
      ]
    },
    {
      "cell_type": "markdown",
      "metadata": {
        "id": "zy2nFb5m7kF1",
        "colab_type": "text"
      },
      "source": [
        "Обратите внимание, метод reshape создает новый массив, а не модифицирует оригинальный.\n",
        "\n",
        "Имейте ввиду, связывание имен в Python работает и с массивами. Метод copy используется для создания копии существующего массива в памяти:"
      ]
    },
    {
      "cell_type": "code",
      "metadata": {
        "id": "cO9RFS9u7rS_",
        "colab_type": "code",
        "colab": {
          "base_uri": "https://localhost:8080/",
          "height": 34
        },
        "outputId": "f270b6d7-fdff-4c2c-b1aa-2509e05a22ac"
      },
      "source": [
        "a = np.array([1, 2, 3], float)\n",
        "b = a\n",
        "c = a.copy()\n",
        "a[0] = 0\n",
        "a"
      ],
      "execution_count": 29,
      "outputs": [
        {
          "output_type": "execute_result",
          "data": {
            "text/plain": [
              "array([0., 2., 3.])"
            ]
          },
          "metadata": {
            "tags": []
          },
          "execution_count": 29
        }
      ]
    },
    {
      "cell_type": "code",
      "metadata": {
        "id": "AiBI8V0371wR",
        "colab_type": "code",
        "colab": {
          "base_uri": "https://localhost:8080/",
          "height": 34
        },
        "outputId": "9a36d368-4c1b-4872-faa9-06b036563cf1"
      },
      "source": [
        "b"
      ],
      "execution_count": 30,
      "outputs": [
        {
          "output_type": "execute_result",
          "data": {
            "text/plain": [
              "array([0., 2., 3.])"
            ]
          },
          "metadata": {
            "tags": []
          },
          "execution_count": 30
        }
      ]
    },
    {
      "cell_type": "markdown",
      "metadata": {
        "id": "IX1agvBQ8CHB",
        "colab_type": "text"
      },
      "source": [
        "Обратите внимание, что после того, как мы выполнили a[0] = 0, массив, на который ссылается переменая b также изменился. Это объясняется тем, что в выражении b = a просто была создана ссылка на один и тот же массив, на который ссылалась переменная a. В памяти он располагается в одном месте и теперь на него стала ссылаться и переменная b. А вот использование метода copy создало копию массива в новом месте в памяти, поэтому массив c изменения массива, на который ссылается переменная a, не затронули:"
      ]
    },
    {
      "cell_type": "code",
      "metadata": {
        "id": "uP1ee1k_75o5",
        "colab_type": "code",
        "colab": {
          "base_uri": "https://localhost:8080/",
          "height": 34
        },
        "outputId": "8f4dc158-6796-462f-8820-1a443082ed92"
      },
      "source": [
        "c"
      ],
      "execution_count": 31,
      "outputs": [
        {
          "output_type": "execute_result",
          "data": {
            "text/plain": [
              "array([1., 2., 3.])"
            ]
          },
          "metadata": {
            "tags": []
          },
          "execution_count": 31
        }
      ]
    },
    {
      "cell_type": "markdown",
      "metadata": {
        "id": "kBeqyifS86ll",
        "colab_type": "text"
      },
      "source": [
        "Из numpy массивов можно также создавать обычные плоские списки Python вот так:\n"
      ]
    },
    {
      "cell_type": "code",
      "metadata": {
        "id": "QGyihdQU9BD0",
        "colab_type": "code",
        "colab": {
          "base_uri": "https://localhost:8080/",
          "height": 34
        },
        "outputId": "33b8a0f8-b771-4de5-fc42-14ce341f8114"
      },
      "source": [
        "a = np.array([1, 2, 3], float)\n",
        "a.tolist()"
      ],
      "execution_count": 32,
      "outputs": [
        {
          "output_type": "execute_result",
          "data": {
            "text/plain": [
              "[1.0, 2.0, 3.0]"
            ]
          },
          "metadata": {
            "tags": []
          },
          "execution_count": 32
        }
      ]
    },
    {
      "cell_type": "markdown",
      "metadata": {
        "id": "gBU6GI_V9MQy",
        "colab_type": "text"
      },
      "source": [
        "Или вот так:"
      ]
    },
    {
      "cell_type": "code",
      "metadata": {
        "id": "AFatlGyd9F01",
        "colab_type": "code",
        "colab": {
          "base_uri": "https://localhost:8080/",
          "height": 34
        },
        "outputId": "237eaba8-4098-4175-de69-b402513dc41d"
      },
      "source": [
        "list(a)"
      ],
      "execution_count": 33,
      "outputs": [
        {
          "output_type": "execute_result",
          "data": {
            "text/plain": [
              "[1.0, 2.0, 3.0]"
            ]
          },
          "metadata": {
            "tags": []
          },
          "execution_count": 33
        }
      ]
    },
    {
      "cell_type": "markdown",
      "metadata": {
        "id": "64LB-OjU9wct",
        "colab_type": "text"
      },
      "source": [
        "Массив можно заполнить одинаковыми значениями:"
      ]
    },
    {
      "cell_type": "code",
      "metadata": {
        "id": "UgMxqTdp96hq",
        "colab_type": "code",
        "colab": {
          "base_uri": "https://localhost:8080/",
          "height": 34
        },
        "outputId": "10d1c6c0-475d-4fe7-9324-c1ed8c016668"
      },
      "source": [
        "a = np.array([1, 2, 3], float)\n",
        "a"
      ],
      "execution_count": 38,
      "outputs": [
        {
          "output_type": "execute_result",
          "data": {
            "text/plain": [
              "array([1., 2., 3.])"
            ]
          },
          "metadata": {
            "tags": []
          },
          "execution_count": 38
        }
      ]
    },
    {
      "cell_type": "code",
      "metadata": {
        "id": "vC5Lz3RQ9_f1",
        "colab_type": "code",
        "colab": {
          "base_uri": "https://localhost:8080/",
          "height": 34
        },
        "outputId": "3e7c1651-20ba-40e3-bd29-88e0985fd684"
      },
      "source": [
        "a.fill(0)\n",
        "a"
      ],
      "execution_count": 39,
      "outputs": [
        {
          "output_type": "execute_result",
          "data": {
            "text/plain": [
              "array([0., 0., 0.])"
            ]
          },
          "metadata": {
            "tags": []
          },
          "execution_count": 39
        }
      ]
    },
    {
      "cell_type": "markdown",
      "metadata": {
        "id": "yOJX0O9y-FDW",
        "colab_type": "text"
      },
      "source": [
        "Транспонирование массивов также возможно, при этом создается новый массив:"
      ]
    },
    {
      "cell_type": "code",
      "metadata": {
        "id": "Z3l70S1e-G-0",
        "colab_type": "code",
        "colab": {
          "base_uri": "https://localhost:8080/",
          "height": 51
        },
        "outputId": "f18e49de-c2fb-4949-a6ab-a297e05cc887"
      },
      "source": [
        "a = np.array(range(6), float).reshape((2, 3))\n",
        "a"
      ],
      "execution_count": 40,
      "outputs": [
        {
          "output_type": "execute_result",
          "data": {
            "text/plain": [
              "array([[0., 1., 2.],\n",
              "       [3., 4., 5.]])"
            ]
          },
          "metadata": {
            "tags": []
          },
          "execution_count": 40
        }
      ]
    },
    {
      "cell_type": "code",
      "metadata": {
        "id": "f5cSRDrz-NDU",
        "colab_type": "code",
        "colab": {
          "base_uri": "https://localhost:8080/",
          "height": 68
        },
        "outputId": "f2517ca7-0497-47b7-ef08-26f769186a84"
      },
      "source": [
        "a.transpose()"
      ],
      "execution_count": 41,
      "outputs": [
        {
          "output_type": "execute_result",
          "data": {
            "text/plain": [
              "array([[0., 3.],\n",
              "       [1., 4.],\n",
              "       [2., 5.]])"
            ]
          },
          "metadata": {
            "tags": []
          },
          "execution_count": 41
        }
      ]
    },
    {
      "cell_type": "markdown",
      "metadata": {
        "id": "NFhQnjTO-Qer",
        "colab_type": "text"
      },
      "source": [
        "Многомерный массив можно переконвертировать в одномерный при помощи метода flatten:"
      ]
    },
    {
      "cell_type": "code",
      "metadata": {
        "id": "yNnJeatU-Txl",
        "colab_type": "code",
        "colab": {
          "base_uri": "https://localhost:8080/",
          "height": 51
        },
        "outputId": "789c6e42-9834-4dfe-d629-4d5ac929b9d0"
      },
      "source": [
        "a = np.array([[1, 2, 3], [4, 5, 6]], float)\n",
        "a"
      ],
      "execution_count": 42,
      "outputs": [
        {
          "output_type": "execute_result",
          "data": {
            "text/plain": [
              "array([[1., 2., 3.],\n",
              "       [4., 5., 6.]])"
            ]
          },
          "metadata": {
            "tags": []
          },
          "execution_count": 42
        }
      ]
    },
    {
      "cell_type": "code",
      "metadata": {
        "id": "AE1rpwKU-Ybl",
        "colab_type": "code",
        "colab": {
          "base_uri": "https://localhost:8080/",
          "height": 34
        },
        "outputId": "67b97f63-69ac-4e77-e8a2-2b4f235c5035"
      },
      "source": [
        "a.flatten()"
      ],
      "execution_count": 43,
      "outputs": [
        {
          "output_type": "execute_result",
          "data": {
            "text/plain": [
              "array([1., 2., 3., 4., 5., 6.])"
            ]
          },
          "metadata": {
            "tags": []
          },
          "execution_count": 43
        }
      ]
    },
    {
      "cell_type": "markdown",
      "metadata": {
        "id": "tBlWijRw-a8L",
        "colab_type": "text"
      },
      "source": [
        "Два или больше массивов можно сконкатенировать при помощи метода concatenate:"
      ]
    },
    {
      "cell_type": "code",
      "metadata": {
        "id": "6RjTh80P-dJZ",
        "colab_type": "code",
        "colab": {
          "base_uri": "https://localhost:8080/",
          "height": 34
        },
        "outputId": "34b9fd97-a565-43bb-afd0-424b0d0539d8"
      },
      "source": [
        "a = np.array([1,2], float)\n",
        "b = np.array([3,4,5,6], float)\n",
        "c = np.array([7,8,9], float)\n",
        "np.concatenate((a, b, c))"
      ],
      "execution_count": 44,
      "outputs": [
        {
          "output_type": "execute_result",
          "data": {
            "text/plain": [
              "array([1., 2., 3., 4., 5., 6., 7., 8., 9.])"
            ]
          },
          "metadata": {
            "tags": []
          },
          "execution_count": 44
        }
      ]
    },
    {
      "cell_type": "markdown",
      "metadata": {
        "id": "UyR0rQKH-lJB",
        "colab_type": "text"
      },
      "source": [
        "Если массив не одномерный, можно задать ось, по которой будет происходить соединение. По умолчанию (не задавая значения оси), соединение будет происходить по первому измерению:"
      ]
    },
    {
      "cell_type": "code",
      "metadata": {
        "id": "C3m3n0Qv-kY4",
        "colab_type": "code",
        "colab": {
          "base_uri": "https://localhost:8080/",
          "height": 85
        },
        "outputId": "c7b3af78-a151-4dcc-cd9c-d2dd0bf26f28"
      },
      "source": [
        "a = np.array([[1, 2], [3, 4]], float)\n",
        "b = np.array([[5, 6], [7,8]], float)\n",
        "np.concatenate((a,b))"
      ],
      "execution_count": 45,
      "outputs": [
        {
          "output_type": "execute_result",
          "data": {
            "text/plain": [
              "array([[1., 2.],\n",
              "       [3., 4.],\n",
              "       [5., 6.],\n",
              "       [7., 8.]])"
            ]
          },
          "metadata": {
            "tags": []
          },
          "execution_count": 45
        }
      ]
    },
    {
      "cell_type": "code",
      "metadata": {
        "id": "KOYyVvIb-tEV",
        "colab_type": "code",
        "colab": {
          "base_uri": "https://localhost:8080/",
          "height": 85
        },
        "outputId": "1a56740c-ec26-4a0b-c669-4c2b80f6b6d9"
      },
      "source": [
        "np.concatenate((a,b), axis=0)"
      ],
      "execution_count": 46,
      "outputs": [
        {
          "output_type": "execute_result",
          "data": {
            "text/plain": [
              "array([[1., 2.],\n",
              "       [3., 4.],\n",
              "       [5., 6.],\n",
              "       [7., 8.]])"
            ]
          },
          "metadata": {
            "tags": []
          },
          "execution_count": 46
        }
      ]
    },
    {
      "cell_type": "code",
      "metadata": {
        "id": "fTamFkZS-xOe",
        "colab_type": "code",
        "colab": {
          "base_uri": "https://localhost:8080/",
          "height": 51
        },
        "outputId": "97b6fd26-0b16-4c12-eea3-74003af8e725"
      },
      "source": [
        "np.concatenate((a,b), axis=1)"
      ],
      "execution_count": 47,
      "outputs": [
        {
          "output_type": "execute_result",
          "data": {
            "text/plain": [
              "array([[1., 2., 5., 6.],\n",
              "       [3., 4., 7., 8.]])"
            ]
          },
          "metadata": {
            "tags": []
          },
          "execution_count": 47
        }
      ]
    },
    {
      "cell_type": "markdown",
      "metadata": {
        "id": "8Up0GuaT-0I7",
        "colab_type": "text"
      },
      "source": [
        "Размерность массива может быть увеличена при использовании константы newaxis в квадратных скобках:"
      ]
    },
    {
      "cell_type": "code",
      "metadata": {
        "id": "HzRgqvX--4AY",
        "colab_type": "code",
        "colab": {
          "base_uri": "https://localhost:8080/",
          "height": 34
        },
        "outputId": "dc1c466c-dbaf-4fe1-c812-7f2de4edffde"
      },
      "source": [
        "a = np.array([1, 2, 3], float)\n",
        "a"
      ],
      "execution_count": 48,
      "outputs": [
        {
          "output_type": "execute_result",
          "data": {
            "text/plain": [
              "array([1., 2., 3.])"
            ]
          },
          "metadata": {
            "tags": []
          },
          "execution_count": 48
        }
      ]
    },
    {
      "cell_type": "code",
      "metadata": {
        "id": "8cr8WZL0-77P",
        "colab_type": "code",
        "colab": {
          "base_uri": "https://localhost:8080/",
          "height": 68
        },
        "outputId": "fa53e5ab-b321-4338-8aaf-8067f25f8029"
      },
      "source": [
        "a[:,np.newaxis]"
      ],
      "execution_count": 49,
      "outputs": [
        {
          "output_type": "execute_result",
          "data": {
            "text/plain": [
              "array([[1.],\n",
              "       [2.],\n",
              "       [3.]])"
            ]
          },
          "metadata": {
            "tags": []
          },
          "execution_count": 49
        }
      ]
    },
    {
      "cell_type": "code",
      "metadata": {
        "id": "yVzJw7_O_BBk",
        "colab_type": "code",
        "colab": {
          "base_uri": "https://localhost:8080/",
          "height": 34
        },
        "outputId": "9c8e3c5f-cb70-49b9-8619-0d4d3d03ef67"
      },
      "source": [
        "a[:,np.newaxis].shape"
      ],
      "execution_count": 50,
      "outputs": [
        {
          "output_type": "execute_result",
          "data": {
            "text/plain": [
              "(3, 1)"
            ]
          },
          "metadata": {
            "tags": []
          },
          "execution_count": 50
        }
      ]
    },
    {
      "cell_type": "code",
      "metadata": {
        "id": "atPVBZr9_DYm",
        "colab_type": "code",
        "colab": {
          "base_uri": "https://localhost:8080/",
          "height": 51
        },
        "outputId": "03be8ceb-feb0-4792-b03d-d4f15744a160"
      },
      "source": [
        "b[np.newaxis,:]"
      ],
      "execution_count": 51,
      "outputs": [
        {
          "output_type": "execute_result",
          "data": {
            "text/plain": [
              "array([[[5., 6.],\n",
              "        [7., 8.]]])"
            ]
          },
          "metadata": {
            "tags": []
          },
          "execution_count": 51
        }
      ]
    },
    {
      "cell_type": "code",
      "metadata": {
        "id": "759yBF9J_GSq",
        "colab_type": "code",
        "colab": {
          "base_uri": "https://localhost:8080/",
          "height": 34
        },
        "outputId": "a9461318-b494-4af9-a636-85464f75a096"
      },
      "source": [
        "b[np.newaxis,:].shape"
      ],
      "execution_count": 52,
      "outputs": [
        {
          "output_type": "execute_result",
          "data": {
            "text/plain": [
              "(1, 2, 2)"
            ]
          },
          "metadata": {
            "tags": []
          },
          "execution_count": 52
        }
      ]
    },
    {
      "cell_type": "markdown",
      "metadata": {
        "id": "YJRlgT51_N5o",
        "colab_type": "text"
      },
      "source": [
        "Заметьте, тут каждый массив двумерный; созданный при помощи newaxis имеет размерность один. Метод newaxis подходит для удобного создания надлежаще-мерных массивов в векторной и матричной математике."
      ]
    },
    {
      "cell_type": "markdown",
      "metadata": {
        "id": "T1yEkqoy_a93",
        "colab_type": "text"
      },
      "source": [
        "### Другие пути создания массивов"
      ]
    }
  ]
}