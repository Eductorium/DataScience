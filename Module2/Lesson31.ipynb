{
 "nbformat": 4,
 "nbformat_minor": 0,
 "metadata": {
  "colab": {
   "name": "Lesson31.ipynb",
   "provenance": [],
   "collapsed_sections": [],
   "toc_visible": true
  },
  "kernelspec": {
   "name": "python3",
   "display_name": "Python 3"
  }
 },
 "cells": [
  {
   "cell_type": "markdown",
   "metadata": {
    "id": "KMdWnE3suEiq",
    "colab_type": "text"
   },
   "source": [
    "# Лекция 3.1. NumPy"
   ]
  },
  {
   "cell_type": "markdown",
   "metadata": {
    "id": "AbduDUbo2nBY",
    "colab_type": "text"
   },
   "source": [
    "**NumPy** - это open-source модуль для Python, который предоставляет общие математические и числовые операции в виде пре-скомпилированных, быстрых функций. Они объединяются в высокоуровневые пакеты. Они обеспечивают функционал, который можно сравнить с функционалом MatLab. NumPy (Numeric Python) предоставляет базовые методы для манипуляции с большими массивами и матрицами.\n",
    "\n",
    "Сообщество NumPy и SciPy поддерживает онлайн руководство, включающие гайды и туториалы, тут: http://docs.scipy.org/doc."
   ]
  },
  {
   "cell_type": "markdown",
   "metadata": {
    "id": "eORgLxjN3PIb",
    "colab_type": "text"
   },
   "source": [
    "## Импорт модуля numpy"
   ]
  },
  {
   "cell_type": "markdown",
   "metadata": {
    "id": "RbKNEhUn3gY2",
    "colab_type": "text"
   },
   "source": [
    "Есть несколько путей импорта. Стандартный метод это — использовать простое выражение:"
   ]
  },
  {
   "cell_type": "code",
   "metadata": {
    "id": "TTp4pne-3lw0",
    "colab_type": "code",
    "colab": {}
   },
   "source": [
    "import numpy"
   ],
   "execution_count": 0,
   "outputs": []
  },
  {
   "cell_type": "markdown",
   "metadata": {
    "id": "HdkEJlkw3qVn",
    "colab_type": "text"
   },
   "source": [
    "Тем не менее, для большого количества вызовов функций numpy, становится утомительно писать numpy.X снова и снова. Вместо этого намного легче сделать это так:"
   ]
  },
  {
   "cell_type": "code",
   "metadata": {
    "id": "monyI3gy3v7k",
    "colab_type": "code",
    "colab": {}
   },
   "source": [
    "import numpy as np"
   ],
   "execution_count": 0,
   "outputs": []
  },
  {
   "cell_type": "markdown",
   "metadata": {
    "id": "YE6yAf8-3x7j",
    "colab_type": "text"
   },
   "source": [
    "Это выражение позволяет нам получать доступ к numpy объектам используя np.X вместо numpy.X. Также можно импортировать numpy прямо в используемое пространство имен, чтобы вообще не использовать функции через точку, а вызывать их напрямую:"
   ]
  },
  {
   "cell_type": "code",
   "metadata": {
    "id": "Wb7_RGKU33qQ",
    "colab_type": "code",
    "colab": {}
   },
   "source": [
    "from numpy import *"
   ],
   "execution_count": 0,
   "outputs": []
  },
  {
   "cell_type": "markdown",
   "metadata": {
    "id": "1G1NvoeH38FP",
    "colab_type": "text"
   },
   "source": [
    "Однако, этот вариант не приветствуется в программировании на python, так как убирает некоторые полезные структуры, которые модуль предоставляет. До конца этого туториала мы будем использовать второй вариант импорта (import numpy as np)."
   ]
  },
  {
   "cell_type": "markdown",
   "metadata": {
    "id": "A-JTC2lW4m9m",
    "colab_type": "text"
   },
   "source": [
    "## Массивы"
   ]
  },
  {
   "cell_type": "markdown",
   "metadata": {
    "id": "Xuf0dNgc4qFx",
    "colab_type": "text"
   },
   "source": [
    "Главной особенностью numpy является объект array. Массивы схожи со списками в python, исключая тот факт, что элементы массива должны иметь одинаковый тип данных, как float и int. С массивами можно проводить числовые операции с большим объемом информации в разы быстрее и, главное, намного эффективнее чем со списками.\n",
    "\n",
    "Создание массива из списка:"
   ]
  },
  {
   "cell_type": "code",
   "metadata": {
    "id": "Z41nxA8U4t1J",
    "colab_type": "code",
    "colab": {}
   },
   "source": [
    "a = np.array([1, 4, 5, 8], float)\n",
    "a"
   ],
   "execution_count": 0,
   "outputs": []
  },
  {
   "cell_type": "code",
   "metadata": {
    "id": "XJ7UBnGR487c",
    "colab_type": "code",
    "colab": {}
   },
   "source": [
    "type(a)"
   ],
   "execution_count": 0,
   "outputs": []
  },
  {
   "cell_type": "markdown",
   "metadata": {
    "id": "JXbQLlEf5E7i",
    "colab_type": "text"
   },
   "source": [
    "Здесь функция array принимает два аргумента: список для конвертации в массив и тип для каждого элемента. Ко всем элементам можно получить доступ и манипулировать ими также, как вы бы это делали с обычными списками:"
   ]
  },
  {
   "cell_type": "code",
   "metadata": {
    "id": "v2clwy-K5IW7",
    "colab_type": "code",
    "colab": {}
   },
   "source": [
    "a[:2]\n"
   ],
   "execution_count": 0,
   "outputs": []
  },
  {
   "cell_type": "code",
   "metadata": {
    "id": "3HhtDxrV5P2B",
    "colab_type": "code",
    "colab": {}
   },
   "source": [
    "a[3]"
   ],
   "execution_count": 0,
   "outputs": []
  },
  {
   "cell_type": "code",
   "metadata": {
    "id": "FhgJM1xx5UoS",
    "colab_type": "code",
    "colab": {}
   },
   "source": [
    "a[0] = 5.\n",
    "a"
   ],
   "execution_count": 0,
   "outputs": []
  },
  {
   "cell_type": "markdown",
   "metadata": {
    "id": "tUg31loB5g_H",
    "colab_type": "text"
   },
   "source": [
    "Массивы могут быть и многомерными. В отличии от списков можно задавать команды в скобках. Вот пример двумерного массива (матрица):"
   ]
  },
  {
   "cell_type": "code",
   "metadata": {
    "id": "a1GGsMe95i0d",
    "colab_type": "code",
    "colab": {}
   },
   "source": [
    "a = np.array([[1, 2, 3], [4, 5, 6]], float)\n",
    "a"
   ],
   "execution_count": 0,
   "outputs": []
  },
  {
   "cell_type": "code",
   "metadata": {
    "id": "ECwvznxg5nKT",
    "colab_type": "code",
    "colab": {}
   },
   "source": [
    "a[0,0]"
   ],
   "execution_count": 0,
   "outputs": []
  },
  {
   "cell_type": "code",
   "metadata": {
    "id": "eC_3237u5pdk",
    "colab_type": "code",
    "colab": {}
   },
   "source": [
    "a[0,1]"
   ],
   "execution_count": 0,
   "outputs": []
  },
  {
   "cell_type": "markdown",
   "metadata": {
    "id": "s-BwQIwm5tSQ",
    "colab_type": "text"
   },
   "source": [
    "Array slicing работает с многомерными массивами аналогично, как и с одномерными, применяя каждый срез, как фильтр для установленного измерения. Используйте \":\" в измерении для указывания использования всех элементов этого измерения:"
   ]
  },
  {
   "cell_type": "code",
   "metadata": {
    "id": "8k4SUbNL54P4",
    "colab_type": "code",
    "colab": {}
   },
   "source": [
    "a = np.array([[1, 2, 3], [4, 5, 6]], float)\n",
    "a[1,:]"
   ],
   "execution_count": 0,
   "outputs": []
  },
  {
   "cell_type": "code",
   "metadata": {
    "id": "Rl77IUHO595x",
    "colab_type": "code",
    "colab": {}
   },
   "source": [
    "a[:,2]"
   ],
   "execution_count": 0,
   "outputs": []
  },
  {
   "cell_type": "code",
   "metadata": {
    "id": "lPZ1QhCc6SId",
    "colab_type": "code",
    "colab": {}
   },
   "source": [
    "a[-1:, -2:]"
   ],
   "execution_count": 0,
   "outputs": []
  },
  {
   "cell_type": "markdown",
   "metadata": {
    "id": "cLDo7O5n6aBU",
    "colab_type": "text"
   },
   "source": [
    "Метод shape возвращает количество строк и столбцов в матрице:"
   ]
  },
  {
   "cell_type": "code",
   "metadata": {
    "id": "j4lhcW5K6cw8",
    "colab_type": "code",
    "colab": {}
   },
   "source": [
    "a.shape"
   ],
   "execution_count": 0,
   "outputs": []
  },
  {
   "cell_type": "markdown",
   "metadata": {
    "id": "IywyNXLA6vYK",
    "colab_type": "text"
   },
   "source": [
    "Метод dtype возвращает тип переменных, хранящихся в массиве:"
   ]
  },
  {
   "cell_type": "code",
   "metadata": {
    "id": "GL8rjW8L6waO",
    "colab_type": "code",
    "colab": {}
   },
   "source": [
    "a.dtype"
   ],
   "execution_count": 0,
   "outputs": []
  },
  {
   "cell_type": "markdown",
   "metadata": {
    "id": "mykIZ4y4641E",
    "colab_type": "text"
   },
   "source": [
    "Тут float64, это числовой тип данных в numpy, который используется для хранения вещественных чисел двойной точности. Так как же float в Python.\n",
    "\n",
    "Метод len возвращает длину первого измерения (оси):"
   ]
  },
  {
   "cell_type": "code",
   "metadata": {
    "id": "amHn7lcS672s",
    "colab_type": "code",
    "colab": {}
   },
   "source": [
    "a = np.array([[1, 2, 3], [4, 5, 6]], float)\n",
    "len(a)"
   ],
   "execution_count": 0,
   "outputs": []
  },
  {
   "cell_type": "markdown",
   "metadata": {
    "id": "jJXxuWTN7Bdb",
    "colab_type": "text"
   },
   "source": [
    "Метод in используется для проверки на наличие элемента в массиве:"
   ]
  },
  {
   "cell_type": "code",
   "metadata": {
    "id": "G7T9gET37C1m",
    "colab_type": "code",
    "colab": {}
   },
   "source": [
    "a = np.array([[1, 2, 3], [4, 5, 6]], float)\n",
    "2 in a"
   ],
   "execution_count": 0,
   "outputs": []
  },
  {
   "cell_type": "code",
   "metadata": {
    "id": "9KrXsJJ97Mxu",
    "colab_type": "code",
    "colab": {}
   },
   "source": [
    "0 in a"
   ],
   "execution_count": 0,
   "outputs": []
  },
  {
   "cell_type": "markdown",
   "metadata": {
    "id": "qAUroPB17Qt1",
    "colab_type": "text"
   },
   "source": [
    "Массивы можно переформировать при помощи метода, который задает новый многомерный массив. Следуя следующему примеру, мы переформатируем одномерный массив из десяти элементов во двумерный массив, состоящий из пяти строк и двух столбцов:"
   ]
  },
  {
   "cell_type": "code",
   "metadata": {
    "id": "RJ5r_oqA7XJ6",
    "colab_type": "code",
    "colab": {}
   },
   "source": [
    "a = np.array(range(10), float)\n",
    "a"
   ],
   "execution_count": 0,
   "outputs": []
  },
  {
   "cell_type": "code",
   "metadata": {
    "id": "HZqQnZOM7a5q",
    "colab_type": "code",
    "colab": {}
   },
   "source": [
    "a = a.reshape((5, 2))\n",
    "a"
   ],
   "execution_count": 0,
   "outputs": []
  },
  {
   "cell_type": "code",
   "metadata": {
    "id": "3EKesJ_h7gRt",
    "colab_type": "code",
    "colab": {}
   },
   "source": [
    "a.shape"
   ],
   "execution_count": 0,
   "outputs": []
  },
  {
   "cell_type": "markdown",
   "metadata": {
    "id": "zy2nFb5m7kF1",
    "colab_type": "text"
   },
   "source": [
    "Обратите внимание, метод reshape создает новый массив, а не модифицирует оригинальный.\n",
    "\n",
    "Имейте ввиду, связывание имен в Python работает и с массивами. Метод copy используется для создания копии существующего массива в памяти:"
   ]
  },
  {
   "cell_type": "code",
   "metadata": {
    "id": "cO9RFS9u7rS_",
    "colab_type": "code",
    "colab": {}
   },
   "source": [
    "a = np.array([1, 2, 3], float)\n",
    "b = a\n",
    "c = a.copy()\n",
    "a[0] = 0\n",
    "a"
   ],
   "execution_count": 0,
   "outputs": []
  },
  {
   "cell_type": "code",
   "metadata": {
    "id": "AiBI8V0371wR",
    "colab_type": "code",
    "colab": {}
   },
   "source": [
    "b"
   ],
   "execution_count": 0,
   "outputs": []
  },
  {
   "cell_type": "markdown",
   "metadata": {
    "id": "IX1agvBQ8CHB",
    "colab_type": "text"
   },
   "source": [
    "Обратите внимание, что после того, как мы выполнили a[0] = 0, массив, на который ссылается переменая b также изменился. Это объясняется тем, что в выражении b = a просто была создана ссылка на один и тот же массив, на который ссылалась переменная a. В памяти он располагается в одном месте и теперь на него стала ссылаться и переменная b. А вот использование метода copy создало копию массива в новом месте в памяти, поэтому массив c изменения массива, на который ссылается переменная a, не затронули:"
   ]
  },
  {
   "cell_type": "code",
   "metadata": {
    "id": "uP1ee1k_75o5",
    "colab_type": "code",
    "colab": {}
   },
   "source": [
    "c"
   ],
   "execution_count": 0,
   "outputs": []
  },
  {
   "cell_type": "markdown",
   "metadata": {
    "id": "kBeqyifS86ll",
    "colab_type": "text"
   },
   "source": [
    "Из numpy массивов можно также создавать обычные плоские списки Python вот так:\n"
   ]
  },
  {
   "cell_type": "code",
   "metadata": {
    "id": "QGyihdQU9BD0",
    "colab_type": "code",
    "colab": {}
   },
   "source": [
    "a = np.array([1, 2, 3], float)\n",
    "a.tolist()"
   ],
   "execution_count": 0,
   "outputs": []
  },
  {
   "cell_type": "markdown",
   "metadata": {
    "id": "gBU6GI_V9MQy",
    "colab_type": "text"
   },
   "source": [
    "Или вот так:"
   ]
  },
  {
   "cell_type": "code",
   "metadata": {
    "id": "AFatlGyd9F01",
    "colab_type": "code",
    "colab": {}
   },
   "source": [
    "list(a)"
   ],
   "execution_count": 0,
   "outputs": []
  },
  {
   "cell_type": "markdown",
   "metadata": {
    "id": "64LB-OjU9wct",
    "colab_type": "text"
   },
   "source": [
    "Массив можно заполнить одинаковыми значениями:"
   ]
  },
  {
   "cell_type": "code",
   "metadata": {
    "id": "UgMxqTdp96hq",
    "colab_type": "code",
    "colab": {}
   },
   "source": [
    "a = np.array([1, 2, 3], float)\n",
    "a"
   ],
   "execution_count": 0,
   "outputs": []
  },
  {
   "cell_type": "code",
   "metadata": {
    "id": "vC5Lz3RQ9_f1",
    "colab_type": "code",
    "colab": {}
   },
   "source": [
    "a.fill(0)\n",
    "a"
   ],
   "execution_count": 0,
   "outputs": []
  },
  {
   "cell_type": "markdown",
   "metadata": {
    "id": "yOJX0O9y-FDW",
    "colab_type": "text"
   },
   "source": [
    "Транспонирование массивов также возможно, при этом создается новый массив:"
   ]
  },
  {
   "cell_type": "code",
   "metadata": {
    "id": "Z3l70S1e-G-0",
    "colab_type": "code",
    "colab": {}
   },
   "source": [
    "a = np.array(range(6), float).reshape((2, 3))\n",
    "a"
   ],
   "execution_count": 0,
   "outputs": []
  },
  {
   "cell_type": "code",
   "metadata": {
    "id": "f5cSRDrz-NDU",
    "colab_type": "code",
    "colab": {}
   },
   "source": [
    "a.transpose()"
   ],
   "execution_count": 0,
   "outputs": []
  },
  {
   "cell_type": "markdown",
   "metadata": {
    "id": "NFhQnjTO-Qer",
    "colab_type": "text"
   },
   "source": [
    "Многомерный массив можно переконвертировать в одномерный при помощи метода flatten:"
   ]
  },
  {
   "cell_type": "code",
   "metadata": {
    "id": "yNnJeatU-Txl",
    "colab_type": "code",
    "colab": {}
   },
   "source": [
    "a = np.array([[1, 2, 3], [4, 5, 6]], float)\n",
    "a"
   ],
   "execution_count": 0,
   "outputs": []
  },
  {
   "cell_type": "code",
   "metadata": {
    "id": "AE1rpwKU-Ybl",
    "colab_type": "code",
    "colab": {}
   },
   "source": [
    "a.flatten()"
   ],
   "execution_count": 0,
   "outputs": []
  },
  {
   "cell_type": "markdown",
   "metadata": {
    "id": "tBlWijRw-a8L",
    "colab_type": "text"
   },
   "source": [
    "Два или больше массивов можно сконкатенировать при помощи метода concatenate:"
   ]
  },
  {
   "cell_type": "code",
   "metadata": {
    "id": "6RjTh80P-dJZ",
    "colab_type": "code",
    "colab": {}
   },
   "source": [
    "a = np.array([1,2], float)\n",
    "b = np.array([3,4,5,6], float)\n",
    "c = np.array([7,8,9], float)\n",
    "np.concatenate((a, b, c))"
   ],
   "execution_count": 0,
   "outputs": []
  },
  {
   "cell_type": "markdown",
   "metadata": {
    "id": "UyR0rQKH-lJB",
    "colab_type": "text"
   },
   "source": [
    "Если массив не одномерный, можно задать ось, по которой будет происходить соединение. По умолчанию (не задавая значения оси), соединение будет происходить по первому измерению:"
   ]
  },
  {
   "cell_type": "code",
   "metadata": {
    "id": "C3m3n0Qv-kY4",
    "colab_type": "code",
    "colab": {}
   },
   "source": [
    "a = np.array([[1, 2], [3, 4]], float)\n",
    "b = np.array([[5, 6], [7,8]], float)\n",
    "np.concatenate((a,b))"
   ],
   "execution_count": 0,
   "outputs": []
  },
  {
   "cell_type": "code",
   "metadata": {
    "id": "KOYyVvIb-tEV",
    "colab_type": "code",
    "colab": {}
   },
   "source": [
    "np.concatenate((a,b), axis=0)"
   ],
   "execution_count": 0,
   "outputs": []
  },
  {
   "cell_type": "code",
   "metadata": {
    "id": "fTamFkZS-xOe",
    "colab_type": "code",
    "colab": {}
   },
   "source": [
    "np.concatenate((a,b), axis=1)"
   ],
   "execution_count": 0,
   "outputs": []
  },
  {
   "cell_type": "markdown",
   "metadata": {
    "id": "8Up0GuaT-0I7",
    "colab_type": "text"
   },
   "source": [
    "Размерность массива может быть увеличена при использовании константы newaxis в квадратных скобках:"
   ]
  },
  {
   "cell_type": "code",
   "metadata": {
    "id": "HzRgqvX--4AY",
    "colab_type": "code",
    "colab": {}
   },
   "source": [
    "a = np.array([1, 2, 3], float)\n",
    "a"
   ],
   "execution_count": 0,
   "outputs": []
  },
  {
   "cell_type": "code",
   "metadata": {
    "id": "8cr8WZL0-77P",
    "colab_type": "code",
    "colab": {}
   },
   "source": [
    "a[:,np.newaxis]"
   ],
   "execution_count": 0,
   "outputs": []
  },
  {
   "cell_type": "code",
   "metadata": {
    "id": "yVzJw7_O_BBk",
    "colab_type": "code",
    "colab": {}
   },
   "source": [
    "a[:,np.newaxis].shape"
   ],
   "execution_count": 0,
   "outputs": []
  },
  {
   "cell_type": "code",
   "metadata": {
    "id": "atPVBZr9_DYm",
    "colab_type": "code",
    "colab": {}
   },
   "source": [
    "b[np.newaxis,:]"
   ],
   "execution_count": 0,
   "outputs": []
  },
  {
   "cell_type": "code",
   "metadata": {
    "id": "759yBF9J_GSq",
    "colab_type": "code",
    "colab": {}
   },
   "source": [
    "b[np.newaxis,:].shape"
   ],
   "execution_count": 0,
   "outputs": []
  },
  {
   "cell_type": "markdown",
   "metadata": {
    "id": "YJRlgT51_N5o",
    "colab_type": "text"
   },
   "source": [
    "Заметьте, тут каждый массив двумерный; созданный при помощи newaxis имеет размерность один. Метод newaxis подходит для удобного создания надлежаще-мерных массивов в векторной и матричной математике."
   ]
  },
  {
   "cell_type": "markdown",
   "metadata": {
    "id": "T1yEkqoy_a93",
    "colab_type": "text"
   },
   "source": [
    "## Другие пути создания массивов"
   ]
  },
  {
   "cell_type": "markdown",
   "metadata": {
    "id": "_DVc2XqlNAP9",
    "colab_type": "text"
   },
   "source": [
    "Функция arange аналогична функции range, но возвращает массив:"
   ]
  },
  {
   "cell_type": "code",
   "metadata": {
    "id": "APx_d7VfNE1l",
    "colab_type": "code",
    "colab": {}
   },
   "source": [
    "np.arange(5, dtype=float)"
   ],
   "execution_count": 0,
   "outputs": []
  },
  {
   "cell_type": "code",
   "metadata": {
    "id": "kV0XZE8hNQHl",
    "colab_type": "code",
    "colab": {}
   },
   "source": [
    "np.arange(1, 6, 2, dtype=int)"
   ],
   "execution_count": 0,
   "outputs": []
  },
  {
   "cell_type": "markdown",
   "metadata": {
    "id": "dFBrbYboNWk0",
    "colab_type": "text"
   },
   "source": [
    "Функции zeros и ones создают новые массивы с установленной размерностью, заполненные этими значениями. Это, наверное, самые простые в использовании функции для создания массивов:"
   ]
  },
  {
   "cell_type": "code",
   "metadata": {
    "id": "6B8dMNU4NytZ",
    "colab_type": "code",
    "colab": {}
   },
   "source": [
    "np.ones((2,3), dtype=float)"
   ],
   "execution_count": 0,
   "outputs": []
  },
  {
   "cell_type": "code",
   "metadata": {
    "id": "k8XsAZcoN71e",
    "colab_type": "code",
    "colab": {}
   },
   "source": [
    "np.zeros(7, dtype=int)"
   ],
   "execution_count": 0,
   "outputs": []
  },
  {
   "cell_type": "markdown",
   "metadata": {
    "id": "faAwBJE9N_1T",
    "colab_type": "text"
   },
   "source": [
    "Функции zeros_like и ones_like могут преобразовать уже созданный массив, заполнив его нулями и единицами соответственно:"
   ]
  },
  {
   "cell_type": "code",
   "metadata": {
    "id": "AklLvPFgODDH",
    "colab_type": "code",
    "colab": {}
   },
   "source": [
    "a = np.array([[1, 2, 3], [4, 5, 6]], float)\n",
    "np.zeros_like(a)"
   ],
   "execution_count": 0,
   "outputs": []
  },
  {
   "cell_type": "code",
   "metadata": {
    "id": "iZS9wrT7OHPK",
    "colab_type": "code",
    "colab": {}
   },
   "source": [
    "np.ones_like(a)"
   ],
   "execution_count": 0,
   "outputs": []
  },
  {
   "cell_type": "markdown",
   "metadata": {
    "id": "ESrJrnWnOKoJ",
    "colab_type": "text"
   },
   "source": [
    "Также есть некоторое количество функций для создания специальных матриц. Для создания квадратной матрицы с главной диагональю, которая заполненная единицами, воспользуемся методом identity:"
   ]
  },
  {
   "cell_type": "code",
   "metadata": {
    "id": "lLT1E99LOPt1",
    "colab_type": "code",
    "colab": {}
   },
   "source": [
    "np.identity(4, dtype=float)"
   ],
   "execution_count": 0,
   "outputs": []
  },
  {
   "cell_type": "markdown",
   "metadata": {
    "id": "s85t5wSoOS-h",
    "colab_type": "text"
   },
   "source": [
    "Функция eye возвращает матрицу с единичками на к-атой диагонали:"
   ]
  },
  {
   "cell_type": "code",
   "metadata": {
    "id": "iTUAgyd3OVaz",
    "colab_type": "code",
    "colab": {}
   },
   "source": [
    "np.eye(4, k=1, dtype=float)"
   ],
   "execution_count": 0,
   "outputs": []
  },
  {
   "cell_type": "markdown",
   "metadata": {
    "id": "ynWUviTcOYT2",
    "colab_type": "text"
   },
   "source": [
    "## Математические операции над массивами"
   ]
  },
  {
   "cell_type": "markdown",
   "metadata": {
    "id": "euPSylH8Ob9e",
    "colab_type": "text"
   },
   "source": [
    "Когда для массивов мы используем стандартные математические операции, должен соблюдаться принцип: элемент--элемент. Это означает, что массивы должны быть одинакового размера во время сложения, вычитания и тому подобных операций:"
   ]
  },
  {
   "cell_type": "code",
   "metadata": {
    "id": "ydFkphmVOgrG",
    "colab_type": "code",
    "colab": {}
   },
   "source": [
    "a = np.array([1,2,3], float)\n",
    "b = np.array([5,2,6], float)\n",
    "a + b\n"
   ],
   "execution_count": 0,
   "outputs": []
  },
  {
   "cell_type": "code",
   "metadata": {
    "id": "QzW6MgA-OlQp",
    "colab_type": "code",
    "colab": {}
   },
   "source": [
    "a - b"
   ],
   "execution_count": 0,
   "outputs": []
  },
  {
   "cell_type": "code",
   "metadata": {
    "id": "_FHTiw78OpiN",
    "colab_type": "code",
    "colab": {}
   },
   "source": [
    "a * b"
   ],
   "execution_count": 0,
   "outputs": []
  },
  {
   "cell_type": "code",
   "metadata": {
    "id": "5mxrvmgtOtmM",
    "colab_type": "code",
    "colab": {}
   },
   "source": [
    "b / a"
   ],
   "execution_count": 0,
   "outputs": []
  },
  {
   "cell_type": "code",
   "metadata": {
    "id": "TBaFHAosOvR5",
    "colab_type": "code",
    "colab": {}
   },
   "source": [
    "a % b"
   ],
   "execution_count": 0,
   "outputs": []
  },
  {
   "cell_type": "code",
   "metadata": {
    "id": "ewgonKKdOxaX",
    "colab_type": "code",
    "colab": {}
   },
   "source": [
    "b**a"
   ],
   "execution_count": 0,
   "outputs": []
  },
  {
   "cell_type": "markdown",
   "metadata": {
    "id": "Bedlh6uuO7Nu",
    "colab_type": "text"
   },
   "source": [
    "Для двухмерных массивов, умножение остается поэлементным и не соответствует умножению матриц. Для этого существуют специальные функции, которые мы изучим позже."
   ]
  },
  {
   "cell_type": "code",
   "metadata": {
    "id": "ReJTLeG3O6Ym",
    "colab_type": "code",
    "colab": {}
   },
   "source": [
    "a = np.array([[1,2], [3,4]], float)\n",
    "b = np.array([[2,0], [1,3]], float)\n",
    "a * b"
   ],
   "execution_count": 0,
   "outputs": []
  },
  {
   "cell_type": "markdown",
   "metadata": {
    "id": "dsk96vqbPD4g",
    "colab_type": "text"
   },
   "source": [
    "При несоответствии в размере выбрасываются ошибки:"
   ]
  },
  {
   "cell_type": "code",
   "metadata": {
    "id": "E0TYdnAWPGlU",
    "colab_type": "code",
    "colab": {}
   },
   "source": [
    "a = np.array([1,2,3], float)\n",
    "b = np.array([4,5], float)\n",
    "# если раскомментировать нижнюю строку, то будет выброшена ошибка. Раскомментируйте, чтобы посмотреть\n",
    "# a + b"
   ],
   "execution_count": 0,
   "outputs": []
  },
  {
   "cell_type": "markdown",
   "metadata": {
    "id": "Jiy98j_iPLrW",
    "colab_type": "text"
   },
   "source": [
    "Однако, если размерность массивов не совпадает, они будут преобразованы для выполнения математических операций. Это зачастую означает, что меньший массив будет использован несколько раз для завершения операций. Рассмотрим такой пример:"
   ]
  },
  {
   "cell_type": "code",
   "metadata": {
    "id": "9-Ipi1yvPWHj",
    "colab_type": "code",
    "colab": {}
   },
   "source": [
    "a = np.array([[1, 2], [3, 4], [5, 6]], float)\n",
    "b = np.array([-1, 3], float)\n",
    "a"
   ],
   "execution_count": 0,
   "outputs": []
  },
  {
   "cell_type": "code",
   "metadata": {
    "id": "vMwW1ClAPbmQ",
    "colab_type": "code",
    "colab": {}
   },
   "source": [
    "b"
   ],
   "execution_count": 0,
   "outputs": []
  },
  {
   "cell_type": "code",
   "metadata": {
    "id": "gg9Ewk4zPdIc",
    "colab_type": "code",
    "colab": {}
   },
   "source": [
    "a + b"
   ],
   "execution_count": 0,
   "outputs": []
  },
  {
   "cell_type": "markdown",
   "metadata": {
    "id": "nDrfkBroP4qz",
    "colab_type": "text"
   },
   "source": [
    "Тут, одномерный массив b был преобразован в двухмерный, который соответствует размеру массива a. По существу, b был повторен несколько раз, для каждой «строки» a. Иначе его можно представить так:"
   ]
  },
  {
   "cell_type": "code",
   "metadata": {
    "id": "0q0Pf7yvP-jE",
    "colab_type": "code",
    "colab": {}
   },
   "source": [
    "b = np.array([[-1.,  3.],\n",
    "              [-1.,  3.],\n",
    "              [-1.,  3.]])"
   ],
   "execution_count": 0,
   "outputs": []
  },
  {
   "cell_type": "markdown",
   "metadata": {
    "id": "YvDLUedSQQ7Y",
    "colab_type": "text"
   },
   "source": [
    "Python автоматически преобразовывает массивы в этом случае. Иногда, однако, когда преобразование играет роль, мы можем использовать константу newaxis, чтобы изменить преобразование:"
   ]
  },
  {
   "cell_type": "code",
   "metadata": {
    "id": "_vC_6AVOQT7_",
    "colab_type": "code",
    "colab": {}
   },
   "source": [
    "a = np.zeros((2,2), float)\n",
    "b = np.array([-1., 3.], float)\n",
    "a"
   ],
   "execution_count": 0,
   "outputs": []
  },
  {
   "cell_type": "code",
   "metadata": {
    "id": "O877Q5dvQfVT",
    "colab_type": "code",
    "colab": {}
   },
   "source": [
    "b"
   ],
   "execution_count": 0,
   "outputs": []
  },
  {
   "cell_type": "code",
   "metadata": {
    "id": "-iJdl1UPQk0J",
    "colab_type": "code",
    "colab": {}
   },
   "source": [
    "a + b"
   ],
   "execution_count": 0,
   "outputs": []
  },
  {
   "cell_type": "code",
   "metadata": {
    "id": "983ctGINQqRS",
    "colab_type": "code",
    "colab": {}
   },
   "source": [
    "a + b[np.newaxis,:]"
   ],
   "execution_count": 0,
   "outputs": []
  },
  {
   "cell_type": "code",
   "metadata": {
    "id": "ydcZOIbyQzhM",
    "colab_type": "code",
    "colab": {}
   },
   "source": [
    "a + b[:,np.newaxis]"
   ],
   "execution_count": 0,
   "outputs": []
  },
  {
   "cell_type": "markdown",
   "metadata": {
    "id": "OG0Hmt3MQ-ip",
    "colab_type": "text"
   },
   "source": [
    "Вдобавок к стандартным операторам, в numpy включена библиотека стандартных математических функций, которые могут быть применены поэлементно к массивам. Собственно функции: abs, sign, sqrt, log, log10, exp, sin, cos, tan, arcsin, arccos, arctan, sinh, cosh, tanh, arcsinh, arccosh, и arctanh."
   ]
  },
  {
   "cell_type": "code",
   "metadata": {
    "id": "Qm3IFVU6RAZd",
    "colab_type": "code",
    "colab": {}
   },
   "source": [
    "a = np.array([1, 4, 9], float)\n",
    "np.sqrt(a)"
   ],
   "execution_count": 0,
   "outputs": []
  },
  {
   "cell_type": "markdown",
   "metadata": {
    "id": "Suy0kmVZREKo",
    "colab_type": "text"
   },
   "source": [
    "Функции floor, ceil и rint возвращают нижние, верхние или ближайшие (округлённое) значение:"
   ]
  },
  {
   "cell_type": "code",
   "metadata": {
    "id": "Vu9-gHd7RGYd",
    "colab_type": "code",
    "colab": {}
   },
   "source": [
    "a = np.array([1.1, 1.5, 1.9], float)\n",
    "np.floor(a)"
   ],
   "execution_count": 0,
   "outputs": []
  },
  {
   "cell_type": "code",
   "metadata": {
    "id": "qFRW6FulRK8x",
    "colab_type": "code",
    "colab": {}
   },
   "source": [
    "np.ceil(a)"
   ],
   "execution_count": 0,
   "outputs": []
  },
  {
   "cell_type": "code",
   "metadata": {
    "id": "E4fZevRGRNFG",
    "colab_type": "code",
    "colab": {}
   },
   "source": [
    "np.rint(a)"
   ],
   "execution_count": 0,
   "outputs": []
  },
  {
   "cell_type": "markdown",
   "metadata": {
    "id": "BtDkQcrVRYXz",
    "colab_type": "text"
   },
   "source": [
    "Также в numpy включены две важные математические константы:"
   ]
  },
  {
   "cell_type": "code",
   "metadata": {
    "id": "SnK8UvqQRZsY",
    "colab_type": "code",
    "colab": {}
   },
   "source": [
    "np.pi"
   ],
   "execution_count": 0,
   "outputs": []
  },
  {
   "cell_type": "code",
   "metadata": {
    "id": "Lcwy5ncHRb_h",
    "colab_type": "code",
    "colab": {}
   },
   "source": [
    "np.e"
   ],
   "execution_count": 0,
   "outputs": []
  },
  {
   "cell_type": "markdown",
   "metadata": {
    "id": "2A-dKySRRgp2",
    "colab_type": "text"
   },
   "source": [
    "## Перебор элементов массива\n"
   ]
  },
  {
   "cell_type": "markdown",
   "metadata": {
    "id": "7NhELX8yRjmg",
    "colab_type": "text"
   },
   "source": [
    "Проводить итерацию массивов можно аналогично спискам:"
   ]
  },
  {
   "cell_type": "code",
   "metadata": {
    "id": "trwlv3HjRmJy",
    "colab_type": "code",
    "colab": {}
   },
   "source": [
    "a = np.array([1, 4, 5], int)\n",
    "for x in a:\n",
    "    print(x)"
   ],
   "execution_count": 0,
   "outputs": []
  },
  {
   "cell_type": "markdown",
   "metadata": {
    "id": "6FuKyLYcRvC1",
    "colab_type": "text"
   },
   "source": [
    "Для многомерных массивов итерация будет проводиться по первой оси, так, что каждый проход цикла будет возвращать «строку» массива:"
   ]
  },
  {
   "cell_type": "code",
   "metadata": {
    "id": "BWtRwYvRRxYC",
    "colab_type": "code",
    "colab": {}
   },
   "source": [
    "a = np.array([[1, 2], [3, 4], [5, 6]], float)\n",
    "for x in a:\n",
    "    print(x)"
   ],
   "execution_count": 0,
   "outputs": []
  },
  {
   "cell_type": "markdown",
   "metadata": {
    "id": "HQ8TFnuGR3Zk",
    "colab_type": "text"
   },
   "source": [
    "Множественное присваивание также доступно при итерации:"
   ]
  },
  {
   "cell_type": "code",
   "metadata": {
    "id": "sZPv941fR8I0",
    "colab_type": "code",
    "colab": {}
   },
   "source": [
    "a = np.array([[1, 2], [3, 4], [5, 6]], float)\n",
    "for (x, y) in a:\n",
    "    print(x * y)"
   ],
   "execution_count": 0,
   "outputs": []
  },
  {
   "cell_type": "markdown",
   "metadata": {
    "id": "4xYcxJW4SEB-",
    "colab_type": "text"
   },
   "source": [
    "## Базовые операции над массивами"
   ]
  },
  {
   "cell_type": "markdown",
   "metadata": {
    "id": "VfSFSso67__9",
    "colab_type": "text"
   },
   "source": [
    "Для добавления элементов в массив используется метод append:"
   ]
  },
  {
   "cell_type": "code",
   "metadata": {
    "id": "OWOprPgF8HpT",
    "colab_type": "code",
    "colab": {}
   },
   "source": [
    "a = np.array([2, 4, 3], int)\n",
    "np.append(a, 1)"
   ],
   "execution_count": 0,
   "outputs": []
  },
  {
   "cell_type": "markdown",
   "metadata": {
    "id": "FVs3znFS85s7",
    "colab_type": "text"
   },
   "source": [
    "Также можно просто объединить 2 массива:"
   ]
  },
  {
   "cell_type": "code",
   "metadata": {
    "id": "XyEFTwCU9Fbu",
    "colab_type": "code",
    "colab": {}
   },
   "source": [
    "np.append([1, 2, 3], [4, 5, 6])"
   ],
   "execution_count": 0,
   "outputs": []
  },
  {
   "cell_type": "markdown",
   "metadata": {
    "id": "Xn5GwOI19Ixz",
    "colab_type": "text"
   },
   "source": [
    "Можно объединять массивы разных размерностей:"
   ]
  },
  {
   "cell_type": "code",
   "metadata": {
    "id": "UnFtPpHD83Tk",
    "colab_type": "code",
    "colab": {}
   },
   "source": [
    "np.append([1, 2, 3], [[4, 5, 6], [7, 8, 9]])"
   ],
   "execution_count": 0,
   "outputs": []
  },
  {
   "cell_type": "markdown",
   "metadata": {
    "id": "LC0dNS8M9VFC",
    "colab_type": "text"
   },
   "source": [
    "Для удаления элементов используется метот delete:"
   ]
  },
  {
   "cell_type": "code",
   "metadata": {
    "id": "K23acnDH9ZsY",
    "colab_type": "code",
    "colab": {}
   },
   "source": [
    "a = np.array([2, 4, 3], int)\n",
    "np.delete(a, 0)"
   ],
   "execution_count": 0,
   "outputs": []
  },
  {
   "cell_type": "markdown",
   "metadata": {
    "id": "QBeyxDjQ9jlJ",
    "colab_type": "text"
   },
   "source": [
    "При удалении также можно указать ось axis:"
   ]
  },
  {
   "cell_type": "code",
   "metadata": {
    "id": "F4tvK7x993fw",
    "colab_type": "code",
    "colab": {}
   },
   "source": [
    "a = np.array([[1, 2, 3], [4, 5, 6]], float)\n",
    "np.delete(a, 0, axis=0)"
   ],
   "execution_count": 0,
   "outputs": []
  },
  {
   "cell_type": "markdown",
   "metadata": {
    "id": "GP-RO5nBSJuM",
    "colab_type": "text"
   },
   "source": [
    "Для получения каких-либо свойств массивов существует много функций. Элементы могут быть суммированы или перемножены:"
   ]
  },
  {
   "cell_type": "code",
   "metadata": {
    "id": "rrIDqFhNSONW",
    "colab_type": "code",
    "colab": {}
   },
   "source": [
    "a = np.array([2, 4, 3], float)\n",
    "a.sum()"
   ],
   "execution_count": 0,
   "outputs": []
  },
  {
   "cell_type": "code",
   "metadata": {
    "id": "E623ovthSQJD",
    "colab_type": "code",
    "colab": {}
   },
   "source": [
    "a.prod()"
   ],
   "execution_count": 0,
   "outputs": []
  },
  {
   "cell_type": "markdown",
   "metadata": {
    "id": "iQCMBkFmSVcE",
    "colab_type": "text"
   },
   "source": [
    "В этом примере были использованы функции массива. Также можно использовать собственные функции numpy:"
   ]
  },
  {
   "cell_type": "code",
   "metadata": {
    "id": "wxLlSZRtSXAG",
    "colab_type": "code",
    "colab": {}
   },
   "source": [
    "np.sum(a)"
   ],
   "execution_count": 0,
   "outputs": []
  },
  {
   "cell_type": "code",
   "metadata": {
    "id": "WXqf4ujySY70",
    "colab_type": "code",
    "colab": {}
   },
   "source": [
    "np.prod(a)"
   ],
   "execution_count": 0,
   "outputs": []
  },
  {
   "cell_type": "markdown",
   "metadata": {
    "id": "olacTLPKSeVF",
    "colab_type": "text"
   },
   "source": [
    "Для большинства случаев могут использоваться оба варианта.\n",
    "Некие функции дают возможность оперировать статистическими данными. Это функции mean (среднее арифметическое), вариация и девиация:"
   ]
  },
  {
   "cell_type": "code",
   "metadata": {
    "id": "c08TckwSSgBU",
    "colab_type": "code",
    "colab": {}
   },
   "source": [
    "a = np.array([2, 1, 9], float)\n",
    "a.mean()"
   ],
   "execution_count": 0,
   "outputs": []
  },
  {
   "cell_type": "code",
   "metadata": {
    "id": "Z7EnTcdRSigW",
    "colab_type": "code",
    "colab": {}
   },
   "source": [
    "a.var()"
   ],
   "execution_count": 0,
   "outputs": []
  },
  {
   "cell_type": "code",
   "metadata": {
    "id": "1a8cEF_RSl5V",
    "colab_type": "code",
    "colab": {}
   },
   "source": [
    "a.std()"
   ],
   "execution_count": 0,
   "outputs": []
  },
  {
   "cell_type": "markdown",
   "metadata": {
    "id": "d_dkU2C2SpRG",
    "colab_type": "text"
   },
   "source": [
    "Можно найти минимум и максимум в массиве:"
   ]
  },
  {
   "cell_type": "code",
   "metadata": {
    "id": "s4dmeEapSra8",
    "colab_type": "code",
    "colab": {}
   },
   "source": [
    "a = np.array([2, 1, 9], float)\n",
    "a.min()"
   ],
   "execution_count": 0,
   "outputs": []
  },
  {
   "cell_type": "code",
   "metadata": {
    "id": "ixyOMkOUSuPm",
    "colab_type": "code",
    "colab": {}
   },
   "source": [
    "a.max()"
   ],
   "execution_count": 0,
   "outputs": []
  },
  {
   "cell_type": "markdown",
   "metadata": {
    "id": "7Ugxy12dSz5I",
    "colab_type": "text"
   },
   "source": [
    "Функции argmin и argmax возвращают индекс минимального или максимального элемента:"
   ]
  },
  {
   "cell_type": "code",
   "metadata": {
    "id": "M04it243S1zR",
    "colab_type": "code",
    "colab": {}
   },
   "source": [
    "a = np.array([2, 1, 9], float)\n",
    "a.argmin()"
   ],
   "execution_count": 0,
   "outputs": []
  },
  {
   "cell_type": "code",
   "metadata": {
    "id": "HRFHZjJlS4fE",
    "colab_type": "code",
    "colab": {}
   },
   "source": [
    "a.argmax()"
   ],
   "execution_count": 0,
   "outputs": []
  },
  {
   "cell_type": "markdown",
   "metadata": {
    "id": "Ev438i42S8ot",
    "colab_type": "text"
   },
   "source": [
    "Для многомерных массивов каждая из функций может принять дополнительный аргумент axis и в зависимости от его значения выполнять функции по определенной оси, помещая результаты исполнения в массив:"
   ]
  },
  {
   "cell_type": "code",
   "metadata": {
    "id": "OtorjtJGTALA",
    "colab_type": "code",
    "colab": {}
   },
   "source": [
    "a = np.array([[0, 2], [3, -1], [3, 5]], float)\n",
    "a.mean(axis=0)"
   ],
   "execution_count": 0,
   "outputs": []
  },
  {
   "cell_type": "code",
   "metadata": {
    "id": "caySfM3qTDXM",
    "colab_type": "code",
    "colab": {}
   },
   "source": [
    "a.mean(axis=1)"
   ],
   "execution_count": 0,
   "outputs": []
  },
  {
   "cell_type": "code",
   "metadata": {
    "id": "DuXxDsAdTFQ0",
    "colab_type": "code",
    "colab": {}
   },
   "source": [
    "a.min(axis=1)"
   ],
   "execution_count": 0,
   "outputs": []
  },
  {
   "cell_type": "code",
   "metadata": {
    "id": "6_0Vk7ACTG3e",
    "colab_type": "code",
    "colab": {}
   },
   "source": [
    "a.max(axis=0)"
   ],
   "execution_count": 0,
   "outputs": []
  },
  {
   "cell_type": "markdown",
   "metadata": {
    "id": "xw0twf4Hhftw",
    "colab_type": "text"
   },
   "source": [
    "Как и списки, массивы можно отсортировать:"
   ]
  },
  {
   "cell_type": "code",
   "metadata": {
    "id": "1qNx6Pymvnr0",
    "colab_type": "code",
    "colab": {}
   },
   "source": [
    "a = np.array([6, 2, 5, -1, 0], float)\n",
    "sorted(a)"
   ],
   "execution_count": 0,
   "outputs": []
  },
  {
   "cell_type": "code",
   "metadata": {
    "id": "VJ3osyY0vxmr",
    "colab_type": "code",
    "colab": {}
   },
   "source": [
    "a.sort()\n",
    "a"
   ],
   "execution_count": 0,
   "outputs": []
  },
  {
   "cell_type": "markdown",
   "metadata": {
    "id": "uriwdmvKwBXi",
    "colab_type": "text"
   },
   "source": [
    "Значения в массиве могут быть «сокращены», чтобы принадлежать заданному диапазону. Это тоже самое что применять min(max(x, minval), maxval) к каждому элементу x:"
   ]
  },
  {
   "cell_type": "code",
   "metadata": {
    "id": "wqbtAFNiwCcA",
    "colab_type": "code",
    "colab": {}
   },
   "source": [
    "a = np.array([6, 2, 5, -1, 0], float)\n",
    "a.clip(0, 5)"
   ],
   "execution_count": 0,
   "outputs": []
  },
  {
   "cell_type": "markdown",
   "metadata": {
    "id": "kvpA04bEwGUV",
    "colab_type": "text"
   },
   "source": [
    "Уникальные элементы могут быть извлечены вот так:"
   ]
  },
  {
   "cell_type": "code",
   "metadata": {
    "id": "FQSIA6dywIx8",
    "colab_type": "code",
    "colab": {}
   },
   "source": [
    "a = np.array([1, 1, 4, 5, 5, 5, 7], float)\n",
    "np.unique(a)"
   ],
   "execution_count": 0,
   "outputs": []
  },
  {
   "cell_type": "markdown",
   "metadata": {
    "id": "3J271swawNPI",
    "colab_type": "text"
   },
   "source": [
    "Для двухмерных массивов диагональ можно получить так:"
   ]
  },
  {
   "cell_type": "code",
   "metadata": {
    "id": "t1clqM1KwQTA",
    "colab_type": "code",
    "colab": {}
   },
   "source": [
    "a = np.array([[1, 2], [3, 4]], float)\n",
    "a.diagonal()"
   ],
   "execution_count": 0,
   "outputs": []
  },
  {
   "cell_type": "markdown",
   "metadata": {
    "id": "0DP-KWeew7t6",
    "colab_type": "text"
   },
   "source": [
    "## Операторы сравнения и тестирование значений"
   ]
  },
  {
   "cell_type": "markdown",
   "metadata": {
    "id": "31ap6iwCw7ET",
    "colab_type": "text"
   },
   "source": [
    "Булево сравнение может быть использовано для поэлементного сравнения массивов одинаковых длин. Возвращаемое значение это массив булевых True/False значений:\n",
    "\n"
   ]
  },
  {
   "cell_type": "code",
   "metadata": {
    "id": "FErHG-IpxEvc",
    "colab_type": "code",
    "colab": {}
   },
   "source": [
    "a = np.array([1, 3, 0], float)\n",
    "b = np.array([0, 3, 2], float)\n",
    "a > b"
   ],
   "execution_count": 0,
   "outputs": []
  },
  {
   "cell_type": "code",
   "metadata": {
    "id": "92uE8vMhxKvU",
    "colab_type": "code",
    "colab": {}
   },
   "source": [
    "a == b"
   ],
   "execution_count": 0,
   "outputs": []
  },
  {
   "cell_type": "code",
   "metadata": {
    "id": "mGn61-HixNec",
    "colab_type": "code",
    "colab": {}
   },
   "source": [
    "a <= b"
   ],
   "execution_count": 0,
   "outputs": []
  },
  {
   "cell_type": "markdown",
   "metadata": {
    "id": "RBIZ81FLwazB",
    "colab_type": "text"
   },
   "source": [
    "Результат сравнения может быть сохранен в массиве:\n"
   ]
  },
  {
   "cell_type": "code",
   "metadata": {
    "id": "twcs3-Qswc7g",
    "colab_type": "code",
    "colab": {}
   },
   "source": [
    "c = a > b\n",
    "c"
   ],
   "execution_count": 0,
   "outputs": []
  },
  {
   "cell_type": "markdown",
   "metadata": {
    "id": "wfqgv_GKzXAO",
    "colab_type": "text"
   },
   "source": [
    "Массивы могут быть сравнены с одиночным значением:\n"
   ]
  },
  {
   "cell_type": "code",
   "metadata": {
    "id": "FiIMsD-HzdTh",
    "colab_type": "code",
    "colab": {}
   },
   "source": [
    "a = np.array([1, 3, 0], float)\n",
    "a > 2"
   ],
   "execution_count": 0,
   "outputs": []
  },
  {
   "cell_type": "markdown",
   "metadata": {
    "id": "5nWq93HPz5vn",
    "colab_type": "text"
   },
   "source": [
    "Операторы any и all могут быть использованы для определения истинны ли хотя бы один или все элементы соответственно:"
   ]
  },
  {
   "cell_type": "code",
   "metadata": {
    "id": "-3-DPfOtz7Rh",
    "colab_type": "code",
    "colab": {}
   },
   "source": [
    "c = np.array([ True, False, False], bool)\n",
    "any(c)"
   ],
   "execution_count": 0,
   "outputs": []
  },
  {
   "cell_type": "code",
   "metadata": {
    "id": "PYw5cPcvz-8N",
    "colab_type": "code",
    "colab": {}
   },
   "source": [
    "all(c)"
   ],
   "execution_count": 0,
   "outputs": []
  },
  {
   "cell_type": "markdown",
   "metadata": {
    "id": "7hk1KAYN0Gi3",
    "colab_type": "text"
   },
   "source": [
    "Комбинированные булевы выражения могут быть применены к массивам по принципу элемент — элемент используя специальные функции logical_and, logical_or и logical_not:"
   ]
  },
  {
   "cell_type": "code",
   "metadata": {
    "id": "CjpZfsWP0PTB",
    "colab_type": "code",
    "colab": {}
   },
   "source": [
    "a = np.array([1, 3, 0], float)\n",
    "np.logical_and(a > 0, a < 3)"
   ],
   "execution_count": 0,
   "outputs": []
  },
  {
   "cell_type": "code",
   "metadata": {
    "id": "uDdPBGD20SWs",
    "colab_type": "code",
    "colab": {}
   },
   "source": [
    "b = np.array([True, False, True], bool)\n",
    "np.logical_not(b)"
   ],
   "execution_count": 0,
   "outputs": []
  },
  {
   "cell_type": "code",
   "metadata": {
    "id": "ogdkMVT41Ki1",
    "colab_type": "code",
    "colab": {}
   },
   "source": [
    "c = np.array([False, True, False], bool)\n",
    "np.logical_or(b, c)"
   ],
   "execution_count": 0,
   "outputs": []
  },
  {
   "cell_type": "markdown",
   "metadata": {
    "id": "ejcSPLZy1SdQ",
    "colab_type": "text"
   },
   "source": [
    "Функция where создает новый массив из двух других массивов одинаковых длин используя булев фильтр для выбора межу двумя элементами. Базовый синтаксис: where(boolarray, truearray, falsearray):"
   ]
  },
  {
   "cell_type": "code",
   "metadata": {
    "id": "YlOqCniZ1aJf",
    "colab_type": "code",
    "colab": {}
   },
   "source": [
    "a = np.array([1, 3, 0], float)\n",
    "np.where(a != 0, a+1, 666)"
   ],
   "execution_count": 0,
   "outputs": []
  },
  {
   "cell_type": "markdown",
   "metadata": {
    "id": "eQM0UfHi2esm",
    "colab_type": "text"
   },
   "source": [
    "С функцией where так же может быть реализовано «массовое сравнение»:"
   ]
  },
  {
   "cell_type": "code",
   "metadata": {
    "id": "1dHC39Rq2jNY",
    "colab_type": "code",
    "colab": {}
   },
   "source": [
    "np.where(a > 0, 3, 2)"
   ],
   "execution_count": 0,
   "outputs": []
  },
  {
   "cell_type": "markdown",
   "metadata": {
    "id": "fMVE0eKv2pHz",
    "colab_type": "text"
   },
   "source": [
    "Некоторые функции дают возможность тестировать значения в массиве. Функция nonzero возвращает кортеж индексов ненулевых значений. Количество элементов в кортеже равно количеству осей в массиве:"
   ]
  },
  {
   "cell_type": "code",
   "metadata": {
    "id": "5iXgg6Yt2s1Q",
    "colab_type": "code",
    "colab": {}
   },
   "source": [
    "a = np.array([[0, 1], [3, 0]], float)\n",
    "a.nonzero()"
   ],
   "execution_count": 0,
   "outputs": []
  },
  {
   "cell_type": "markdown",
   "metadata": {
    "id": "06IZuVV722Je",
    "colab_type": "text"
   },
   "source": [
    "Также можно проверить значения на конечность и NaN(not a number):"
   ]
  },
  {
   "cell_type": "code",
   "metadata": {
    "id": "VzOUfTFB25sg",
    "colab_type": "code",
    "colab": {}
   },
   "source": [
    "a = np.array([1, np.NaN, np.Inf], float)\n",
    "a"
   ],
   "execution_count": 0,
   "outputs": []
  },
  {
   "cell_type": "code",
   "metadata": {
    "id": "6nDfPjws2_IL",
    "colab_type": "code",
    "colab": {}
   },
   "source": [
    "array([  1.,  NaN,  Inf])\n",
    "np.isnan(a)"
   ],
   "execution_count": 0,
   "outputs": []
  },
  {
   "cell_type": "code",
   "metadata": {
    "id": "DzRFEe8L3CC1",
    "colab_type": "code",
    "colab": {}
   },
   "source": [
    "np.isfinite(a)"
   ],
   "execution_count": 0,
   "outputs": []
  },
  {
   "cell_type": "markdown",
   "metadata": {
    "id": "y3tsKHnc3GAy",
    "colab_type": "text"
   },
   "source": [
    "Хотя здесь мы использовали константы numpy чтобы добавить значения NaN и бесконечность, они могут быть результатами применения стандартных математических операций."
   ]
  },
  {
   "cell_type": "markdown",
   "metadata": {
    "id": "hELM-_wz3LBY",
    "colab_type": "text"
   },
   "source": [
    "## Выбор элементов массива и манипуляция с ними"
   ]
  },
  {
   "cell_type": "markdown",
   "metadata": {
    "id": "pEWn7WWx3Pb3",
    "colab_type": "text"
   },
   "source": [
    "Как и у списков, элементы массива можно получить используя операцию доступа по индексу. Однако, в отличии от списков, массивы также позволяют делать выбор элементов используя другие массивы. Это значит, что мы можем использовать массив для фильтрации специфических подмножеств элементов других массивов.\n",
    "\n",
    "Булевы массивы могут быть использованы как массивы для фильтрации:"
   ]
  },
  {
   "cell_type": "code",
   "metadata": {
    "id": "AKhtp0W93Vgy",
    "colab_type": "code",
    "colab": {}
   },
   "source": [
    "a = np.array([[6, 4], [5, 9]], float)\n",
    "a >= 6"
   ],
   "execution_count": 0,
   "outputs": []
  },
  {
   "cell_type": "code",
   "metadata": {
    "id": "4OSmK0CS36iu",
    "colab_type": "code",
    "colab": {}
   },
   "source": [
    "a[a >= 6]"
   ],
   "execution_count": 0,
   "outputs": []
  },
  {
   "cell_type": "markdown",
   "metadata": {
    "id": "jexSfdfV4COJ",
    "colab_type": "text"
   },
   "source": [
    "Стоит заметить, что когда мы передаем булев массив a>=6 как индекс для операции доступа по индексу массива a, возвращаемый массив будет хранить только True значения. Также мы можем записать массив для фильтрации в переменную:"
   ]
  },
  {
   "cell_type": "code",
   "metadata": {
    "id": "zVKnlw7Y4GVc",
    "colab_type": "code",
    "colab": {}
   },
   "source": [
    "a = np.array([[6, 4], [5, 9]], float)\n",
    "sel = (a >= 6)\n",
    "a[sel]"
   ],
   "execution_count": 0,
   "outputs": []
  },
  {
   "cell_type": "markdown",
   "metadata": {
    "id": "SeXRLCcx4JC2",
    "colab_type": "text"
   },
   "source": [
    "Более замысловатая фильтрация может быть достигнута использованием булевых выражений:\n"
   ]
  },
  {
   "cell_type": "code",
   "metadata": {
    "id": "pygbgSv54KRd",
    "colab_type": "code",
    "colab": {}
   },
   "source": [
    "a[np.logical_and(a > 5, a < 9)]\n",
    "array([ 6.])"
   ],
   "execution_count": 0,
   "outputs": []
  },
  {
   "cell_type": "markdown",
   "metadata": {
    "id": "AnwiXpSN4TtP",
    "colab_type": "text"
   },
   "source": [
    "В придачу к булеву выбору, также можно использовать целочисленные массивы. В этом случае, целочисленный массив хранит индексы элементов, которые будут взяты из массива. Рассмотрим следующий одномерный пример:"
   ]
  },
  {
   "cell_type": "code",
   "metadata": {
    "id": "ZtpggLq74cbf",
    "colab_type": "code",
    "colab": {}
   },
   "source": [
    "a = np.array([2, 4, 6, 8], float)\n",
    "b = np.array([0, 0, 1, 3, 2, 1], int)\n",
    "a[b]"
   ],
   "execution_count": 0,
   "outputs": []
  },
  {
   "cell_type": "markdown",
   "metadata": {
    "id": "af1WL2vl4fET",
    "colab_type": "text"
   },
   "source": [
    "Иными словами, когда мы используем b для получения элементов из a, мы берем 0-й, 0-й, 1-й, 3-й, 2-й и 1-й элементы a в этом порядке. Списки также могут быть использованы как массивы для фильтрации:"
   ]
  },
  {
   "cell_type": "code",
   "metadata": {
    "id": "ny7SYYtl4hpH",
    "colab_type": "code",
    "colab": {}
   },
   "source": [
    "a = np.array([2, 4, 6, 8], float)\n",
    "a[[0, 0, 1, 3, 2, 1]]"
   ],
   "execution_count": 0,
   "outputs": []
  },
  {
   "cell_type": "markdown",
   "metadata": {
    "id": "sizh5CLG4ub6",
    "colab_type": "text"
   },
   "source": [
    "Для многомерных массивов, нам необходимо передать несколько одномерных целочисленных массивов в оператор доступа индексу (в нашем случае индексы - это массивы) для каждой оси. Потом каждый из массивов проходит такую последовательность: первый элемент соответствует индексу строки, который является первым элементом массива b, второй элемент соответствует индексу столбца, который является первым элементом массива c и так далее. Первый массив [2, 2] и второй [1, 4], имеем на выходе элементы с индексами [2, 1] и [2, 4]. Пример:\n"
   ]
  },
  {
   "cell_type": "code",
   "metadata": {
    "id": "dqOy4glR5GJh",
    "colab_type": "code",
    "colab": {}
   },
   "source": [
    "a = np.array([[1, 4], [9, 16]], float)\n",
    "b = np.array([0, 0, 1, 1, 0], int)\n",
    "c = np.array([0, 1, 1, 1, 1], int)\n",
    "a[b,c]"
   ],
   "execution_count": 0,
   "outputs": []
  },
  {
   "cell_type": "markdown",
   "metadata": {
    "id": "nkxtKecy5pBE",
    "colab_type": "text"
   },
   "source": [
    "Специальная функция take доступна для выполнения выборки с целочисленными массивами. Это работает также как и использования оператора взятия по индексу:"
   ]
  },
  {
   "cell_type": "code",
   "metadata": {
    "id": "TFvHAVtd51c6",
    "colab_type": "code",
    "colab": {}
   },
   "source": [
    "a = np.array([2, 4, 6, 8], float)\n",
    "b = np.array([0, 0, 1, 3, 2, 1], int)\n",
    "a.take(b)"
   ],
   "execution_count": 0,
   "outputs": []
  },
  {
   "cell_type": "markdown",
   "metadata": {
    "id": "m4k5WavC58CQ",
    "colab_type": "text"
   },
   "source": [
    "Функция take также предоставляет аргумент axis (ось) для взятия подсекции многомерного массива вдоль какой-либо оси. Примечание: по строкам или столбцам для двумерных массивов."
   ]
  },
  {
   "cell_type": "code",
   "metadata": {
    "id": "xye0Ae7E6XOp",
    "colab_type": "code",
    "colab": {}
   },
   "source": [
    "a = np.array([[0, 1], [2, 3]], float)\n",
    "b = np.array([0, 0, 1], int)\n",
    "a.take(b, axis=0)"
   ],
   "execution_count": 0,
   "outputs": []
  },
  {
   "cell_type": "code",
   "metadata": {
    "id": "f1Q90syn7L-4",
    "colab_type": "code",
    "colab": {}
   },
   "source": [
    "a.take(b, axis=1)"
   ],
   "execution_count": 0,
   "outputs": []
  },
  {
   "cell_type": "markdown",
   "metadata": {
    "id": "boyYCrQO7PvQ",
    "colab_type": "text"
   },
   "source": [
    "В противоположность к функции take есть функция put, которая будет брать значения из исходного массива и записывать их на специфические индексы в другом put-массиве."
   ]
  },
  {
   "cell_type": "code",
   "metadata": {
    "id": "K8CU-DdJ7fwM",
    "colab_type": "code",
    "colab": {}
   },
   "source": [
    "a = np.array([0, 1, 2, 3, 4, 5], float)\n",
    "b = np.array([9, 8, 7], float)\n",
    "a.put([0, 3], b)\n",
    "a"
   ],
   "execution_count": 0,
   "outputs": []
  },
  {
   "cell_type": "markdown",
   "metadata": {
    "id": "JaPKkNEv-egB",
    "colab_type": "text"
   },
   "source": [
    "Заметим, что значение 7 из исходного массива b не было использовано, так как только 2 индекса [0, 3] указаны. Исходный массив будет повторен если необходимо в случае не соответствия длин:"
   ]
  },
  {
   "cell_type": "code",
   "metadata": {
    "id": "V7EfvTUR-gL6",
    "colab_type": "code",
    "colab": {}
   },
   "source": [
    "a = np.array([0, 1, 2, 3, 4, 5], float)\n",
    "a.put([0, 3], 5)\n",
    "a"
   ],
   "execution_count": 0,
   "outputs": []
  },
  {
   "cell_type": "markdown",
   "metadata": {
    "id": "aXfQHlSq-0sA",
    "colab_type": "text"
   },
   "source": [
    "## Векторная и матричная математика"
   ]
  },
  {
   "cell_type": "markdown",
   "metadata": {
    "id": "CyNpXJPZ-5Y3",
    "colab_type": "text"
   },
   "source": [
    "NumPy обеспечивает много функций для работы с векторами и матрицами. Функция dot возвращает скалярное произведение векторов:"
   ]
  },
  {
   "cell_type": "code",
   "metadata": {
    "id": "Fl6AQqoG-4bK",
    "colab_type": "code",
    "colab": {}
   },
   "source": [
    "a = np.array([1, 2, 3], float)\n",
    "b = np.array([0, 1, 1], float)\n",
    "np.dot(a, b)"
   ],
   "execution_count": 0,
   "outputs": []
  },
  {
   "cell_type": "markdown",
   "metadata": {
    "id": "wmv8FJBv_EfQ",
    "colab_type": "text"
   },
   "source": [
    "Функция dot также может умножать матрицы:"
   ]
  },
  {
   "cell_type": "code",
   "metadata": {
    "id": "zjXsz3zc_HjT",
    "colab_type": "code",
    "colab": {}
   },
   "source": [
    "a = np.array([[0, 1], [2, 3]], float)\n",
    "b = np.array([2, 3], float)\n",
    "c = np.array([[1, 1], [4, 0]], float)\n",
    "a"
   ],
   "execution_count": 0,
   "outputs": []
  },
  {
   "cell_type": "code",
   "metadata": {
    "id": "Nt_v_65J_Ltb",
    "colab_type": "code",
    "colab": {}
   },
   "source": [
    "np.dot(b, a)"
   ],
   "execution_count": 0,
   "outputs": []
  },
  {
   "cell_type": "code",
   "metadata": {
    "id": "hQzUbTk9_QIL",
    "colab_type": "code",
    "colab": {}
   },
   "source": [
    "np.dot(a, b)"
   ],
   "execution_count": 0,
   "outputs": []
  },
  {
   "cell_type": "code",
   "metadata": {
    "id": "EzSJDfYZ_Si_",
    "colab_type": "code",
    "colab": {}
   },
   "source": [
    "np.dot(a, c)"
   ],
   "execution_count": 0,
   "outputs": []
  },
  {
   "cell_type": "code",
   "metadata": {
    "id": "kSTd9les_V-O",
    "colab_type": "code",
    "colab": {}
   },
   "source": [
    "np.dot(c, a)"
   ],
   "execution_count": 0,
   "outputs": []
  },
  {
   "cell_type": "markdown",
   "metadata": {
    "id": "iKgrtFBPEE09",
    "colab_type": "text"
   },
   "source": [
    "NumPy также предоставляет набор встроенных функций и методов для работы с линейной алгеброй. Это всё можно найти в под-модуле linalg. Этими модулями также можно оперировать с вырожденными и невырожденными матрицами. Определитель матрицы ищется таким образом:"
   ]
  },
  {
   "cell_type": "code",
   "metadata": {
    "id": "BEmoJ-m4EG98",
    "colab_type": "code",
    "colab": {}
   },
   "source": [
    "a = np.array([[4, 2, 0], [9, 3, 7], [1, 2, 1]], float)\n",
    "a"
   ],
   "execution_count": 0,
   "outputs": []
  },
  {
   "cell_type": "code",
   "metadata": {
    "id": "oFFpqZ_6EN3L",
    "colab_type": "code",
    "colab": {}
   },
   "source": [
    "np.linalg.det(a)"
   ],
   "execution_count": 0,
   "outputs": []
  },
  {
   "cell_type": "markdown",
   "metadata": {
    "id": "VjGSndG6CfZA",
    "colab_type": "text"
   },
   "source": [
    "## Статистика"
   ]
  },
  {
   "cell_type": "markdown",
   "metadata": {
    "id": "Gyb_-NPRChes",
    "colab_type": "text"
   },
   "source": [
    "В придачу к функциям mean, var и std, NumPy предоставляет еще некоторые методы для работы со статистическими данными в массивах.\n",
    "Медиана может быть найдена так:"
   ]
  },
  {
   "cell_type": "code",
   "metadata": {
    "id": "36iucEjbCjoN",
    "colab_type": "code",
    "colab": {}
   },
   "source": [
    "a = np.array([1, 4, 3, 8, 9, 2, 3], float)\n",
    "np.median(a)"
   ],
   "execution_count": 0,
   "outputs": []
  },
  {
   "cell_type": "markdown",
   "metadata": {
    "id": "4ST2wPUOClx7",
    "colab_type": "text"
   },
   "source": [
    "Коэффициент корреляции для некоторых переменных, наблюдается несколько раз и может быть найден из массивов вида: [[x1, x2, ...], [y1, y2, ...], [z1, z2, ...], ...], где x, y, z это разные квантовые наблюдаемые и номера указывают количество «наблюдений»:"
   ]
  },
  {
   "cell_type": "code",
   "metadata": {
    "id": "XZxhn9c7Cp-C",
    "colab_type": "code",
    "colab": {}
   },
   "source": [
    "a = np.array([[1, 2, 1, 3], [5, 3, 1, 8]], float)\n",
    "c = np.corrcoef(a)\n",
    "c"
   ],
   "execution_count": 0,
   "outputs": []
  },
  {
   "cell_type": "markdown",
   "metadata": {
    "id": "tcgZHplpCs6s",
    "colab_type": "text"
   },
   "source": [
    "Имеем возвращаемый массив c[i, j] который хранит корреляционный коэффициент для i-тых и j-тых квантовых наблюдаемых.\n",
    "Аналогично, ковариационный момент может быть найден:"
   ]
  },
  {
   "cell_type": "code",
   "metadata": {
    "id": "Rv6gcmseCvFD",
    "colab_type": "code",
    "colab": {}
   },
   "source": [
    "np.cov(a)"
   ],
   "execution_count": 0,
   "outputs": []
  },
  {
   "cell_type": "markdown",
   "metadata": {
    "id": "281tsqnoEjQT",
    "colab_type": "text"
   },
   "source": [
    "## Случайные числа"
   ]
  },
  {
   "cell_type": "markdown",
   "metadata": {
    "id": "DzdjmBevEmGX",
    "colab_type": "text"
   },
   "source": [
    "Важная часть каждой симуляции это способность генерировать случайные числа. Для этого мы используем встроенный в NumPy генератор псевдослучайных чисел в под-модуле random. Числа являются псевдо случайными, в том плане что, они сгенерированы детерминистически из порождающего элемента (seed number), но рассредоточены в статистическом сходстве с случайным образом. Для генерации NumPy использует особенный алгоритм который имеет название Mersenne Twister.\n",
    "Задать порождающий элемент последовательности случайных чисел можно так:"
   ]
  },
  {
   "cell_type": "code",
   "metadata": {
    "id": "vCPhynRsFBbY",
    "colab_type": "code",
    "colab": {}
   },
   "source": [
    "np.random.seed(293423)"
   ],
   "execution_count": 0,
   "outputs": []
  },
  {
   "cell_type": "markdown",
   "metadata": {
    "id": "imNasdxQFKMg",
    "colab_type": "text"
   },
   "source": [
    "Seed это целое число. Каждая программа которая запускается с одинаковым seed`ом будет генерировать одинаковую последовательность чисел каждый раз. Это может быть полезно для отладки, но вообще нам не нужно задавать seed, на самом деле, когда мы запускаем программу несколько раз, мы хотим получать каждый раз разную последовательность чисел. Если эта команда не будет выполнена, то NumPy автоматически выбирает случайный seed (базирующийся на времени), который является разным при каждом запуске программы.\n",
    "Массив из 5 случайных чисел из полуинтервала [0.0, 1.0) может быть сгенерирован так:"
   ]
  },
  {
   "cell_type": "code",
   "metadata": {
    "id": "pf8FWF9IFPEu",
    "colab_type": "code",
    "colab": {}
   },
   "source": [
    "np.random.rand(5)"
   ],
   "execution_count": 0,
   "outputs": []
  },
  {
   "cell_type": "markdown",
   "metadata": {
    "id": "8aEONu4-FZCg",
    "colab_type": "text"
   },
   "source": [
    "Функция rand может быть использована для генерации двумерных массивов, или можно использовать функцию reshape:"
   ]
  },
  {
   "cell_type": "code",
   "metadata": {
    "id": "bgr21W7rFX60",
    "colab_type": "code",
    "colab": {}
   },
   "source": [
    "np.random.rand(2,3)"
   ],
   "execution_count": 0,
   "outputs": []
  },
  {
   "cell_type": "code",
   "metadata": {
    "id": "lhLaKAu5Fc2S",
    "colab_type": "code",
    "colab": {}
   },
   "source": [
    "np.random.rand(6).reshape((2,3))"
   ],
   "execution_count": 0,
   "outputs": []
  },
  {
   "cell_type": "markdown",
   "metadata": {
    "id": "JjE1Cs8TFfdO",
    "colab_type": "text"
   },
   "source": [
    "Для генерации единичного случайного числа на интервале [0.0, 1.0):"
   ]
  },
  {
   "cell_type": "code",
   "metadata": {
    "id": "PSw1uDbnFiUO",
    "colab_type": "code",
    "colab": {}
   },
   "source": [
    "np.random.random()"
   ],
   "execution_count": 0,
   "outputs": []
  },
  {
   "cell_type": "markdown",
   "metadata": {
    "id": "H8ksPsdCFpE2",
    "colab_type": "text"
   },
   "source": [
    "Для генерации случайного целочисленного числа в диапазоне [min, max) используем функцию randint(min, max):"
   ]
  },
  {
   "cell_type": "code",
   "metadata": {
    "id": "VDVNK-rxFqiU",
    "colab_type": "code",
    "colab": {}
   },
   "source": [
    "np.random.randint(5, 10)"
   ],
   "execution_count": 0,
   "outputs": []
  },
  {
   "cell_type": "markdown",
   "metadata": {
    "id": "Wg5dbJBVFuza",
    "colab_type": "text"
   },
   "source": [
    "В каждом нашем примере, мы генерировали числа из непрерывного равномерного распределения. NumPy также включает генераторы для других распределений, таких как: Бета, биномиальное, хи-квадрат, Дирихле, экспоненциальное, Фишера, Гамма, геометрическое, Гамбала, гипергеометрическое, Лапласа, логистическое, логнормальное, логарифмическое, мультиномиальное, многомерное нормальное, отрицательное биномиальное, нецентральное хи-квадрат, нецентральное Фишера, нормальное (Гаусса), Парето, Пуассона, степенное, Рэлея, Коши, Стьюдента, треугольное, Фон-Миса, Вальда, Вейбулла и Ципфа. Рассмотрим два примера.\n",
    "Для генерации из дискретного распределения Пуассона при λ = 6.0,"
   ]
  },
  {
   "cell_type": "code",
   "metadata": {
    "id": "j23b5y_BFxfS",
    "colab_type": "code",
    "colab": {}
   },
   "source": [
    "np.random.poisson(6.0)"
   ],
   "execution_count": 0,
   "outputs": []
  },
  {
   "cell_type": "markdown",
   "metadata": {
    "id": "aBfhRzPTFzsS",
    "colab_type": "text"
   },
   "source": [
    "Для генерации числа из нормального распределения (Гаусса) при среднем значении μ = 1.5 и стандартной девиации σ = 4.0:"
   ]
  },
  {
   "cell_type": "code",
   "metadata": {
    "id": "yPyKrnrcF2Kx",
    "colab_type": "code",
    "colab": {}
   },
   "source": [
    "np.random.normal(1.5, 4.0)"
   ],
   "execution_count": 0,
   "outputs": []
  },
  {
   "cell_type": "markdown",
   "metadata": {
    "id": "9jGLfz4DF34s",
    "colab_type": "text"
   },
   "source": [
    "Для получении числа из нормального распределения (μ = 0, σ = 1), без указания аргументов:"
   ]
  },
  {
   "cell_type": "code",
   "metadata": {
    "id": "_zpVh22-F6wY",
    "colab_type": "code",
    "colab": {}
   },
   "source": [
    "np.random.normal()"
   ],
   "execution_count": 0,
   "outputs": []
  },
  {
   "cell_type": "markdown",
   "metadata": {
    "id": "X2buo_3jGBqi",
    "colab_type": "text"
   },
   "source": [
    "Для генерации нескольких значений используем аргумент size:"
   ]
  },
  {
   "cell_type": "code",
   "metadata": {
    "id": "cGEzPe2gGGzk",
    "colab_type": "code",
    "colab": {}
   },
   "source": [
    "np.random.normal(size=5)"
   ],
   "execution_count": 0,
   "outputs": []
  },
  {
   "cell_type": "markdown",
   "metadata": {
    "id": "Ea-NfOKxF-ue",
    "colab_type": "text"
   },
   "source": [
    "Модуль для генерации случайных чисел также может быть использован для случайного распределения значений в списке. Это может быть полезно если мы хотим случайно распределить значения в списке:"
   ]
  },
  {
   "cell_type": "code",
   "metadata": {
    "id": "p7CILJYDGLqm",
    "colab_type": "code",
    "colab": {}
   },
   "source": [
    "l = np.array(range(10), float)\n",
    "l"
   ],
   "execution_count": 0,
   "outputs": []
  },
  {
   "cell_type": "code",
   "metadata": {
    "id": "QPAFvfpgGRyZ",
    "colab_type": "code",
    "colab": {}
   },
   "source": [
    "np.random.shuffle(l)\n",
    "l"
   ],
   "execution_count": 0,
   "outputs": []
  }
 ]
}