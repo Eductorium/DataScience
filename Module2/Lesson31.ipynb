{
  "nbformat": 4,
  "nbformat_minor": 0,
  "metadata": {
    "colab": {
      "name": "Lesson31.ipynb",
      "provenance": [],
      "collapsed_sections": []
    },
    "kernelspec": {
      "name": "python3",
      "display_name": "Python 3"
    }
  },
  "cells": [
    {
      "cell_type": "markdown",
      "metadata": {
        "id": "KMdWnE3suEiq",
        "colab_type": "text"
      },
      "source": [
        "# Лекция 3.1. NumPy"
      ]
    },
    {
      "cell_type": "markdown",
      "metadata": {
        "id": "AbduDUbo2nBY",
        "colab_type": "text"
      },
      "source": [
        "NumPy это open-source модуль для Python, который предоставляет общие математические и числовые операции в виде пре-скомпилированных, быстрых функций. Они объединяются в высокоуровневые пакеты. Они обеспечивают функционал, который можно сравнить с функционалом MatLab. NumPy (Numeric Python) предоставляет базовые методы для манипуляции с большими массивами и матрицами.\n",
        "\n",
        "Сообщество NumPy и SciPy поддерживает онлайн руководство, включающие гайды и туториалы, тут: http://docs.scipy.org/doc."
      ]
    },
    {
      "cell_type": "markdown",
      "metadata": {
        "id": "eORgLxjN3PIb",
        "colab_type": "text"
      },
      "source": [
        "## Импорт модуля numpy"
      ]
    },
    {
      "cell_type": "markdown",
      "metadata": {
        "id": "RbKNEhUn3gY2",
        "colab_type": "text"
      },
      "source": [
        "Есть несколько путей импорта. Стандартный метод это — использовать простое выражение:"
      ]
    },
    {
      "cell_type": "code",
      "metadata": {
        "id": "TTp4pne-3lw0",
        "colab_type": "code",
        "colab": {}
      },
      "source": [
        "import numpy"
      ],
      "execution_count": 0,
      "outputs": []
    },
    {
      "cell_type": "markdown",
      "metadata": {
        "id": "HdkEJlkw3qVn",
        "colab_type": "text"
      },
      "source": [
        "Тем не менее, для большого количества вызовов функций numpy, становится утомительно писать numpy.X снова и снова. Вместо этого намного легче сделать это так:"
      ]
    },
    {
      "cell_type": "code",
      "metadata": {
        "id": "monyI3gy3v7k",
        "colab_type": "code",
        "colab": {}
      },
      "source": [
        "import numpy as np"
      ],
      "execution_count": 0,
      "outputs": []
    },
    {
      "cell_type": "markdown",
      "metadata": {
        "id": "YE6yAf8-3x7j",
        "colab_type": "text"
      },
      "source": [
        "Это выражение позволяет нам получать доступ к numpy объектам используя np.X вместо numpy.X. Также можно импортировать numpy прямо в используемое пространство имен, чтобы вообще не использовать функции через точку, а вызывать их напрямую:"
      ]
    },
    {
      "cell_type": "code",
      "metadata": {
        "id": "Wb7_RGKU33qQ",
        "colab_type": "code",
        "colab": {}
      },
      "source": [
        "from numpy import *"
      ],
      "execution_count": 0,
      "outputs": []
    },
    {
      "cell_type": "markdown",
      "metadata": {
        "id": "1G1NvoeH38FP",
        "colab_type": "text"
      },
      "source": [
        "Однако, этот вариант не приветствуется в программировании на python, так как убирает некоторые полезные структуры, которые модуль предоставляет. До конца этого туториала мы будем использовать второй вариант импорта (import numpy as np)."
      ]
    },
    {
      "cell_type": "markdown",
      "metadata": {
        "id": "A-JTC2lW4m9m",
        "colab_type": "text"
      },
      "source": [
        "## Массивы"
      ]
    },
    {
      "cell_type": "markdown",
      "metadata": {
        "id": "Xuf0dNgc4qFx",
        "colab_type": "text"
      },
      "source": [
        "Главной особенностью numpy является объект array. Массивы схожи со списками в python, исключая тот факт, что элементы массива должны иметь одинаковый тип данных, как float и int. С массивами можно проводить числовые операции с большим объемом информации в разы быстрее и, главное, намного эффективнее чем со списками.\n",
        "\n",
        "Создание массива из списка:"
      ]
    },
    {
      "cell_type": "code",
      "metadata": {
        "id": "Z41nxA8U4t1J",
        "colab_type": "code",
        "colab": {
          "base_uri": "https://localhost:8080/",
          "height": 34
        },
        "outputId": "588897d2-dc52-4f4a-a6bd-71e0a0a8bb64"
      },
      "source": [
        "a = np.array([1, 4, 5, 8], float)\n",
        "a"
      ],
      "execution_count": 63,
      "outputs": [
        {
          "output_type": "execute_result",
          "data": {
            "text/plain": [
              "array([1., 4., 5., 8.])"
            ]
          },
          "metadata": {
            "tags": []
          },
          "execution_count": 63
        }
      ]
    },
    {
      "cell_type": "code",
      "metadata": {
        "id": "XJ7UBnGR487c",
        "colab_type": "code",
        "colab": {
          "base_uri": "https://localhost:8080/",
          "height": 34
        },
        "outputId": "d12ec61f-408f-475c-f0fa-89faf97d48f9"
      },
      "source": [
        "type(a)"
      ],
      "execution_count": 64,
      "outputs": [
        {
          "output_type": "execute_result",
          "data": {
            "text/plain": [
              "numpy.ndarray"
            ]
          },
          "metadata": {
            "tags": []
          },
          "execution_count": 64
        }
      ]
    },
    {
      "cell_type": "markdown",
      "metadata": {
        "id": "JXbQLlEf5E7i",
        "colab_type": "text"
      },
      "source": [
        "Здесь функция array принимает два аргумента: список для конвертации в массив и тип для каждого элемента. Ко всем элементам можно получить доступ и манипулировать ими также, как вы бы это делали с обычными списками:"
      ]
    },
    {
      "cell_type": "code",
      "metadata": {
        "id": "v2clwy-K5IW7",
        "colab_type": "code",
        "colab": {
          "base_uri": "https://localhost:8080/",
          "height": 34
        },
        "outputId": "915eab37-24e1-4e20-82d5-0abb461634ea"
      },
      "source": [
        "a[:2]\n"
      ],
      "execution_count": 65,
      "outputs": [
        {
          "output_type": "execute_result",
          "data": {
            "text/plain": [
              "array([1., 4.])"
            ]
          },
          "metadata": {
            "tags": []
          },
          "execution_count": 65
        }
      ]
    },
    {
      "cell_type": "code",
      "metadata": {
        "id": "3HhtDxrV5P2B",
        "colab_type": "code",
        "colab": {
          "base_uri": "https://localhost:8080/",
          "height": 34
        },
        "outputId": "579ccb09-508b-4e2f-d1f5-26f5fd5eff10"
      },
      "source": [
        "a[3]"
      ],
      "execution_count": 66,
      "outputs": [
        {
          "output_type": "execute_result",
          "data": {
            "text/plain": [
              "8.0"
            ]
          },
          "metadata": {
            "tags": []
          },
          "execution_count": 66
        }
      ]
    },
    {
      "cell_type": "code",
      "metadata": {
        "id": "FhgJM1xx5UoS",
        "colab_type": "code",
        "colab": {
          "base_uri": "https://localhost:8080/",
          "height": 34
        },
        "outputId": "8fae1e2d-95d9-4c31-e98b-76e27ab14238"
      },
      "source": [
        "a[0] = 5.\n",
        "a"
      ],
      "execution_count": 67,
      "outputs": [
        {
          "output_type": "execute_result",
          "data": {
            "text/plain": [
              "array([5., 4., 5., 8.])"
            ]
          },
          "metadata": {
            "tags": []
          },
          "execution_count": 67
        }
      ]
    },
    {
      "cell_type": "markdown",
      "metadata": {
        "id": "tUg31loB5g_H",
        "colab_type": "text"
      },
      "source": [
        "Массивы могут быть и многомерными. В отличии от списков можно задавать команды в скобках. Вот пример двумерного массива (матрица):"
      ]
    },
    {
      "cell_type": "code",
      "metadata": {
        "id": "a1GGsMe95i0d",
        "colab_type": "code",
        "colab": {
          "base_uri": "https://localhost:8080/",
          "height": 51
        },
        "outputId": "265c7944-669d-4af4-baff-db88b16421e4"
      },
      "source": [
        "a = np.array([[1, 2, 3], [4, 5, 6]], float)\n",
        "a"
      ],
      "execution_count": 68,
      "outputs": [
        {
          "output_type": "execute_result",
          "data": {
            "text/plain": [
              "array([[1., 2., 3.],\n",
              "       [4., 5., 6.]])"
            ]
          },
          "metadata": {
            "tags": []
          },
          "execution_count": 68
        }
      ]
    },
    {
      "cell_type": "code",
      "metadata": {
        "id": "ECwvznxg5nKT",
        "colab_type": "code",
        "colab": {
          "base_uri": "https://localhost:8080/",
          "height": 34
        },
        "outputId": "1a56aa7e-db2f-4a42-cb42-cfdc892c1ce6"
      },
      "source": [
        "a[0,0]"
      ],
      "execution_count": 69,
      "outputs": [
        {
          "output_type": "execute_result",
          "data": {
            "text/plain": [
              "1.0"
            ]
          },
          "metadata": {
            "tags": []
          },
          "execution_count": 69
        }
      ]
    },
    {
      "cell_type": "code",
      "metadata": {
        "id": "eC_3237u5pdk",
        "colab_type": "code",
        "colab": {
          "base_uri": "https://localhost:8080/",
          "height": 34
        },
        "outputId": "ad84bd95-4c49-4fb9-d373-3a1cf657d3a5"
      },
      "source": [
        "a[0,1]"
      ],
      "execution_count": 70,
      "outputs": [
        {
          "output_type": "execute_result",
          "data": {
            "text/plain": [
              "2.0"
            ]
          },
          "metadata": {
            "tags": []
          },
          "execution_count": 70
        }
      ]
    },
    {
      "cell_type": "markdown",
      "metadata": {
        "id": "s-BwQIwm5tSQ",
        "colab_type": "text"
      },
      "source": [
        "Array slicing работает с многомерными массивами аналогично, как и с одномерными, применяя каждый срез, как фильтр для установленного измерения. Используйте \":\" в измерении для указывания использования всех элементов этого измерения:"
      ]
    },
    {
      "cell_type": "code",
      "metadata": {
        "id": "8k4SUbNL54P4",
        "colab_type": "code",
        "colab": {
          "base_uri": "https://localhost:8080/",
          "height": 34
        },
        "outputId": "f5cd33b8-b600-487a-f7a5-33e691fd8710"
      },
      "source": [
        "a = np.array([[1, 2, 3], [4, 5, 6]], float)\n",
        "a[1,:]"
      ],
      "execution_count": 71,
      "outputs": [
        {
          "output_type": "execute_result",
          "data": {
            "text/plain": [
              "array([4., 5., 6.])"
            ]
          },
          "metadata": {
            "tags": []
          },
          "execution_count": 71
        }
      ]
    },
    {
      "cell_type": "code",
      "metadata": {
        "id": "Rl77IUHO595x",
        "colab_type": "code",
        "colab": {
          "base_uri": "https://localhost:8080/",
          "height": 34
        },
        "outputId": "790b49c2-4f4e-4310-f8ac-8254dedd7f81"
      },
      "source": [
        "a[:,2]"
      ],
      "execution_count": 72,
      "outputs": [
        {
          "output_type": "execute_result",
          "data": {
            "text/plain": [
              "array([3., 6.])"
            ]
          },
          "metadata": {
            "tags": []
          },
          "execution_count": 72
        }
      ]
    },
    {
      "cell_type": "code",
      "metadata": {
        "id": "lPZ1QhCc6SId",
        "colab_type": "code",
        "colab": {
          "base_uri": "https://localhost:8080/",
          "height": 34
        },
        "outputId": "aa188b3c-93e7-45e9-a13d-fc95ba700a65"
      },
      "source": [
        "a[-1:, -2:]"
      ],
      "execution_count": 73,
      "outputs": [
        {
          "output_type": "execute_result",
          "data": {
            "text/plain": [
              "array([[5., 6.]])"
            ]
          },
          "metadata": {
            "tags": []
          },
          "execution_count": 73
        }
      ]
    },
    {
      "cell_type": "markdown",
      "metadata": {
        "id": "cLDo7O5n6aBU",
        "colab_type": "text"
      },
      "source": [
        "Метод shape возвращает количество строк и столбцов в матрице:"
      ]
    },
    {
      "cell_type": "code",
      "metadata": {
        "id": "j4lhcW5K6cw8",
        "colab_type": "code",
        "colab": {
          "base_uri": "https://localhost:8080/",
          "height": 34
        },
        "outputId": "5d10b2c0-1721-4089-a427-691a0893bd3b"
      },
      "source": [
        "a.shape"
      ],
      "execution_count": 74,
      "outputs": [
        {
          "output_type": "execute_result",
          "data": {
            "text/plain": [
              "(2, 3)"
            ]
          },
          "metadata": {
            "tags": []
          },
          "execution_count": 74
        }
      ]
    },
    {
      "cell_type": "markdown",
      "metadata": {
        "id": "IywyNXLA6vYK",
        "colab_type": "text"
      },
      "source": [
        "Метод dtype возвращает тип переменных, хранящихся в массиве:"
      ]
    },
    {
      "cell_type": "code",
      "metadata": {
        "id": "GL8rjW8L6waO",
        "colab_type": "code",
        "colab": {
          "base_uri": "https://localhost:8080/",
          "height": 34
        },
        "outputId": "fa6fe4d0-9473-4506-c585-9c940ce9f268"
      },
      "source": [
        "a.dtype"
      ],
      "execution_count": 75,
      "outputs": [
        {
          "output_type": "execute_result",
          "data": {
            "text/plain": [
              "dtype('float64')"
            ]
          },
          "metadata": {
            "tags": []
          },
          "execution_count": 75
        }
      ]
    },
    {
      "cell_type": "markdown",
      "metadata": {
        "id": "mykIZ4y4641E",
        "colab_type": "text"
      },
      "source": [
        "Тут float64, это числовой тип данных в numpy, который используется для хранения вещественных чисел двойной точности. Так как же float в Python.\n",
        "\n",
        "Метод len возвращает длину первого измерения (оси):"
      ]
    },
    {
      "cell_type": "code",
      "metadata": {
        "id": "amHn7lcS672s",
        "colab_type": "code",
        "colab": {
          "base_uri": "https://localhost:8080/",
          "height": 34
        },
        "outputId": "a7fa71fb-d15e-44eb-8289-e66a6f3803c5"
      },
      "source": [
        "a = np.array([[1, 2, 3], [4, 5, 6]], float)\n",
        "len(a)"
      ],
      "execution_count": 76,
      "outputs": [
        {
          "output_type": "execute_result",
          "data": {
            "text/plain": [
              "2"
            ]
          },
          "metadata": {
            "tags": []
          },
          "execution_count": 76
        }
      ]
    },
    {
      "cell_type": "markdown",
      "metadata": {
        "id": "jJXxuWTN7Bdb",
        "colab_type": "text"
      },
      "source": [
        "Метод in используется для проверки на наличие элемента в массиве:"
      ]
    },
    {
      "cell_type": "code",
      "metadata": {
        "id": "G7T9gET37C1m",
        "colab_type": "code",
        "colab": {
          "base_uri": "https://localhost:8080/",
          "height": 34
        },
        "outputId": "2e523dfa-98e7-4cb1-85e3-caeee046abc1"
      },
      "source": [
        "a = np.array([[1, 2, 3], [4, 5, 6]], float)\n",
        "2 in a"
      ],
      "execution_count": 77,
      "outputs": [
        {
          "output_type": "execute_result",
          "data": {
            "text/plain": [
              "True"
            ]
          },
          "metadata": {
            "tags": []
          },
          "execution_count": 77
        }
      ]
    },
    {
      "cell_type": "code",
      "metadata": {
        "id": "9KrXsJJ97Mxu",
        "colab_type": "code",
        "colab": {
          "base_uri": "https://localhost:8080/",
          "height": 34
        },
        "outputId": "2a67896f-e8dd-4709-8f3b-6b29f651849b"
      },
      "source": [
        "0 in a"
      ],
      "execution_count": 78,
      "outputs": [
        {
          "output_type": "execute_result",
          "data": {
            "text/plain": [
              "False"
            ]
          },
          "metadata": {
            "tags": []
          },
          "execution_count": 78
        }
      ]
    },
    {
      "cell_type": "markdown",
      "metadata": {
        "id": "qAUroPB17Qt1",
        "colab_type": "text"
      },
      "source": [
        "Массивы можно переформировать при помощи метода, который задает новый многомерный массив. Следуя следующему примеру, мы переформатируем одномерный массив из десяти элементов во двумерный массив, состоящий из пяти строк и двух столбцов:"
      ]
    },
    {
      "cell_type": "code",
      "metadata": {
        "id": "RJ5r_oqA7XJ6",
        "colab_type": "code",
        "colab": {
          "base_uri": "https://localhost:8080/",
          "height": 34
        },
        "outputId": "ad04b5ec-11fe-4f06-e182-bedd01591165"
      },
      "source": [
        "a = np.array(range(10), float)\n",
        "a"
      ],
      "execution_count": 79,
      "outputs": [
        {
          "output_type": "execute_result",
          "data": {
            "text/plain": [
              "array([0., 1., 2., 3., 4., 5., 6., 7., 8., 9.])"
            ]
          },
          "metadata": {
            "tags": []
          },
          "execution_count": 79
        }
      ]
    },
    {
      "cell_type": "code",
      "metadata": {
        "id": "HZqQnZOM7a5q",
        "colab_type": "code",
        "colab": {
          "base_uri": "https://localhost:8080/",
          "height": 102
        },
        "outputId": "8a500ea4-2470-4783-99d6-acb8869eefdb"
      },
      "source": [
        "a = a.reshape((5, 2))\n",
        "a"
      ],
      "execution_count": 80,
      "outputs": [
        {
          "output_type": "execute_result",
          "data": {
            "text/plain": [
              "array([[0., 1.],\n",
              "       [2., 3.],\n",
              "       [4., 5.],\n",
              "       [6., 7.],\n",
              "       [8., 9.]])"
            ]
          },
          "metadata": {
            "tags": []
          },
          "execution_count": 80
        }
      ]
    },
    {
      "cell_type": "code",
      "metadata": {
        "id": "3EKesJ_h7gRt",
        "colab_type": "code",
        "colab": {
          "base_uri": "https://localhost:8080/",
          "height": 34
        },
        "outputId": "1982f1d4-b8f4-41cc-ff4a-8ea013dcfaeb"
      },
      "source": [
        "a.shape"
      ],
      "execution_count": 81,
      "outputs": [
        {
          "output_type": "execute_result",
          "data": {
            "text/plain": [
              "(5, 2)"
            ]
          },
          "metadata": {
            "tags": []
          },
          "execution_count": 81
        }
      ]
    },
    {
      "cell_type": "markdown",
      "metadata": {
        "id": "zy2nFb5m7kF1",
        "colab_type": "text"
      },
      "source": [
        "Обратите внимание, метод reshape создает новый массив, а не модифицирует оригинальный.\n",
        "\n",
        "Имейте ввиду, связывание имен в Python работает и с массивами. Метод copy используется для создания копии существующего массива в памяти:"
      ]
    },
    {
      "cell_type": "code",
      "metadata": {
        "id": "cO9RFS9u7rS_",
        "colab_type": "code",
        "colab": {
          "base_uri": "https://localhost:8080/",
          "height": 34
        },
        "outputId": "5a6ee343-f949-471c-8aae-a7522d93ec91"
      },
      "source": [
        "a = np.array([1, 2, 3], float)\n",
        "b = a\n",
        "c = a.copy()\n",
        "a[0] = 0\n",
        "a"
      ],
      "execution_count": 82,
      "outputs": [
        {
          "output_type": "execute_result",
          "data": {
            "text/plain": [
              "array([0., 2., 3.])"
            ]
          },
          "metadata": {
            "tags": []
          },
          "execution_count": 82
        }
      ]
    },
    {
      "cell_type": "code",
      "metadata": {
        "id": "AiBI8V0371wR",
        "colab_type": "code",
        "colab": {
          "base_uri": "https://localhost:8080/",
          "height": 34
        },
        "outputId": "f5ddfd91-7842-4003-ed01-df05ca715f31"
      },
      "source": [
        "b"
      ],
      "execution_count": 83,
      "outputs": [
        {
          "output_type": "execute_result",
          "data": {
            "text/plain": [
              "array([0., 2., 3.])"
            ]
          },
          "metadata": {
            "tags": []
          },
          "execution_count": 83
        }
      ]
    },
    {
      "cell_type": "markdown",
      "metadata": {
        "id": "IX1agvBQ8CHB",
        "colab_type": "text"
      },
      "source": [
        "Обратите внимание, что после того, как мы выполнили a[0] = 0, массив, на который ссылается переменая b также изменился. Это объясняется тем, что в выражении b = a просто была создана ссылка на один и тот же массив, на который ссылалась переменная a. В памяти он располагается в одном месте и теперь на него стала ссылаться и переменная b. А вот использование метода copy создало копию массива в новом месте в памяти, поэтому массив c изменения массива, на который ссылается переменная a, не затронули:"
      ]
    },
    {
      "cell_type": "code",
      "metadata": {
        "id": "uP1ee1k_75o5",
        "colab_type": "code",
        "colab": {
          "base_uri": "https://localhost:8080/",
          "height": 34
        },
        "outputId": "42382e05-dd06-4a1f-a485-118d05708f29"
      },
      "source": [
        "c"
      ],
      "execution_count": 84,
      "outputs": [
        {
          "output_type": "execute_result",
          "data": {
            "text/plain": [
              "array([1., 2., 3.])"
            ]
          },
          "metadata": {
            "tags": []
          },
          "execution_count": 84
        }
      ]
    },
    {
      "cell_type": "markdown",
      "metadata": {
        "id": "kBeqyifS86ll",
        "colab_type": "text"
      },
      "source": [
        "Из numpy массивов можно также создавать обычные плоские списки Python вот так:\n"
      ]
    },
    {
      "cell_type": "code",
      "metadata": {
        "id": "QGyihdQU9BD0",
        "colab_type": "code",
        "colab": {
          "base_uri": "https://localhost:8080/",
          "height": 34
        },
        "outputId": "627f2d5e-3fb5-435c-f5e7-959d9ac730c7"
      },
      "source": [
        "a = np.array([1, 2, 3], float)\n",
        "a.tolist()"
      ],
      "execution_count": 85,
      "outputs": [
        {
          "output_type": "execute_result",
          "data": {
            "text/plain": [
              "[1.0, 2.0, 3.0]"
            ]
          },
          "metadata": {
            "tags": []
          },
          "execution_count": 85
        }
      ]
    },
    {
      "cell_type": "markdown",
      "metadata": {
        "id": "gBU6GI_V9MQy",
        "colab_type": "text"
      },
      "source": [
        "Или вот так:"
      ]
    },
    {
      "cell_type": "code",
      "metadata": {
        "id": "AFatlGyd9F01",
        "colab_type": "code",
        "colab": {
          "base_uri": "https://localhost:8080/",
          "height": 34
        },
        "outputId": "13beb5c4-305c-439f-c86e-b1a0d5180f21"
      },
      "source": [
        "list(a)"
      ],
      "execution_count": 86,
      "outputs": [
        {
          "output_type": "execute_result",
          "data": {
            "text/plain": [
              "[1.0, 2.0, 3.0]"
            ]
          },
          "metadata": {
            "tags": []
          },
          "execution_count": 86
        }
      ]
    },
    {
      "cell_type": "markdown",
      "metadata": {
        "id": "64LB-OjU9wct",
        "colab_type": "text"
      },
      "source": [
        "Массив можно заполнить одинаковыми значениями:"
      ]
    },
    {
      "cell_type": "code",
      "metadata": {
        "id": "UgMxqTdp96hq",
        "colab_type": "code",
        "colab": {
          "base_uri": "https://localhost:8080/",
          "height": 34
        },
        "outputId": "9d66caf3-d4f3-4287-e560-b6d6422227b4"
      },
      "source": [
        "a = np.array([1, 2, 3], float)\n",
        "a"
      ],
      "execution_count": 87,
      "outputs": [
        {
          "output_type": "execute_result",
          "data": {
            "text/plain": [
              "array([1., 2., 3.])"
            ]
          },
          "metadata": {
            "tags": []
          },
          "execution_count": 87
        }
      ]
    },
    {
      "cell_type": "code",
      "metadata": {
        "id": "vC5Lz3RQ9_f1",
        "colab_type": "code",
        "colab": {
          "base_uri": "https://localhost:8080/",
          "height": 34
        },
        "outputId": "45b387e7-972e-4a75-caf8-efb4fbbba68e"
      },
      "source": [
        "a.fill(0)\n",
        "a"
      ],
      "execution_count": 88,
      "outputs": [
        {
          "output_type": "execute_result",
          "data": {
            "text/plain": [
              "array([0., 0., 0.])"
            ]
          },
          "metadata": {
            "tags": []
          },
          "execution_count": 88
        }
      ]
    },
    {
      "cell_type": "markdown",
      "metadata": {
        "id": "yOJX0O9y-FDW",
        "colab_type": "text"
      },
      "source": [
        "Транспонирование массивов также возможно, при этом создается новый массив:"
      ]
    },
    {
      "cell_type": "code",
      "metadata": {
        "id": "Z3l70S1e-G-0",
        "colab_type": "code",
        "colab": {
          "base_uri": "https://localhost:8080/",
          "height": 51
        },
        "outputId": "d11eae34-5c9f-49e1-ad27-9d50541441b3"
      },
      "source": [
        "a = np.array(range(6), float).reshape((2, 3))\n",
        "a"
      ],
      "execution_count": 89,
      "outputs": [
        {
          "output_type": "execute_result",
          "data": {
            "text/plain": [
              "array([[0., 1., 2.],\n",
              "       [3., 4., 5.]])"
            ]
          },
          "metadata": {
            "tags": []
          },
          "execution_count": 89
        }
      ]
    },
    {
      "cell_type": "code",
      "metadata": {
        "id": "f5cSRDrz-NDU",
        "colab_type": "code",
        "colab": {
          "base_uri": "https://localhost:8080/",
          "height": 68
        },
        "outputId": "6eb1b818-7446-425a-e850-c96359dfee80"
      },
      "source": [
        "a.transpose()"
      ],
      "execution_count": 90,
      "outputs": [
        {
          "output_type": "execute_result",
          "data": {
            "text/plain": [
              "array([[0., 3.],\n",
              "       [1., 4.],\n",
              "       [2., 5.]])"
            ]
          },
          "metadata": {
            "tags": []
          },
          "execution_count": 90
        }
      ]
    },
    {
      "cell_type": "markdown",
      "metadata": {
        "id": "NFhQnjTO-Qer",
        "colab_type": "text"
      },
      "source": [
        "Многомерный массив можно переконвертировать в одномерный при помощи метода flatten:"
      ]
    },
    {
      "cell_type": "code",
      "metadata": {
        "id": "yNnJeatU-Txl",
        "colab_type": "code",
        "colab": {
          "base_uri": "https://localhost:8080/",
          "height": 51
        },
        "outputId": "9bfd8577-c0f4-4510-b491-e7a2c7428c7d"
      },
      "source": [
        "a = np.array([[1, 2, 3], [4, 5, 6]], float)\n",
        "a"
      ],
      "execution_count": 91,
      "outputs": [
        {
          "output_type": "execute_result",
          "data": {
            "text/plain": [
              "array([[1., 2., 3.],\n",
              "       [4., 5., 6.]])"
            ]
          },
          "metadata": {
            "tags": []
          },
          "execution_count": 91
        }
      ]
    },
    {
      "cell_type": "code",
      "metadata": {
        "id": "AE1rpwKU-Ybl",
        "colab_type": "code",
        "colab": {
          "base_uri": "https://localhost:8080/",
          "height": 34
        },
        "outputId": "94f00adc-c49e-4715-907e-577d097266b0"
      },
      "source": [
        "a.flatten()"
      ],
      "execution_count": 92,
      "outputs": [
        {
          "output_type": "execute_result",
          "data": {
            "text/plain": [
              "array([1., 2., 3., 4., 5., 6.])"
            ]
          },
          "metadata": {
            "tags": []
          },
          "execution_count": 92
        }
      ]
    },
    {
      "cell_type": "markdown",
      "metadata": {
        "id": "tBlWijRw-a8L",
        "colab_type": "text"
      },
      "source": [
        "Два или больше массивов можно сконкатенировать при помощи метода concatenate:"
      ]
    },
    {
      "cell_type": "code",
      "metadata": {
        "id": "6RjTh80P-dJZ",
        "colab_type": "code",
        "colab": {
          "base_uri": "https://localhost:8080/",
          "height": 34
        },
        "outputId": "619048b3-11fc-484e-d733-18b5be166a9b"
      },
      "source": [
        "a = np.array([1,2], float)\n",
        "b = np.array([3,4,5,6], float)\n",
        "c = np.array([7,8,9], float)\n",
        "np.concatenate((a, b, c))"
      ],
      "execution_count": 93,
      "outputs": [
        {
          "output_type": "execute_result",
          "data": {
            "text/plain": [
              "array([1., 2., 3., 4., 5., 6., 7., 8., 9.])"
            ]
          },
          "metadata": {
            "tags": []
          },
          "execution_count": 93
        }
      ]
    },
    {
      "cell_type": "markdown",
      "metadata": {
        "id": "UyR0rQKH-lJB",
        "colab_type": "text"
      },
      "source": [
        "Если массив не одномерный, можно задать ось, по которой будет происходить соединение. По умолчанию (не задавая значения оси), соединение будет происходить по первому измерению:"
      ]
    },
    {
      "cell_type": "code",
      "metadata": {
        "id": "C3m3n0Qv-kY4",
        "colab_type": "code",
        "colab": {
          "base_uri": "https://localhost:8080/",
          "height": 85
        },
        "outputId": "dbc21a7f-5d8f-42d1-8385-081efc56318e"
      },
      "source": [
        "a = np.array([[1, 2], [3, 4]], float)\n",
        "b = np.array([[5, 6], [7,8]], float)\n",
        "np.concatenate((a,b))"
      ],
      "execution_count": 94,
      "outputs": [
        {
          "output_type": "execute_result",
          "data": {
            "text/plain": [
              "array([[1., 2.],\n",
              "       [3., 4.],\n",
              "       [5., 6.],\n",
              "       [7., 8.]])"
            ]
          },
          "metadata": {
            "tags": []
          },
          "execution_count": 94
        }
      ]
    },
    {
      "cell_type": "code",
      "metadata": {
        "id": "KOYyVvIb-tEV",
        "colab_type": "code",
        "colab": {
          "base_uri": "https://localhost:8080/",
          "height": 85
        },
        "outputId": "c49d1f11-a4cd-483c-90f8-da4def9e4ef3"
      },
      "source": [
        "np.concatenate((a,b), axis=0)"
      ],
      "execution_count": 95,
      "outputs": [
        {
          "output_type": "execute_result",
          "data": {
            "text/plain": [
              "array([[1., 2.],\n",
              "       [3., 4.],\n",
              "       [5., 6.],\n",
              "       [7., 8.]])"
            ]
          },
          "metadata": {
            "tags": []
          },
          "execution_count": 95
        }
      ]
    },
    {
      "cell_type": "code",
      "metadata": {
        "id": "fTamFkZS-xOe",
        "colab_type": "code",
        "colab": {
          "base_uri": "https://localhost:8080/",
          "height": 51
        },
        "outputId": "52a021ab-c607-4beb-b0c1-5b1792421c19"
      },
      "source": [
        "np.concatenate((a,b), axis=1)"
      ],
      "execution_count": 96,
      "outputs": [
        {
          "output_type": "execute_result",
          "data": {
            "text/plain": [
              "array([[1., 2., 5., 6.],\n",
              "       [3., 4., 7., 8.]])"
            ]
          },
          "metadata": {
            "tags": []
          },
          "execution_count": 96
        }
      ]
    },
    {
      "cell_type": "markdown",
      "metadata": {
        "id": "8Up0GuaT-0I7",
        "colab_type": "text"
      },
      "source": [
        "Размерность массива может быть увеличена при использовании константы newaxis в квадратных скобках:"
      ]
    },
    {
      "cell_type": "code",
      "metadata": {
        "id": "HzRgqvX--4AY",
        "colab_type": "code",
        "colab": {
          "base_uri": "https://localhost:8080/",
          "height": 34
        },
        "outputId": "4e3b9967-9d51-47df-e379-b3efb3084db4"
      },
      "source": [
        "a = np.array([1, 2, 3], float)\n",
        "a"
      ],
      "execution_count": 97,
      "outputs": [
        {
          "output_type": "execute_result",
          "data": {
            "text/plain": [
              "array([1., 2., 3.])"
            ]
          },
          "metadata": {
            "tags": []
          },
          "execution_count": 97
        }
      ]
    },
    {
      "cell_type": "code",
      "metadata": {
        "id": "8cr8WZL0-77P",
        "colab_type": "code",
        "colab": {
          "base_uri": "https://localhost:8080/",
          "height": 68
        },
        "outputId": "9fc4879d-cd45-43a7-e53e-e6a6244cae17"
      },
      "source": [
        "a[:,np.newaxis]"
      ],
      "execution_count": 98,
      "outputs": [
        {
          "output_type": "execute_result",
          "data": {
            "text/plain": [
              "array([[1.],\n",
              "       [2.],\n",
              "       [3.]])"
            ]
          },
          "metadata": {
            "tags": []
          },
          "execution_count": 98
        }
      ]
    },
    {
      "cell_type": "code",
      "metadata": {
        "id": "yVzJw7_O_BBk",
        "colab_type": "code",
        "colab": {
          "base_uri": "https://localhost:8080/",
          "height": 34
        },
        "outputId": "12f9dfb3-38be-49b7-81ab-5f562b1e84b4"
      },
      "source": [
        "a[:,np.newaxis].shape"
      ],
      "execution_count": 99,
      "outputs": [
        {
          "output_type": "execute_result",
          "data": {
            "text/plain": [
              "(3, 1)"
            ]
          },
          "metadata": {
            "tags": []
          },
          "execution_count": 99
        }
      ]
    },
    {
      "cell_type": "code",
      "metadata": {
        "id": "atPVBZr9_DYm",
        "colab_type": "code",
        "colab": {
          "base_uri": "https://localhost:8080/",
          "height": 51
        },
        "outputId": "a8fb9058-0b80-4d66-bdc4-d91a4359ef51"
      },
      "source": [
        "b[np.newaxis,:]"
      ],
      "execution_count": 100,
      "outputs": [
        {
          "output_type": "execute_result",
          "data": {
            "text/plain": [
              "array([[[5., 6.],\n",
              "        [7., 8.]]])"
            ]
          },
          "metadata": {
            "tags": []
          },
          "execution_count": 100
        }
      ]
    },
    {
      "cell_type": "code",
      "metadata": {
        "id": "759yBF9J_GSq",
        "colab_type": "code",
        "colab": {
          "base_uri": "https://localhost:8080/",
          "height": 34
        },
        "outputId": "a7e0b415-37f4-47c1-ebfc-2892411f2cad"
      },
      "source": [
        "b[np.newaxis,:].shape"
      ],
      "execution_count": 101,
      "outputs": [
        {
          "output_type": "execute_result",
          "data": {
            "text/plain": [
              "(1, 2, 2)"
            ]
          },
          "metadata": {
            "tags": []
          },
          "execution_count": 101
        }
      ]
    },
    {
      "cell_type": "markdown",
      "metadata": {
        "id": "YJRlgT51_N5o",
        "colab_type": "text"
      },
      "source": [
        "Заметьте, тут каждый массив двумерный; созданный при помощи newaxis имеет размерность один. Метод newaxis подходит для удобного создания надлежаще-мерных массивов в векторной и матричной математике."
      ]
    },
    {
      "cell_type": "markdown",
      "metadata": {
        "id": "T1yEkqoy_a93",
        "colab_type": "text"
      },
      "source": [
        "## Другие пути создания массивов"
      ]
    },
    {
      "cell_type": "markdown",
      "metadata": {
        "id": "_DVc2XqlNAP9",
        "colab_type": "text"
      },
      "source": [
        "Функция arange аналогична функции range, но возвращает массив:"
      ]
    },
    {
      "cell_type": "code",
      "metadata": {
        "id": "APx_d7VfNE1l",
        "colab_type": "code",
        "colab": {
          "base_uri": "https://localhost:8080/",
          "height": 34
        },
        "outputId": "b7120616-de90-4763-f1dc-dc07f66d2a1a"
      },
      "source": [
        "np.arange(5, dtype=float)"
      ],
      "execution_count": 102,
      "outputs": [
        {
          "output_type": "execute_result",
          "data": {
            "text/plain": [
              "array([0., 1., 2., 3., 4.])"
            ]
          },
          "metadata": {
            "tags": []
          },
          "execution_count": 102
        }
      ]
    },
    {
      "cell_type": "code",
      "metadata": {
        "id": "kV0XZE8hNQHl",
        "colab_type": "code",
        "colab": {
          "base_uri": "https://localhost:8080/",
          "height": 34
        },
        "outputId": "2dbca6c1-0774-4ab8-8050-d536844ed47b"
      },
      "source": [
        "np.arange(1, 6, 2, dtype=int)"
      ],
      "execution_count": 103,
      "outputs": [
        {
          "output_type": "execute_result",
          "data": {
            "text/plain": [
              "array([1, 3, 5])"
            ]
          },
          "metadata": {
            "tags": []
          },
          "execution_count": 103
        }
      ]
    },
    {
      "cell_type": "markdown",
      "metadata": {
        "id": "dFBrbYboNWk0",
        "colab_type": "text"
      },
      "source": [
        "Функции zeros и ones создают новые массивы с установленной размерностью, заполненные этими значениями. Это, наверное, самые простые в использовании функции для создания массивов:"
      ]
    },
    {
      "cell_type": "code",
      "metadata": {
        "id": "6B8dMNU4NytZ",
        "colab_type": "code",
        "colab": {
          "base_uri": "https://localhost:8080/",
          "height": 51
        },
        "outputId": "64e91dd1-3de6-47f7-9a4d-b73c387dc3ce"
      },
      "source": [
        "np.ones((2,3), dtype=float)"
      ],
      "execution_count": 104,
      "outputs": [
        {
          "output_type": "execute_result",
          "data": {
            "text/plain": [
              "array([[1., 1., 1.],\n",
              "       [1., 1., 1.]])"
            ]
          },
          "metadata": {
            "tags": []
          },
          "execution_count": 104
        }
      ]
    },
    {
      "cell_type": "code",
      "metadata": {
        "id": "k8XsAZcoN71e",
        "colab_type": "code",
        "colab": {
          "base_uri": "https://localhost:8080/",
          "height": 34
        },
        "outputId": "cd7d6bb1-c2de-4fed-f1e2-6140f5d4189b"
      },
      "source": [
        "np.zeros(7, dtype=int)"
      ],
      "execution_count": 105,
      "outputs": [
        {
          "output_type": "execute_result",
          "data": {
            "text/plain": [
              "array([0, 0, 0, 0, 0, 0, 0])"
            ]
          },
          "metadata": {
            "tags": []
          },
          "execution_count": 105
        }
      ]
    },
    {
      "cell_type": "markdown",
      "metadata": {
        "id": "faAwBJE9N_1T",
        "colab_type": "text"
      },
      "source": [
        "Функции zeros_like и ones_like могут преобразовать уже созданный массив, заполнив его нулями и единицами соответственно:"
      ]
    },
    {
      "cell_type": "code",
      "metadata": {
        "id": "AklLvPFgODDH",
        "colab_type": "code",
        "colab": {
          "base_uri": "https://localhost:8080/",
          "height": 51
        },
        "outputId": "471e480d-e117-4b14-9920-f56333959c53"
      },
      "source": [
        "a = np.array([[1, 2, 3], [4, 5, 6]], float)\n",
        "np.zeros_like(a)"
      ],
      "execution_count": 106,
      "outputs": [
        {
          "output_type": "execute_result",
          "data": {
            "text/plain": [
              "array([[0., 0., 0.],\n",
              "       [0., 0., 0.]])"
            ]
          },
          "metadata": {
            "tags": []
          },
          "execution_count": 106
        }
      ]
    },
    {
      "cell_type": "code",
      "metadata": {
        "id": "iZS9wrT7OHPK",
        "colab_type": "code",
        "colab": {
          "base_uri": "https://localhost:8080/",
          "height": 51
        },
        "outputId": "4476141d-868b-460c-c778-ecc12add8695"
      },
      "source": [
        "np.ones_like(a)"
      ],
      "execution_count": 107,
      "outputs": [
        {
          "output_type": "execute_result",
          "data": {
            "text/plain": [
              "array([[1., 1., 1.],\n",
              "       [1., 1., 1.]])"
            ]
          },
          "metadata": {
            "tags": []
          },
          "execution_count": 107
        }
      ]
    },
    {
      "cell_type": "markdown",
      "metadata": {
        "id": "ESrJrnWnOKoJ",
        "colab_type": "text"
      },
      "source": [
        "Также есть некоторое количество функций для создания специальных матриц. Для создания квадратной матрицы с главной диагональю, которая заполненная единицами, воспользуемся методом identity:"
      ]
    },
    {
      "cell_type": "code",
      "metadata": {
        "id": "lLT1E99LOPt1",
        "colab_type": "code",
        "colab": {
          "base_uri": "https://localhost:8080/",
          "height": 85
        },
        "outputId": "b12eea8d-4e47-450d-ae99-e6ce221903f3"
      },
      "source": [
        "np.identity(4, dtype=float)"
      ],
      "execution_count": 108,
      "outputs": [
        {
          "output_type": "execute_result",
          "data": {
            "text/plain": [
              "array([[1., 0., 0., 0.],\n",
              "       [0., 1., 0., 0.],\n",
              "       [0., 0., 1., 0.],\n",
              "       [0., 0., 0., 1.]])"
            ]
          },
          "metadata": {
            "tags": []
          },
          "execution_count": 108
        }
      ]
    },
    {
      "cell_type": "markdown",
      "metadata": {
        "id": "s85t5wSoOS-h",
        "colab_type": "text"
      },
      "source": [
        "Функция eye возвращает матрицу с единичками на к-атой диагонали:"
      ]
    },
    {
      "cell_type": "code",
      "metadata": {
        "id": "iTUAgyd3OVaz",
        "colab_type": "code",
        "colab": {
          "base_uri": "https://localhost:8080/",
          "height": 85
        },
        "outputId": "fd2a9a30-ffac-4f30-d96c-eb6a9857293a"
      },
      "source": [
        "np.eye(4, k=1, dtype=float)"
      ],
      "execution_count": 109,
      "outputs": [
        {
          "output_type": "execute_result",
          "data": {
            "text/plain": [
              "array([[0., 1., 0., 0.],\n",
              "       [0., 0., 1., 0.],\n",
              "       [0., 0., 0., 1.],\n",
              "       [0., 0., 0., 0.]])"
            ]
          },
          "metadata": {
            "tags": []
          },
          "execution_count": 109
        }
      ]
    },
    {
      "cell_type": "markdown",
      "metadata": {
        "id": "ynWUviTcOYT2",
        "colab_type": "text"
      },
      "source": [
        "## Математические операции над массивами"
      ]
    },
    {
      "cell_type": "markdown",
      "metadata": {
        "id": "euPSylH8Ob9e",
        "colab_type": "text"
      },
      "source": [
        "Когда для массивов мы используем стандартные математические операции, должен соблюдаться принцип: элемент--элемент. Это означает, что массивы должны быть одинакового размера во время сложения, вычитания и тому подобных операций:"
      ]
    },
    {
      "cell_type": "code",
      "metadata": {
        "id": "ydFkphmVOgrG",
        "colab_type": "code",
        "colab": {
          "base_uri": "https://localhost:8080/",
          "height": 34
        },
        "outputId": "41d89d77-ebe1-4df7-e984-78a838bc1d45"
      },
      "source": [
        "a = np.array([1,2,3], float)\n",
        "b = np.array([5,2,6], float)\n",
        "a + b\n"
      ],
      "execution_count": 110,
      "outputs": [
        {
          "output_type": "execute_result",
          "data": {
            "text/plain": [
              "array([6., 4., 9.])"
            ]
          },
          "metadata": {
            "tags": []
          },
          "execution_count": 110
        }
      ]
    },
    {
      "cell_type": "code",
      "metadata": {
        "id": "QzW6MgA-OlQp",
        "colab_type": "code",
        "colab": {
          "base_uri": "https://localhost:8080/",
          "height": 34
        },
        "outputId": "1d1cc596-fd55-444e-9b87-e1f79fa9c77d"
      },
      "source": [
        "a - b"
      ],
      "execution_count": 111,
      "outputs": [
        {
          "output_type": "execute_result",
          "data": {
            "text/plain": [
              "array([-4.,  0., -3.])"
            ]
          },
          "metadata": {
            "tags": []
          },
          "execution_count": 111
        }
      ]
    },
    {
      "cell_type": "code",
      "metadata": {
        "id": "_FHTiw78OpiN",
        "colab_type": "code",
        "colab": {
          "base_uri": "https://localhost:8080/",
          "height": 34
        },
        "outputId": "b473bf38-6495-413f-f31d-14ba042b41be"
      },
      "source": [
        "a * b"
      ],
      "execution_count": 112,
      "outputs": [
        {
          "output_type": "execute_result",
          "data": {
            "text/plain": [
              "array([ 5.,  4., 18.])"
            ]
          },
          "metadata": {
            "tags": []
          },
          "execution_count": 112
        }
      ]
    },
    {
      "cell_type": "code",
      "metadata": {
        "id": "5mxrvmgtOtmM",
        "colab_type": "code",
        "colab": {
          "base_uri": "https://localhost:8080/",
          "height": 34
        },
        "outputId": "68ed5d93-9b5f-431a-decc-c11a02f3d6ca"
      },
      "source": [
        "b / a"
      ],
      "execution_count": 113,
      "outputs": [
        {
          "output_type": "execute_result",
          "data": {
            "text/plain": [
              "array([5., 1., 2.])"
            ]
          },
          "metadata": {
            "tags": []
          },
          "execution_count": 113
        }
      ]
    },
    {
      "cell_type": "code",
      "metadata": {
        "id": "TBaFHAosOvR5",
        "colab_type": "code",
        "colab": {
          "base_uri": "https://localhost:8080/",
          "height": 34
        },
        "outputId": "f3b97c08-cdba-4de5-971b-4465e38bd7a9"
      },
      "source": [
        "a % b"
      ],
      "execution_count": 114,
      "outputs": [
        {
          "output_type": "execute_result",
          "data": {
            "text/plain": [
              "array([1., 0., 3.])"
            ]
          },
          "metadata": {
            "tags": []
          },
          "execution_count": 114
        }
      ]
    },
    {
      "cell_type": "code",
      "metadata": {
        "id": "ewgonKKdOxaX",
        "colab_type": "code",
        "colab": {
          "base_uri": "https://localhost:8080/",
          "height": 34
        },
        "outputId": "2cc995ae-6114-41ad-edf1-ae6419cb0e83"
      },
      "source": [
        "b**a"
      ],
      "execution_count": 115,
      "outputs": [
        {
          "output_type": "execute_result",
          "data": {
            "text/plain": [
              "array([  5.,   4., 216.])"
            ]
          },
          "metadata": {
            "tags": []
          },
          "execution_count": 115
        }
      ]
    },
    {
      "cell_type": "markdown",
      "metadata": {
        "id": "Bedlh6uuO7Nu",
        "colab_type": "text"
      },
      "source": [
        "Для двухмерных массивов, умножение остается поэлементным и не соответствует умножению матриц. Для этого существуют специальные функции, которые мы изучим позже."
      ]
    },
    {
      "cell_type": "code",
      "metadata": {
        "id": "ReJTLeG3O6Ym",
        "colab_type": "code",
        "colab": {
          "base_uri": "https://localhost:8080/",
          "height": 51
        },
        "outputId": "f81be994-3ac3-4f5e-c3e9-ee278b760061"
      },
      "source": [
        "a = np.array([[1,2], [3,4]], float)\n",
        "b = np.array([[2,0], [1,3]], float)\n",
        "a * b"
      ],
      "execution_count": 116,
      "outputs": [
        {
          "output_type": "execute_result",
          "data": {
            "text/plain": [
              "array([[ 2.,  0.],\n",
              "       [ 3., 12.]])"
            ]
          },
          "metadata": {
            "tags": []
          },
          "execution_count": 116
        }
      ]
    },
    {
      "cell_type": "markdown",
      "metadata": {
        "id": "dsk96vqbPD4g",
        "colab_type": "text"
      },
      "source": [
        "При несоответствии в размере выбрасываются ошибки:"
      ]
    },
    {
      "cell_type": "code",
      "metadata": {
        "id": "E0TYdnAWPGlU",
        "colab_type": "code",
        "colab": {
          "base_uri": "https://localhost:8080/",
          "height": 197
        },
        "outputId": "874bf360-46e1-402e-d5f0-ed5c83107a54"
      },
      "source": [
        "a = np.array([1,2,3], float)\n",
        "b = np.array([4,5], float)\n",
        "# если раскомментировать нижнюю строку, то будет выброшена ошибка. Раскомментируйте, чтобы посмотреть\n",
        "# a + b"
      ],
      "execution_count": 117,
      "outputs": [
        {
          "output_type": "error",
          "ename": "ValueError",
          "evalue": "ignored",
          "traceback": [
            "\u001b[0;31m---------------------------------------------------------------------------\u001b[0m",
            "\u001b[0;31mValueError\u001b[0m                                Traceback (most recent call last)",
            "\u001b[0;32m<ipython-input-117-fcd7615d1f09>\u001b[0m in \u001b[0;36m<module>\u001b[0;34m()\u001b[0m\n\u001b[1;32m      1\u001b[0m \u001b[0ma\u001b[0m \u001b[0;34m=\u001b[0m \u001b[0mnp\u001b[0m\u001b[0;34m.\u001b[0m\u001b[0marray\u001b[0m\u001b[0;34m(\u001b[0m\u001b[0;34m[\u001b[0m\u001b[0;36m1\u001b[0m\u001b[0;34m,\u001b[0m\u001b[0;36m2\u001b[0m\u001b[0;34m,\u001b[0m\u001b[0;36m3\u001b[0m\u001b[0;34m]\u001b[0m\u001b[0;34m,\u001b[0m \u001b[0mfloat\u001b[0m\u001b[0;34m)\u001b[0m\u001b[0;34m\u001b[0m\u001b[0;34m\u001b[0m\u001b[0m\n\u001b[1;32m      2\u001b[0m \u001b[0mb\u001b[0m \u001b[0;34m=\u001b[0m \u001b[0mnp\u001b[0m\u001b[0;34m.\u001b[0m\u001b[0marray\u001b[0m\u001b[0;34m(\u001b[0m\u001b[0;34m[\u001b[0m\u001b[0;36m4\u001b[0m\u001b[0;34m,\u001b[0m\u001b[0;36m5\u001b[0m\u001b[0;34m]\u001b[0m\u001b[0;34m,\u001b[0m \u001b[0mfloat\u001b[0m\u001b[0;34m)\u001b[0m\u001b[0;34m\u001b[0m\u001b[0;34m\u001b[0m\u001b[0m\n\u001b[0;32m----> 3\u001b[0;31m \u001b[0ma\u001b[0m \u001b[0;34m+\u001b[0m \u001b[0mb\u001b[0m\u001b[0;34m\u001b[0m\u001b[0;34m\u001b[0m\u001b[0m\n\u001b[0m",
            "\u001b[0;31mValueError\u001b[0m: operands could not be broadcast together with shapes (3,) (2,) "
          ]
        }
      ]
    },
    {
      "cell_type": "markdown",
      "metadata": {
        "id": "Jiy98j_iPLrW",
        "colab_type": "text"
      },
      "source": [
        "Однако, если размерность массивов не совпадает, они будут преобразованы для выполнения математических операций. Это зачастую означает, что меньший массив будет использован несколько раз для завершения операций. Рассмотрим такой пример:"
      ]
    },
    {
      "cell_type": "code",
      "metadata": {
        "id": "9-Ipi1yvPWHj",
        "colab_type": "code",
        "colab": {
          "base_uri": "https://localhost:8080/",
          "height": 68
        },
        "outputId": "a55ad37b-afc2-4ad3-8bc5-f9d903a655d5"
      },
      "source": [
        "a = np.array([[1, 2], [3, 4], [5, 6]], float)\n",
        "b = np.array([-1, 3], float)\n",
        "a"
      ],
      "execution_count": 118,
      "outputs": [
        {
          "output_type": "execute_result",
          "data": {
            "text/plain": [
              "array([[1., 2.],\n",
              "       [3., 4.],\n",
              "       [5., 6.]])"
            ]
          },
          "metadata": {
            "tags": []
          },
          "execution_count": 118
        }
      ]
    },
    {
      "cell_type": "code",
      "metadata": {
        "id": "vMwW1ClAPbmQ",
        "colab_type": "code",
        "colab": {
          "base_uri": "https://localhost:8080/",
          "height": 34
        },
        "outputId": "e1c76580-d7b1-4528-95c0-4461b39f040c"
      },
      "source": [
        "b"
      ],
      "execution_count": 119,
      "outputs": [
        {
          "output_type": "execute_result",
          "data": {
            "text/plain": [
              "array([-1.,  3.])"
            ]
          },
          "metadata": {
            "tags": []
          },
          "execution_count": 119
        }
      ]
    },
    {
      "cell_type": "code",
      "metadata": {
        "id": "gg9Ewk4zPdIc",
        "colab_type": "code",
        "colab": {
          "base_uri": "https://localhost:8080/",
          "height": 68
        },
        "outputId": "6a36f914-110a-4717-a943-3dff91410101"
      },
      "source": [
        "a + b"
      ],
      "execution_count": 120,
      "outputs": [
        {
          "output_type": "execute_result",
          "data": {
            "text/plain": [
              "array([[0., 5.],\n",
              "       [2., 7.],\n",
              "       [4., 9.]])"
            ]
          },
          "metadata": {
            "tags": []
          },
          "execution_count": 120
        }
      ]
    },
    {
      "cell_type": "markdown",
      "metadata": {
        "id": "nDrfkBroP4qz",
        "colab_type": "text"
      },
      "source": [
        "Тут, одномерный массив b был преобразован в двухмерный, который соответствует размеру массива a. По существу, b был повторен несколько раз, для каждой «строки» a. Иначе его можно представить так:"
      ]
    },
    {
      "cell_type": "code",
      "metadata": {
        "id": "0q0Pf7yvP-jE",
        "colab_type": "code",
        "colab": {}
      },
      "source": [
        "b = np.array([[-1.,  3.],\n",
        "              [-1.,  3.],\n",
        "              [-1.,  3.]])"
      ],
      "execution_count": 0,
      "outputs": []
    },
    {
      "cell_type": "markdown",
      "metadata": {
        "id": "YvDLUedSQQ7Y",
        "colab_type": "text"
      },
      "source": [
        "Python автоматически преобразовывает массивы в этом случае. Иногда, однако, когда преобразование играет роль, мы можем использовать константу newaxis, чтобы изменить преобразование:"
      ]
    },
    {
      "cell_type": "code",
      "metadata": {
        "id": "_vC_6AVOQT7_",
        "colab_type": "code",
        "colab": {
          "base_uri": "https://localhost:8080/",
          "height": 51
        },
        "outputId": "16d2ce2f-c2d5-4507-f9b7-30c424368bbc"
      },
      "source": [
        "a = np.zeros((2,2), float)\n",
        "b = np.array([-1., 3.], float)\n",
        "a"
      ],
      "execution_count": 123,
      "outputs": [
        {
          "output_type": "execute_result",
          "data": {
            "text/plain": [
              "array([[0., 0.],\n",
              "       [0., 0.]])"
            ]
          },
          "metadata": {
            "tags": []
          },
          "execution_count": 123
        }
      ]
    },
    {
      "cell_type": "code",
      "metadata": {
        "id": "O877Q5dvQfVT",
        "colab_type": "code",
        "colab": {
          "base_uri": "https://localhost:8080/",
          "height": 34
        },
        "outputId": "25ce5a74-40f2-48a8-caac-9f0d3fabbe33"
      },
      "source": [
        "b"
      ],
      "execution_count": 124,
      "outputs": [
        {
          "output_type": "execute_result",
          "data": {
            "text/plain": [
              "array([-1.,  3.])"
            ]
          },
          "metadata": {
            "tags": []
          },
          "execution_count": 124
        }
      ]
    },
    {
      "cell_type": "code",
      "metadata": {
        "id": "-iJdl1UPQk0J",
        "colab_type": "code",
        "colab": {
          "base_uri": "https://localhost:8080/",
          "height": 51
        },
        "outputId": "d841814a-eb5a-4f6a-b783-2d1ac27832a1"
      },
      "source": [
        "a + b"
      ],
      "execution_count": 125,
      "outputs": [
        {
          "output_type": "execute_result",
          "data": {
            "text/plain": [
              "array([[-1.,  3.],\n",
              "       [-1.,  3.]])"
            ]
          },
          "metadata": {
            "tags": []
          },
          "execution_count": 125
        }
      ]
    },
    {
      "cell_type": "code",
      "metadata": {
        "id": "983ctGINQqRS",
        "colab_type": "code",
        "colab": {
          "base_uri": "https://localhost:8080/",
          "height": 51
        },
        "outputId": "a1c45956-3506-4c38-fd79-4acabbad3112"
      },
      "source": [
        "a + b[np.newaxis,:]"
      ],
      "execution_count": 126,
      "outputs": [
        {
          "output_type": "execute_result",
          "data": {
            "text/plain": [
              "array([[-1.,  3.],\n",
              "       [-1.,  3.]])"
            ]
          },
          "metadata": {
            "tags": []
          },
          "execution_count": 126
        }
      ]
    },
    {
      "cell_type": "code",
      "metadata": {
        "id": "ydcZOIbyQzhM",
        "colab_type": "code",
        "colab": {
          "base_uri": "https://localhost:8080/",
          "height": 51
        },
        "outputId": "98276d18-fc81-4b54-a8fa-3450546beae8"
      },
      "source": [
        "a + b[:,np.newaxis]"
      ],
      "execution_count": 127,
      "outputs": [
        {
          "output_type": "execute_result",
          "data": {
            "text/plain": [
              "array([[-1., -1.],\n",
              "       [ 3.,  3.]])"
            ]
          },
          "metadata": {
            "tags": []
          },
          "execution_count": 127
        }
      ]
    },
    {
      "cell_type": "markdown",
      "metadata": {
        "id": "OG0Hmt3MQ-ip",
        "colab_type": "text"
      },
      "source": [
        "Вдобавок к стандартным операторам, в numpy включена библиотека стандартных математических функций, которые могут быть применены поэлементно к массивам. Собственно функции: abs, sign, sqrt, log, log10, exp, sin, cos, tan, arcsin, arccos, arctan, sinh, cosh, tanh, arcsinh, arccosh, и arctanh."
      ]
    },
    {
      "cell_type": "code",
      "metadata": {
        "id": "Qm3IFVU6RAZd",
        "colab_type": "code",
        "colab": {
          "base_uri": "https://localhost:8080/",
          "height": 34
        },
        "outputId": "ee104c4c-99be-4bbd-fce5-ea26c6996c1f"
      },
      "source": [
        "a = np.array([1, 4, 9], float)\n",
        "np.sqrt(a)"
      ],
      "execution_count": 128,
      "outputs": [
        {
          "output_type": "execute_result",
          "data": {
            "text/plain": [
              "array([1., 2., 3.])"
            ]
          },
          "metadata": {
            "tags": []
          },
          "execution_count": 128
        }
      ]
    },
    {
      "cell_type": "markdown",
      "metadata": {
        "id": "Suy0kmVZREKo",
        "colab_type": "text"
      },
      "source": [
        "Функции floor, ceil и rint возвращают нижние, верхние или ближайшие (округлённое) значение:"
      ]
    },
    {
      "cell_type": "code",
      "metadata": {
        "id": "Vu9-gHd7RGYd",
        "colab_type": "code",
        "colab": {
          "base_uri": "https://localhost:8080/",
          "height": 34
        },
        "outputId": "f5c210f2-53de-4432-aed9-77a957411c99"
      },
      "source": [
        "a = np.array([1.1, 1.5, 1.9], float)\n",
        "np.floor(a)"
      ],
      "execution_count": 129,
      "outputs": [
        {
          "output_type": "execute_result",
          "data": {
            "text/plain": [
              "array([1., 1., 1.])"
            ]
          },
          "metadata": {
            "tags": []
          },
          "execution_count": 129
        }
      ]
    },
    {
      "cell_type": "code",
      "metadata": {
        "id": "qFRW6FulRK8x",
        "colab_type": "code",
        "colab": {
          "base_uri": "https://localhost:8080/",
          "height": 34
        },
        "outputId": "2a1be640-b178-47ae-8ee3-e3ae60df5b26"
      },
      "source": [
        "np.ceil(a)"
      ],
      "execution_count": 130,
      "outputs": [
        {
          "output_type": "execute_result",
          "data": {
            "text/plain": [
              "array([2., 2., 2.])"
            ]
          },
          "metadata": {
            "tags": []
          },
          "execution_count": 130
        }
      ]
    },
    {
      "cell_type": "code",
      "metadata": {
        "id": "E4fZevRGRNFG",
        "colab_type": "code",
        "colab": {
          "base_uri": "https://localhost:8080/",
          "height": 34
        },
        "outputId": "1dfd0cc8-b0f3-43a0-aa96-cefe9a88b68b"
      },
      "source": [
        "np.rint(a)"
      ],
      "execution_count": 131,
      "outputs": [
        {
          "output_type": "execute_result",
          "data": {
            "text/plain": [
              "array([1., 2., 2.])"
            ]
          },
          "metadata": {
            "tags": []
          },
          "execution_count": 131
        }
      ]
    },
    {
      "cell_type": "markdown",
      "metadata": {
        "id": "BtDkQcrVRYXz",
        "colab_type": "text"
      },
      "source": [
        "Также в numpy включены две важные математические константы:"
      ]
    },
    {
      "cell_type": "code",
      "metadata": {
        "id": "SnK8UvqQRZsY",
        "colab_type": "code",
        "colab": {
          "base_uri": "https://localhost:8080/",
          "height": 34
        },
        "outputId": "c707f5d8-421a-4260-f162-6c3b43802256"
      },
      "source": [
        "np.pi"
      ],
      "execution_count": 132,
      "outputs": [
        {
          "output_type": "execute_result",
          "data": {
            "text/plain": [
              "3.141592653589793"
            ]
          },
          "metadata": {
            "tags": []
          },
          "execution_count": 132
        }
      ]
    },
    {
      "cell_type": "code",
      "metadata": {
        "id": "Lcwy5ncHRb_h",
        "colab_type": "code",
        "colab": {
          "base_uri": "https://localhost:8080/",
          "height": 34
        },
        "outputId": "d625037e-47ec-4d65-ee9b-bf1329463da0"
      },
      "source": [
        "np.e"
      ],
      "execution_count": 133,
      "outputs": [
        {
          "output_type": "execute_result",
          "data": {
            "text/plain": [
              "2.718281828459045"
            ]
          },
          "metadata": {
            "tags": []
          },
          "execution_count": 133
        }
      ]
    },
    {
      "cell_type": "markdown",
      "metadata": {
        "id": "2A-dKySRRgp2",
        "colab_type": "text"
      },
      "source": [
        "## Перебор элементов массива\n"
      ]
    },
    {
      "cell_type": "markdown",
      "metadata": {
        "id": "7NhELX8yRjmg",
        "colab_type": "text"
      },
      "source": [
        "Проводить итерацию массивов можно аналогично спискам:"
      ]
    },
    {
      "cell_type": "code",
      "metadata": {
        "id": "trwlv3HjRmJy",
        "colab_type": "code",
        "colab": {
          "base_uri": "https://localhost:8080/",
          "height": 68
        },
        "outputId": "894c76b3-8058-4be7-f339-5677af4ea5ad"
      },
      "source": [
        "a = np.array([1, 4, 5], int)\n",
        "for x in a:\n",
        "    print(x)"
      ],
      "execution_count": 135,
      "outputs": [
        {
          "output_type": "stream",
          "text": [
            "1\n",
            "4\n",
            "5\n"
          ],
          "name": "stdout"
        }
      ]
    },
    {
      "cell_type": "markdown",
      "metadata": {
        "id": "6FuKyLYcRvC1",
        "colab_type": "text"
      },
      "source": [
        "Для многомерных массивов итерация будет проводиться по первой оси, так, что каждый проход цикла будет возвращать «строку» массива:"
      ]
    },
    {
      "cell_type": "code",
      "metadata": {
        "id": "BWtRwYvRRxYC",
        "colab_type": "code",
        "colab": {
          "base_uri": "https://localhost:8080/",
          "height": 68
        },
        "outputId": "e390ad38-3d2d-4af5-fa74-6cb331634b63"
      },
      "source": [
        "a = np.array([[1, 2], [3, 4], [5, 6]], float)\n",
        "for x in a:\n",
        "    print(x)"
      ],
      "execution_count": 136,
      "outputs": [
        {
          "output_type": "stream",
          "text": [
            "[1. 2.]\n",
            "[3. 4.]\n",
            "[5. 6.]\n"
          ],
          "name": "stdout"
        }
      ]
    },
    {
      "cell_type": "markdown",
      "metadata": {
        "id": "HQ8TFnuGR3Zk",
        "colab_type": "text"
      },
      "source": [
        "Множественное присваивание также доступно при итерации:"
      ]
    },
    {
      "cell_type": "code",
      "metadata": {
        "id": "sZPv941fR8I0",
        "colab_type": "code",
        "colab": {
          "base_uri": "https://localhost:8080/",
          "height": 68
        },
        "outputId": "f4c4f7ee-0a99-4afb-d4ce-a9188941c84d"
      },
      "source": [
        "a = np.array([[1, 2], [3, 4], [5, 6]], float)\n",
        "for (x, y) in a:\n",
        "    print(x * y)"
      ],
      "execution_count": 137,
      "outputs": [
        {
          "output_type": "stream",
          "text": [
            "2.0\n",
            "12.0\n",
            "30.0\n"
          ],
          "name": "stdout"
        }
      ]
    },
    {
      "cell_type": "markdown",
      "metadata": {
        "id": "4xYcxJW4SEB-",
        "colab_type": "text"
      },
      "source": [
        "## Базовые операции над массивами"
      ]
    },
    {
      "cell_type": "markdown",
      "metadata": {
        "id": "GP-RO5nBSJuM",
        "colab_type": "text"
      },
      "source": [
        "Для получения каких-либо свойств массивов существует много функций. Элементы могут быть суммированы или перемножены:"
      ]
    },
    {
      "cell_type": "code",
      "metadata": {
        "id": "rrIDqFhNSONW",
        "colab_type": "code",
        "colab": {
          "base_uri": "https://localhost:8080/",
          "height": 34
        },
        "outputId": "07d60e9a-5fb6-4603-808f-72d74e53904a"
      },
      "source": [
        "a = np.array([2, 4, 3], float)\n",
        "a.sum()"
      ],
      "execution_count": 138,
      "outputs": [
        {
          "output_type": "execute_result",
          "data": {
            "text/plain": [
              "9.0"
            ]
          },
          "metadata": {
            "tags": []
          },
          "execution_count": 138
        }
      ]
    },
    {
      "cell_type": "code",
      "metadata": {
        "id": "E623ovthSQJD",
        "colab_type": "code",
        "colab": {
          "base_uri": "https://localhost:8080/",
          "height": 34
        },
        "outputId": "bc0e8639-6eae-4178-bdda-6d925374ea5b"
      },
      "source": [
        "a.prod()"
      ],
      "execution_count": 139,
      "outputs": [
        {
          "output_type": "execute_result",
          "data": {
            "text/plain": [
              "24.0"
            ]
          },
          "metadata": {
            "tags": []
          },
          "execution_count": 139
        }
      ]
    },
    {
      "cell_type": "markdown",
      "metadata": {
        "id": "iQCMBkFmSVcE",
        "colab_type": "text"
      },
      "source": [
        "В этом примере были использованы функции массива. Также можно использовать собственные функции numpy:"
      ]
    },
    {
      "cell_type": "code",
      "metadata": {
        "id": "wxLlSZRtSXAG",
        "colab_type": "code",
        "colab": {
          "base_uri": "https://localhost:8080/",
          "height": 34
        },
        "outputId": "af582f25-9e63-4d8d-bdf6-985d7cfcff13"
      },
      "source": [
        "np.sum(a)"
      ],
      "execution_count": 140,
      "outputs": [
        {
          "output_type": "execute_result",
          "data": {
            "text/plain": [
              "9.0"
            ]
          },
          "metadata": {
            "tags": []
          },
          "execution_count": 140
        }
      ]
    },
    {
      "cell_type": "code",
      "metadata": {
        "id": "WXqf4ujySY70",
        "colab_type": "code",
        "colab": {
          "base_uri": "https://localhost:8080/",
          "height": 34
        },
        "outputId": "1fd023bf-5292-4356-e1e9-2f81791b162a"
      },
      "source": [
        "np.prod(a)"
      ],
      "execution_count": 141,
      "outputs": [
        {
          "output_type": "execute_result",
          "data": {
            "text/plain": [
              "24.0"
            ]
          },
          "metadata": {
            "tags": []
          },
          "execution_count": 141
        }
      ]
    },
    {
      "cell_type": "markdown",
      "metadata": {
        "id": "olacTLPKSeVF",
        "colab_type": "text"
      },
      "source": [
        "Для большинства случаев могут использоваться оба варианта.\n",
        "Некие функции дают возможность оперировать статистическими данными. Это функции mean (среднее арифметическое), вариация и девиация:"
      ]
    },
    {
      "cell_type": "code",
      "metadata": {
        "id": "c08TckwSSgBU",
        "colab_type": "code",
        "colab": {
          "base_uri": "https://localhost:8080/",
          "height": 34
        },
        "outputId": "6ccf7d67-3841-4d23-a4f4-8c52f8fbd804"
      },
      "source": [
        "a = np.array([2, 1, 9], float)\n",
        "a.mean()"
      ],
      "execution_count": 142,
      "outputs": [
        {
          "output_type": "execute_result",
          "data": {
            "text/plain": [
              "4.0"
            ]
          },
          "metadata": {
            "tags": []
          },
          "execution_count": 142
        }
      ]
    },
    {
      "cell_type": "code",
      "metadata": {
        "id": "Z7EnTcdRSigW",
        "colab_type": "code",
        "colab": {
          "base_uri": "https://localhost:8080/",
          "height": 34
        },
        "outputId": "6580561c-727d-4e1b-cdd3-cc2db84f94de"
      },
      "source": [
        "a.var()"
      ],
      "execution_count": 143,
      "outputs": [
        {
          "output_type": "execute_result",
          "data": {
            "text/plain": [
              "12.666666666666666"
            ]
          },
          "metadata": {
            "tags": []
          },
          "execution_count": 143
        }
      ]
    },
    {
      "cell_type": "code",
      "metadata": {
        "id": "1a8cEF_RSl5V",
        "colab_type": "code",
        "colab": {
          "base_uri": "https://localhost:8080/",
          "height": 34
        },
        "outputId": "d17d3831-110d-49af-c073-aa8bc07f9713"
      },
      "source": [
        "a.std()"
      ],
      "execution_count": 144,
      "outputs": [
        {
          "output_type": "execute_result",
          "data": {
            "text/plain": [
              "3.559026084010437"
            ]
          },
          "metadata": {
            "tags": []
          },
          "execution_count": 144
        }
      ]
    },
    {
      "cell_type": "markdown",
      "metadata": {
        "id": "d_dkU2C2SpRG",
        "colab_type": "text"
      },
      "source": [
        "Можно найти минимум и максимум в массиве:"
      ]
    },
    {
      "cell_type": "code",
      "metadata": {
        "id": "s4dmeEapSra8",
        "colab_type": "code",
        "colab": {
          "base_uri": "https://localhost:8080/",
          "height": 34
        },
        "outputId": "f171cdeb-8ac8-4637-94e4-d5030b1741b1"
      },
      "source": [
        "a = np.array([2, 1, 9], float)\n",
        "a.min()"
      ],
      "execution_count": 145,
      "outputs": [
        {
          "output_type": "execute_result",
          "data": {
            "text/plain": [
              "1.0"
            ]
          },
          "metadata": {
            "tags": []
          },
          "execution_count": 145
        }
      ]
    },
    {
      "cell_type": "code",
      "metadata": {
        "id": "ixyOMkOUSuPm",
        "colab_type": "code",
        "colab": {
          "base_uri": "https://localhost:8080/",
          "height": 34
        },
        "outputId": "2f7b269b-2493-4336-d00d-42af128120cb"
      },
      "source": [
        "a.max()"
      ],
      "execution_count": 146,
      "outputs": [
        {
          "output_type": "execute_result",
          "data": {
            "text/plain": [
              "9.0"
            ]
          },
          "metadata": {
            "tags": []
          },
          "execution_count": 146
        }
      ]
    },
    {
      "cell_type": "markdown",
      "metadata": {
        "id": "7Ugxy12dSz5I",
        "colab_type": "text"
      },
      "source": [
        "Функции argmin и argmax возвращают индекс минимального или максимального элемента:"
      ]
    },
    {
      "cell_type": "code",
      "metadata": {
        "id": "M04it243S1zR",
        "colab_type": "code",
        "colab": {
          "base_uri": "https://localhost:8080/",
          "height": 34
        },
        "outputId": "9daf91f7-96d7-4697-ba64-3bf4ae779f96"
      },
      "source": [
        "a = np.array([2, 1, 9], float)\n",
        "a.argmin()"
      ],
      "execution_count": 147,
      "outputs": [
        {
          "output_type": "execute_result",
          "data": {
            "text/plain": [
              "1"
            ]
          },
          "metadata": {
            "tags": []
          },
          "execution_count": 147
        }
      ]
    },
    {
      "cell_type": "code",
      "metadata": {
        "id": "HRFHZjJlS4fE",
        "colab_type": "code",
        "colab": {
          "base_uri": "https://localhost:8080/",
          "height": 34
        },
        "outputId": "50189e41-f838-49ed-8c4d-c567887a75b5"
      },
      "source": [
        "a.argmax()"
      ],
      "execution_count": 148,
      "outputs": [
        {
          "output_type": "execute_result",
          "data": {
            "text/plain": [
              "2"
            ]
          },
          "metadata": {
            "tags": []
          },
          "execution_count": 148
        }
      ]
    },
    {
      "cell_type": "markdown",
      "metadata": {
        "id": "Ev438i42S8ot",
        "colab_type": "text"
      },
      "source": [
        "Для многомерных массивов каждая из функций может принять дополнительный аргумент axis и в зависимости от его значения выполнять функции по определенной оси, помещая результаты исполнения в массив:"
      ]
    },
    {
      "cell_type": "code",
      "metadata": {
        "id": "OtorjtJGTALA",
        "colab_type": "code",
        "colab": {
          "base_uri": "https://localhost:8080/",
          "height": 34
        },
        "outputId": "5fb4efd2-d975-4784-d8a8-dc90aef287f8"
      },
      "source": [
        "a = np.array([[0, 2], [3, -1], [3, 5]], float)\n",
        "a.mean(axis=0)"
      ],
      "execution_count": 149,
      "outputs": [
        {
          "output_type": "execute_result",
          "data": {
            "text/plain": [
              "array([2., 2.])"
            ]
          },
          "metadata": {
            "tags": []
          },
          "execution_count": 149
        }
      ]
    },
    {
      "cell_type": "code",
      "metadata": {
        "id": "caySfM3qTDXM",
        "colab_type": "code",
        "colab": {
          "base_uri": "https://localhost:8080/",
          "height": 34
        },
        "outputId": "621719d4-3682-4363-ad2d-945fa8775b15"
      },
      "source": [
        "a.mean(axis=1)"
      ],
      "execution_count": 154,
      "outputs": [
        {
          "output_type": "execute_result",
          "data": {
            "text/plain": [
              "array([1., 1., 4.])"
            ]
          },
          "metadata": {
            "tags": []
          },
          "execution_count": 154
        }
      ]
    },
    {
      "cell_type": "code",
      "metadata": {
        "id": "DuXxDsAdTFQ0",
        "colab_type": "code",
        "colab": {
          "base_uri": "https://localhost:8080/",
          "height": 34
        },
        "outputId": "37a01eae-d0a9-4a7d-a946-10b4debbba64"
      },
      "source": [
        "a.min(axis=1)"
      ],
      "execution_count": 156,
      "outputs": [
        {
          "output_type": "execute_result",
          "data": {
            "text/plain": [
              "array([ 0., -1.,  3.])"
            ]
          },
          "metadata": {
            "tags": []
          },
          "execution_count": 156
        }
      ]
    },
    {
      "cell_type": "code",
      "metadata": {
        "id": "6_0Vk7ACTG3e",
        "colab_type": "code",
        "colab": {
          "base_uri": "https://localhost:8080/",
          "height": 34
        },
        "outputId": "60fc1eb3-bccd-4766-8418-a2f4db645066"
      },
      "source": [
        "a.max(axis=0)"
      ],
      "execution_count": 152,
      "outputs": [
        {
          "output_type": "execute_result",
          "data": {
            "text/plain": [
              "array([3., 5.])"
            ]
          },
          "metadata": {
            "tags": []
          },
          "execution_count": 152
        }
      ]
    },
    {
      "cell_type": "markdown",
      "metadata": {
        "id": "xw0twf4Hhftw",
        "colab_type": "text"
      },
      "source": [
        "Как и списки, массивы можно отсортировать:"
      ]
    }
  ]
}