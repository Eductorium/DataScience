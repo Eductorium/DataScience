{
  "nbformat": 4,
  "nbformat_minor": 0,
  "metadata": {
    "colab": {
      "name": "Lesson34.ipynb",
      "provenance": [],
      "collapsed_sections": [],
      "toc_visible": true
    },
    "kernelspec": {
      "name": "python3",
      "display_name": "Python 3"
    }
  },
  "cells": [
    {
      "cell_type": "markdown",
      "metadata": {
        "id": "vemokChPYVzx",
        "colab_type": "text"
      },
      "source": [
        "# Лекция 3.4. Matplotlib, Seaborn и Plotly. Визуальный анализ данных на реальном примере"
      ]
    },
    {
      "cell_type": "markdown",
      "metadata": {
        "id": "vKvs4bJKYxsu",
        "colab_type": "text"
      },
      "source": [
        "Произведем импорт библиотек и настройку параметров графиков"
      ]
    },
    {
      "cell_type": "code",
      "metadata": {
        "id": "AtSBqf5IYxDl",
        "colab_type": "code",
        "colab": {}
      },
      "source": [
        "import numpy as np\n",
        "import pandas as pd\n",
        "import matplotlib.pyplot as plt\n",
        "import seaborn as sns\n",
        "from plotly.offline import download_plotlyjs, init_notebook_mode, plot, iplot\n",
        "import plotly\n",
        "import plotly.graph_objs as go\n",
        "\n",
        "#графики в svg выглядят более четкими\n",
        "%config InlineBackend.figure_format = 'svg' \n",
        "\n",
        "#увеличим дефолтный размер графиков\n",
        "from pylab import rcParams\n",
        "rcParams['figure.figsize'] = 8, 5"
      ],
      "execution_count": 0,
      "outputs": []
    },
    {
      "cell_type": "markdown",
      "metadata": {
        "id": "pRsc5RV2Yb0a",
        "colab_type": "text"
      },
      "source": [
        "Считаем в DataFrame знакомые нам данные по оттоку клиентов телеком-оператора.\n"
      ]
    },
    {
      "cell_type": "code",
      "metadata": {
        "id": "_uhRlssvYgYY",
        "colab_type": "code",
        "colab": {}
      },
      "source": [
        "df = pd.read_csv('https://github.com/Eductorium/DataScience/raw/master/Module2/data/telecom_churn.csv')"
      ],
      "execution_count": 0,
      "outputs": []
    },
    {
      "cell_type": "markdown",
      "metadata": {
        "id": "-heF8F9pYsCw",
        "colab_type": "text"
      },
      "source": [
        "Проверим, все ли нормально считалось – посмотрим на первые 5 строк (метод head)."
      ]
    },
    {
      "cell_type": "code",
      "metadata": {
        "id": "xWSPTCxvYvIg",
        "colab_type": "code",
        "colab": {}
      },
      "source": [
        "df.head()"
      ],
      "execution_count": 0,
      "outputs": []
    },
    {
      "cell_type": "markdown",
      "metadata": {
        "id": "CQdBg8hbZl3a",
        "colab_type": "text"
      },
      "source": [
        "Число строк (клиентов) и столбцов (признаков):"
      ]
    },
    {
      "cell_type": "code",
      "metadata": {
        "id": "rWXICr9HZn2B",
        "colab_type": "code",
        "colab": {}
      },
      "source": [
        "df.shape"
      ],
      "execution_count": 0,
      "outputs": []
    },
    {
      "cell_type": "markdown",
      "metadata": {
        "id": "9H2tWZ52ZrWo",
        "colab_type": "text"
      },
      "source": [
        "Посмотрим на признаки и убедимся, что пропусков ни в одном из них нет – везде по 3333 записи. В случае пропусков, мы можем оставить только записи без пропуском с помощью функции df.dropna()"
      ]
    },
    {
      "cell_type": "code",
      "metadata": {
        "id": "G7y0liW8ZqkW",
        "colab_type": "code",
        "colab": {}
      },
      "source": [
        "df.info()"
      ],
      "execution_count": 0,
      "outputs": []
    },
    {
      "cell_type": "markdown",
      "metadata": {
        "id": "QCaoBPzXaBTO",
        "colab_type": "text"
      },
      "source": [
        "**Описание признаков:**\n",
        "\n",
        "![](https://github.com/Eductorium/DataScience/raw/master/Module2/img/params.png)\n",
        "\n",
        "Целевая переменная: **Churn** – Признак оттока, бинарный признак (1 – потеря клиента, то есть отток). Потом мы будем строить модели, прогнозирующие этот признак по остальным, поэтому мы и назвали его целевым.\n",
        "\n",
        "Посмотрим на распределение целевого класса – оттока клиентов."
      ]
    },
    {
      "cell_type": "code",
      "metadata": {
        "id": "wY9nfqhGTDiN",
        "colab_type": "code",
        "colab": {}
      },
      "source": [
        "df['Churn'].value_counts()"
      ],
      "execution_count": 0,
      "outputs": []
    },
    {
      "cell_type": "code",
      "metadata": {
        "id": "FyRFWHYkTPUI",
        "colab_type": "code",
        "colab": {}
      },
      "source": [
        "df['Churn'].value_counts().plot(kind='bar', label='Churn')\n",
        "plt.legend()\n",
        "plt.title('Распределение оттока клиентов');"
      ],
      "execution_count": 0,
      "outputs": []
    },
    {
      "cell_type": "markdown",
      "metadata": {
        "id": "v2odUBhXT4Q_",
        "colab_type": "text"
      },
      "source": [
        "Выделим следующие группы признаков (среди всех кроме Churn ):\n",
        "* бинарные: International plan, Voice mail plan\n",
        "* категориальные: State, Area code\n",
        "* порядковые: Customer service calls\n",
        "* количественные: все остальные"
      ]
    },
    {
      "cell_type": "markdown",
      "metadata": {
        "id": "mbxHzkfRCLRw",
        "colab_type": "text"
      },
      "source": [
        "## Анализ количественных и порядковых признаков"
      ]
    },
    {
      "cell_type": "markdown",
      "metadata": {
        "id": "K96PNoP_CREA",
        "colab_type": "text"
      },
      "source": [
        "\n",
        "Посмотрим на корреляции количественных признаков."
      ]
    },
    {
      "cell_type": "code",
      "metadata": {
        "id": "aefl53cbUJ4C",
        "colab_type": "code",
        "colab": {}
      },
      "source": [
        "corr_matrix = df.drop(['International plan', 'Voice mail plan', 'State', \n",
        "                      'Area code', 'Customer service calls', 'Churn'], axis=1).corr()"
      ],
      "execution_count": 0,
      "outputs": []
    },
    {
      "cell_type": "code",
      "metadata": {
        "id": "u3iGL9adUQUP",
        "colab_type": "code",
        "colab": {}
      },
      "source": [
        "sns.heatmap(corr_matrix);"
      ],
      "execution_count": 0,
      "outputs": []
    },
    {
      "cell_type": "markdown",
      "metadata": {
        "id": "KtolZzrAUWyf",
        "colab_type": "text"
      },
      "source": [
        "По раскрашенной матрице корреляций видно, что такие признаки как Total day charge считаются по проговоренным минутам (Total day minutes). То есть 4 признака (Total day charge, Total eve charge, Total night charge, Total intl charge) можно выкинуть, они не несут полезной информации, поскольку зависят от других признаков - Total day minutes, Total eve minutes, Total night minutes и Total intl minutes.\n",
        "\n",
        "Теперь посмотрим на распределения всех интересующих нас количественных признаков, а также категориальных (признак - *Customer service calls*). На бинарные/категориальные признаки будем смотреть отдельно."
      ]
    },
    {
      "cell_type": "code",
      "metadata": {
        "id": "MJg-h7HIVDux",
        "colab_type": "code",
        "colab": {}
      },
      "source": [
        "features = list(set(df.columns) - set(['International plan', 'Voice mail plan', 'State', 'Area code',\n",
        "                                      'Total day charge',   'Total eve charge', 'Total night charge',\n",
        "                                        'Total intl charge', 'Customer service calls', 'Churn']))\n",
        "\n",
        "df[features].hist(figsize=(14,12));"
      ],
      "execution_count": 0,
      "outputs": []
    },
    {
      "cell_type": "markdown",
      "metadata": {
        "id": "FG9yzbtkVDLD",
        "colab_type": "text"
      },
      "source": [
        "Видим, что большинство признаков распределены нормально. Исключения – число звонков в сервисный центр (*Customer service calls*) (тут больше подходит пуассоновское распределение) и число голосовых сообщений (*Number vmail messages*, пик в нуле, т.е. это те, у кого голосовая почта не подключена). Также смещено распределение числа международных звонков (*Total intl calls*).\n",
        "\n",
        "Еще полезно строить вот такие картинки, где на главной диагонали рисуются распределения признаков, а вне главной диагонали – диаграммы рассеяния для пар признаков. Бывает, что это приводит к каким-то выводам, но в данном случае все примерно понятно, без сюрпризов."
      ]
    },
    {
      "cell_type": "code",
      "metadata": {
        "id": "3oUgGGvil9N1",
        "colab_type": "code",
        "colab": {}
      },
      "source": [
        "# c svg pairplot браузер начинает тормозить\n",
        "%config InlineBackend.figure_format = 'png'\n",
        "sns.pairplot(df[features + ['Churn']], hue='Churn');"
      ],
      "execution_count": 0,
      "outputs": []
    },
    {
      "cell_type": "markdown",
      "metadata": {
        "id": "ZXWVJWIpvuvH",
        "colab_type": "text"
      },
      "source": [
        "**Дальше посмотрим, как признаки связаны с целевым – с оттоком.**\n",
        "\n",
        "Построим boxplot-ы, описывающее статистики распределения количественных признаков в двух группах: среди лояльных и ушедших клиентов."
      ]
    },
    {
      "cell_type": "code",
      "metadata": {
        "id": "Mhs2jJ7Pvyok",
        "colab_type": "code",
        "colab": {}
      },
      "source": [
        "%config InlineBackend.figure_format = 'svg' \n",
        "\n",
        "fig, axes = plt.subplots(nrows=3, ncols=4, figsize=(16, 10))\n",
        "\n",
        "for idx, feat in  enumerate(features):\n",
        "    sns.boxplot(x='Churn', y=feat, data=df, ax=axes[int(idx / 4), idx % 4])\n",
        "    axes[int(idx / 4), idx % 4].legend()\n",
        "    axes[int(idx / 4), idx % 4].set_xlabel('Churn')\n",
        "    axes[int(idx / 4), idx % 4].set_ylabel(feat);"
      ],
      "execution_count": 0,
      "outputs": []
    },
    {
      "cell_type": "markdown",
      "metadata": {
        "id": "vXOXlWy7wKVA",
        "colab_type": "text"
      },
      "source": [
        "На глаз наибольшее отличие мы видим для признаков *Total day minutes*, *Customer service calls* и *Number vmail messages*. Впоследствии мы научимся определять важность признаков в задаче классификации с помощью случайного леса (или градиентного бустинга), и окажется, что первые два – действительно очень важные признаки для прогнозирования оттока.\n",
        "\n",
        "Посмотрим отдельно на картинки с распределением кол-ва проговоренных днем минут среди лояльных/ушедших. Слева - знакомые нам боксплоты, справа – сглаженные гистограммы распределения числового признака в двух группах (скорее просто красивая картинка, все и так понятно по боксплоту)."
      ]
    },
    {
      "cell_type": "code",
      "metadata": {
        "id": "jfwLF0fJwiwU",
        "colab_type": "code",
        "colab": {}
      },
      "source": [
        "_, axes = plt.subplots(1, 2, sharey=True, figsize=(16, 6))\n",
        "\n",
        "sns.boxplot(x='Churn', y='Total day minutes', data=df, ax=axes[0]);\n",
        "sns.violinplot(x='Churn', y='Total day minutes', data=df, ax=axes[1]);"
      ],
      "execution_count": 0,
      "outputs": []
    },
    {
      "cell_type": "markdown",
      "metadata": {
        "id": "EGO50G5cwn-F",
        "colab_type": "text"
      },
      "source": [
        "Интересное **наблюдение**: в среднем ушедшие клиенты больше пользуются связью. Возможно, они недовольны тарифами, и одной из мер борьбы с оттоком будет понижение тарифных ставок (стоимости мобильной связи). Но это уже компании надо будет проводить дополнительный экономический анализ, действительно ли такие меры будут оправданы.\n",
        "\n",
        "Теперь изобразим распределение числа обращений в сервисный центр (такую картинку мы строили в первой статье). Тут уникальных значений признака не много (признак можно считать как количественным целочисленным, так и порядковым), и наглядней изобразить распределение с помощью countplot."
      ]
    },
    {
      "cell_type": "code",
      "metadata": {
        "id": "doaM4LlSxrTk",
        "colab_type": "code",
        "colab": {}
      },
      "source": [
        "sns.countplot(x='Customer service calls', hue='Churn', data=df);\n"
      ],
      "execution_count": 0,
      "outputs": []
    },
    {
      "cell_type": "markdown",
      "metadata": {
        "id": "NTKyjMyuyKjP",
        "colab_type": "text"
      },
      "source": [
        "**Наблюдение:** доля оттока сильно возрастает начиная с 4 звонков в сервисный центр.\n",
        "\n",
        "Если же построим boxplot, то также увидим, что с ростом числа обращений в сервисныйцентр, отток увеличивается. Но на предыдущей диаграмме было конкретно видно, что это происходит, начиная с 4 звонка."
      ]
    },
    {
      "cell_type": "code",
      "metadata": {
        "id": "ifFPWcClzD1X",
        "colab_type": "code",
        "colab": {}
      },
      "source": [
        "sns.boxplot(x='Churn', y='Customer service calls', data=df);"
      ],
      "execution_count": 0,
      "outputs": []
    },
    {
      "cell_type": "markdown",
      "metadata": {
        "id": "Srh-jLBXzKHp",
        "colab_type": "text"
      },
      "source": [
        "Построим график для последнего из выделенных количественных признаков - *Number vmail messages*."
      ]
    },
    {
      "cell_type": "code",
      "metadata": {
        "id": "kr81Gl0dzXY7",
        "colab_type": "code",
        "colab": {}
      },
      "source": [
        "sns.boxplot(x='Churn', y='Number vmail messages', data=df);"
      ],
      "execution_count": 0,
      "outputs": []
    },
    {
      "cell_type": "markdown",
      "metadata": {
        "id": "AmwTxYljzfkz",
        "colab_type": "text"
      },
      "source": [
        "По графику можно сделать вывод о том, что большинство ушедших клиентов не пользовались голосовой почтой - не отправляли сообщения, хотя услуга могла быть и подключена."
      ]
    },
    {
      "cell_type": "markdown",
      "metadata": {
        "id": "ikd8gDH4CbX0",
        "colab_type": "text"
      },
      "source": [
        "## Анализ бинарных признаков"
      ]
    },
    {
      "cell_type": "markdown",
      "metadata": {
        "id": "Xm5z7inKCen2",
        "colab_type": "text"
      },
      "source": [
        "Теперь посмотрим на связь бинарных признаков International plan и Voice mail plan с оттоком."
      ]
    },
    {
      "cell_type": "code",
      "metadata": {
        "id": "2vY98wqZ9-KM",
        "colab_type": "code",
        "colab": {}
      },
      "source": [
        "_, axes = plt.subplots(1, 2, sharey=True, figsize=(16,6))\n",
        "\n",
        "sns.countplot(x='International plan', hue='Churn', data=df, ax=axes[0]);\n",
        "sns.countplot(x='Voice mail plan', hue='Churn', data=df, ax=axes[1]);"
      ],
      "execution_count": 0,
      "outputs": []
    },
    {
      "cell_type": "markdown",
      "metadata": {
        "id": "IrPRCEMT-BET",
        "colab_type": "text"
      },
      "source": [
        "**Наблюдение:** когда роуминг подключен, доля оттока намного выше, т.е. наличие международного роуминга – сильный признак. Про голосовую почту такого нельзя сказать.\n"
      ]
    },
    {
      "cell_type": "markdown",
      "metadata": {
        "id": "F8Xrr7_oEFoR",
        "colab_type": "text"
      },
      "source": [
        "## Анализ категориальных признаков"
      ]
    },
    {
      "cell_type": "markdown",
      "metadata": {
        "id": "Rk8qG9nvECKT",
        "colab_type": "text"
      },
      "source": [
        "Наконец, посмотрим, как с оттоком связан категориальный признак *State*. С ним уже не так приятно работать, поскольку число уникальных штатов довольно велико – 51. Можно в начале построить сводную табличку или посчитать процент оттока для каждого штата. Но данных по каждом штату по отдельности маловато (ушедших клиентов всего от 3 до 17 в каждом штате), поэтому, возможно, признак *State* впоследствии не стоит добавлять в модели классификации из-за риска переобучения (но мы это будем проверять на кросс-валидации, stay tuned!).\n",
        "\n",
        "Доли оттока для каждого штата:"
      ]
    },
    {
      "cell_type": "code",
      "metadata": {
        "id": "0Ozd6d1s-71M",
        "colab_type": "code",
        "colab": {}
      },
      "source": [
        "df.groupby(['State'])['Churn'].agg([np.mean]).sort_values(by='mean', ascending=False).T"
      ],
      "execution_count": 0,
      "outputs": []
    },
    {
      "cell_type": "markdown",
      "metadata": {
        "id": "UN2dkHUsAebx",
        "colab_type": "text"
      },
      "source": [
        "Видно, что в Нью-Джерси и Калифорнии доля оттока выше 25%, а на Гавайях и в Аляске меньше 5%. Но эти выводы построены на слишком скромной статистике и возможно, это просто особенности имеющихся данных.\n",
        "\n",
        "На этом все, следующим этапом будет выполнение домашнего задания."
      ]
    }
  ]
}