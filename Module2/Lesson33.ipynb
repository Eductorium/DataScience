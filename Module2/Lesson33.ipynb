{
  "nbformat": 4,
  "nbformat_minor": 0,
  "metadata": {
    "colab": {
      "name": "Lesson33.ipynb",
      "provenance": [],
      "collapsed_sections": [],
      "toc_visible": true
    },
    "kernelspec": {
      "name": "python3",
      "display_name": "Python 3"
    }
  },
  "cells": [
    {
      "cell_type": "markdown",
      "metadata": {
        "id": "vrU3YFIToIJq",
        "colab_type": "text"
      },
      "source": [
        "# Лекция 3.3. Matplotlib, Seaborn и Plotly. Визуализация данных"
      ]
    },
    {
      "cell_type": "markdown",
      "metadata": {
        "id": "ZcQJv5d-POth",
        "colab_type": "text"
      },
      "source": [
        "## Matplotlib"
      ]
    },
    {
      "cell_type": "markdown",
      "metadata": {
        "id": "xNIaU_IyoNEC",
        "colab_type": "text"
      },
      "source": [
        "**Matplotlib** — библиотека на языке программирования Python для визуализации данных двумерной графикой. Получаемые изображения могут быть использованы в качестве иллюстраций в публикациях.\n",
        "Официальная документация представлена здесь: https://matplotlib.org/\n"
      ]
    },
    {
      "cell_type": "markdown",
      "metadata": {
        "id": "ToHItwYRgnPl",
        "colab_type": "text"
      },
      "source": [
        "### Импорт модуля Pandas и Matplotlib"
      ]
    },
    {
      "cell_type": "code",
      "metadata": {
        "id": "YvVUlk-CgtW4",
        "colab_type": "code",
        "colab": {}
      },
      "source": [
        "import pandas as pd\n",
        "import matplotlib.pyplot as plt"
      ],
      "execution_count": 0,
      "outputs": []
    },
    {
      "cell_type": "markdown",
      "metadata": {
        "id": "SjYPyCf-ihFZ",
        "colab_type": "text"
      },
      "source": [
        "Заметим, что мы импортировали из библиотеки только модуль pyplot, который как раз и отвечает за построение графиков."
      ]
    },
    {
      "cell_type": "markdown",
      "metadata": {
        "id": "XNCZ6JC2isGG",
        "colab_type": "text"
      },
      "source": [
        "### Основные возможности Matplotlib"
      ]
    },
    {
      "cell_type": "markdown",
      "metadata": {
        "id": "Z9Ma0mhAjL2j",
        "colab_type": "text"
      },
      "source": [
        "Создадим датафрейм. Сделаем это не из файла, а сразу зададим все данные в коде. Такой способ описания тоже существует. Наш датафрейм будет описывать некоторую информацию о людях: имя, возраст, пол, штат проживания, количество детей, количество домашних питомцев:"
      ]
    },
    {
      "cell_type": "code",
      "metadata": {
        "id": "qocmmBHUjKC6",
        "colab_type": "code",
        "colab": {}
      },
      "source": [
        "df = pd.DataFrame({\n",
        "    'name':['john','mary','peter','jeff','bill','lisa','jose'],\n",
        "    'age':[23,78,22,19,45,33,20],\n",
        "    'gender':['M','F','M','M','M','F','M'],\n",
        "    'state':['california','dc','california','dc','california','texas','texas'],\n",
        "    'num_children':[2,0,0,3,2,1,4],\n",
        "    'num_pets':[5,1,0,5,2,2,3]\n",
        "})\n",
        "df"
      ],
      "execution_count": 0,
      "outputs": []
    },
    {
      "cell_type": "markdown",
      "metadata": {
        "id": "QmYYHSsJj02P",
        "colab_type": "text"
      },
      "source": [
        "Pandas имеет очень хорошую интеграцию с Matplotlib - мы можем построить график с данными непосредственно из датафрейма, просто вызвав метод plot(). Для отображения графика, воспользуемся командой show().\n",
        "\n",
        "Построим диаграмму рассеяния - scatter plot, на которой отобразим зависимость num_children и num_pets:"
      ]
    },
    {
      "cell_type": "code",
      "metadata": {
        "id": "VOaK7J8vkS2B",
        "colab_type": "code",
        "colab": {}
      },
      "source": [
        "df.plot(kind='scatter',x='num_children',y='num_pets',color='red')\n",
        "plt.show()"
      ],
      "execution_count": 0,
      "outputs": []
    },
    {
      "cell_type": "markdown",
      "metadata": {
        "id": "4oYa7wEqktXD",
        "colab_type": "text"
      },
      "source": [
        "Также мы можем построить гистограмму - bar plot. Отобразим, например, возраст людей из нашего датафрейма:"
      ]
    },
    {
      "cell_type": "code",
      "metadata": {
        "id": "C8u3Hhv_k9Ne",
        "colab_type": "code",
        "colab": {}
      },
      "source": [
        "df.plot(kind='bar',x='name',y='age')\n",
        "plt.show()"
      ],
      "execution_count": 0,
      "outputs": []
    },
    {
      "cell_type": "markdown",
      "metadata": {
        "id": "sVyNq3ZklYhr",
        "colab_type": "text"
      },
      "source": [
        "Теперь давайте построим линейную диаграмму на основе данных из нескольких столбцов."
      ]
    },
    {
      "cell_type": "code",
      "metadata": {
        "id": "rcRCDL88lkqt",
        "colab_type": "code",
        "colab": {}
      },
      "source": [
        "axis = plt.gca() # для того, чтобы построить графики на одной оси, нам необходимо получить текущую ось и сохранить ее в переменную\n",
        "df.plot(kind='line',x='name',y='num_children',ax=axis) # здесь и в следующем графике используем ось из нашей переменной\n",
        "df.plot(kind='line',x='name',y='num_pets', color='red', ax=axis)\n",
        "plt.show()"
      ],
      "execution_count": 0,
      "outputs": []
    },
    {
      "cell_type": "markdown",
      "metadata": {
        "id": "qqIhxCUxmDEf",
        "colab_type": "text"
      },
      "source": [
        "Построим гистограмму с группировкой по полю state."
      ]
    },
    {
      "cell_type": "code",
      "metadata": {
        "id": "FioNjgPAmSOB",
        "colab_type": "code",
        "colab": {}
      },
      "source": [
        "df.groupby('state')['name'].nunique().plot(kind='bar')\n",
        "plt.show()"
      ],
      "execution_count": 0,
      "outputs": []
    },
    {
      "cell_type": "markdown",
      "metadata": {
        "id": "l6T1CKj2mymx",
        "colab_type": "text"
      },
      "source": [
        "При группировке идет подсчет количества уникальных записей name, причем уникальных, за счет метода unique(), а затем их распределение по штатам state.\n",
        "\n",
        "Теперь построим гистограмму с накоплением и группировкой. Группировать будем по штату state и полу gender:"
      ]
    },
    {
      "cell_type": "code",
      "metadata": {
        "id": "Gc2JTf-_oL3b",
        "colab_type": "code",
        "colab": {}
      },
      "source": [
        "df.groupby(['state','gender']).size().unstack().plot(kind='bar',stacked=True)\n",
        "plt.show()"
      ],
      "execution_count": 0,
      "outputs": []
    },
    {
      "cell_type": "markdown",
      "metadata": {
        "id": "N90RJDkepDRR",
        "colab_type": "text"
      },
      "source": [
        "Следующий пример - посчитаем людей по полу с разбивкой по штатам:\n",
        "\n"
      ]
    },
    {
      "cell_type": "code",
      "metadata": {
        "id": "ve9IzPaopObd",
        "colab_type": "code",
        "colab": {}
      },
      "source": [
        "df.groupby(['gender','state']).size().unstack().plot(kind='bar',stacked=True)\n",
        "plt.show()"
      ],
      "execution_count": 0,
      "outputs": []
    },
    {
      "cell_type": "markdown",
      "metadata": {
        "id": "9ZON1YWCpYiK",
        "colab_type": "text"
      },
      "source": [
        "Построим тот же самый график, но с применением нормализации к 100%:"
      ]
    },
    {
      "cell_type": "code",
      "metadata": {
        "id": "ukgFoEk4pg93",
        "colab_type": "code",
        "colab": {}
      },
      "source": [
        "import matplotlib.ticker as mtick\n",
        "df.groupby(['gender','state']).size().groupby(level=0).apply(\n",
        "    lambda x: 100 * x / x.sum()\n",
        ").unstack().plot(kind='bar',stacked=True)\n",
        "\n",
        "plt.gca().yaxis.set_major_formatter(mtick.PercentFormatter())\n",
        "plt.show()"
      ],
      "execution_count": 0,
      "outputs": []
    },
    {
      "cell_type": "markdown",
      "metadata": {
        "id": "EuOQFLOMI0oJ",
        "colab_type": "text"
      },
      "source": [
        "Можно также построить гистограмму по значениям столбцов, например, если мы хотим оценить количество людей разных возрастных групп. Возьмем деления между группами - 0, 20, 40, 60, 80 и 100:\n"
      ]
    },
    {
      "cell_type": "code",
      "metadata": {
        "id": "OCusrhjfJDHP",
        "colab_type": "code",
        "colab": {}
      },
      "source": [
        "df[['age']].plot(kind='hist',bins=[0,20,40,60,80,100],rwidth=0.8)\n",
        "plt.show()"
      ],
      "execution_count": 0,
      "outputs": []
    },
    {
      "cell_type": "markdown",
      "metadata": {
        "id": "kGjJWvejJVA4",
        "colab_type": "text"
      },
      "source": [
        "Мы также можем строить графики, оперирующие со временем. Чтобы составить график количества записей за единицу времени, мы должны:\n",
        "1. преобразовать столбец даты в datetime, используя to_datetime();\n",
        "2. вызвать метод plot(kind = 'hist'):"
      ]
    },
    {
      "cell_type": "code",
      "metadata": {
        "id": "6p6mU4zZJuTv",
        "colab_type": "code",
        "colab": {}
      },
      "source": [
        "# создадим новый датафрейм, в котором будет столбец с датой рождения в формате (m/d/y) - месяц, день, год\n",
        "df = pd.DataFrame({\n",
        "    'name':[\n",
        "        'john','lisa','peter','carl','linda','betty'\n",
        "    ],\n",
        "    'date_of_birth':[\n",
        "        '01/21/1988','03/10/1977','07/25/1999','01/22/1977','09/30/1968','09/15/1970'\n",
        "    ]\n",
        "})\n",
        "df"
      ],
      "execution_count": 0,
      "outputs": []
    },
    {
      "cell_type": "markdown",
      "metadata": {
        "id": "2XpDYfDMJ_pX",
        "colab_type": "text"
      },
      "source": [
        "Теперь преобразуем столбец даты в тип datetime и воспользуемся методом plot(kind = 'hist'):"
      ]
    },
    {
      "cell_type": "code",
      "metadata": {
        "id": "InIjhRNeKGNq",
        "colab_type": "code",
        "colab": {}
      },
      "source": [
        "df['date_of_birth'] = pd.to_datetime(df['date_of_birth'], infer_datetime_format=True)\n",
        "df['date_of_birth'].map(lambda d: d.month).plot(kind='hist')\n",
        "plt.show()"
      ],
      "execution_count": 0,
      "outputs": []
    },
    {
      "cell_type": "markdown",
      "metadata": {
        "id": "V3tl4_AmKT6o",
        "colab_type": "text"
      },
      "source": [
        "Мы можем также применить различные настройки форматирования графика, например, сделать заголовок по оси x и клеточку:"
      ]
    },
    {
      "cell_type": "code",
      "metadata": {
        "id": "_5DXYBROKiIf",
        "colab_type": "code",
        "colab": {}
      },
      "source": [
        "df['date_of_birth'] = pd.to_datetime(df['date_of_birth'], infer_datetime_format=True)\n",
        "df['date_of_birth'].map(lambda d: d.month).plot(kind='hist')\n",
        "plt.grid()\n",
        "plt.xlabel('Month number')\n",
        "plt.show()"
      ],
      "execution_count": 0,
      "outputs": []
    },
    {
      "cell_type": "markdown",
      "metadata": {
        "id": "6cIIcsCpKdBy",
        "colab_type": "text"
      },
      "source": [
        "Подробнее про форматирование графиков можно прочитать здесь, а также другие функции matplotlib можно прочитать в официальной документации здесь: https://matplotlib.org/3.2.1/api/_as_gen/matplotlib.pyplot.html\n",
        "\n",
        "Увеличим дефолтный размер графиков:\n"
      ]
    },
    {
      "cell_type": "code",
      "metadata": {
        "id": "EeCTKJefSC_a",
        "colab_type": "code",
        "colab": {}
      },
      "source": [
        "from pylab import rcParams\n",
        "rcParams['figure.figsize'] = 8, 5"
      ],
      "execution_count": 0,
      "outputs": []
    },
    {
      "cell_type": "markdown",
      "metadata": {
        "id": "xb4YJvQcDhVs",
        "colab_type": "text"
      },
      "source": [
        "Также мы можем поменять формат графиков на SVG, поскольку графики будут иметь более красивый вид:"
      ]
    },
    {
      "cell_type": "code",
      "metadata": {
        "id": "v9FV1dOWDp73",
        "colab_type": "code",
        "colab": {}
      },
      "source": [
        "%config InlineBackend.figure_format = 'svg' "
      ],
      "execution_count": 0,
      "outputs": []
    },
    {
      "cell_type": "markdown",
      "metadata": {
        "id": "Xrs5H5xSSKXA",
        "colab_type": "text"
      },
      "source": [
        "Загрузим в DataFrame новые данные, с которыми будем работать. Для примеров выбраны данные о продажах и оценках видео-игр из [Kaggle Datasets](https://www.kaggle.com/rush4ratio/video-game-sales-with-ratings)."
      ]
    },
    {
      "cell_type": "code",
      "metadata": {
        "id": "03XzQnYCSThV",
        "colab_type": "code",
        "colab": {}
      },
      "source": [
        "df = pd.read_csv('https://github.com/Eductorium/DataScience/raw/master/Module2/data/video_games_sales.csv')\n",
        "df.info()"
      ],
      "execution_count": 0,
      "outputs": []
    },
    {
      "cell_type": "markdown",
      "metadata": {
        "id": "1GgyiJdkChqL",
        "colab_type": "text"
      },
      "source": [
        "Данные есть не для всех игр, поэтому давайте оставим только те записи, в которых нет пропусков, с помощью метода dropna"
      ]
    },
    {
      "cell_type": "code",
      "metadata": {
        "id": "XBVZFqCMCmpo",
        "colab_type": "code",
        "colab": {}
      },
      "source": [
        "df = df.dropna()\n",
        "print(df.shape)"
      ],
      "execution_count": 0,
      "outputs": []
    },
    {
      "cell_type": "markdown",
      "metadata": {
        "id": "eKrcQf0VTHth",
        "colab_type": "text"
      },
      "source": [
        "Некоторые признаки, которые pandas считал как object, явно приведем к типам float или int."
      ]
    },
    {
      "cell_type": "code",
      "metadata": {
        "id": "sETJanG6TPJA",
        "colab_type": "code",
        "colab": {}
      },
      "source": [
        "df = df.dropna()\n",
        "df['User_Score'] = df.User_Score.astype('float64')\n",
        "df['Year_of_Release'] = df.Year_of_Release.astype('int64')\n",
        "df['User_Count'] = df.User_Count.astype('int64')\n",
        "df['Critic_Count'] = df.Critic_Count.astype('int64')"
      ],
      "execution_count": 0,
      "outputs": []
    },
    {
      "cell_type": "markdown",
      "metadata": {
        "id": "LKpkUUHlCtg7",
        "colab_type": "text"
      },
      "source": [
        "Всего в таблице 6825 объектов и 16 признаков для них. Посмотрим на несколько первых записей c помощью метода head, чтобы убедиться, что все распарсилось правильно. Для удобства оставим только те признаки, которые мы будем в дальнейшем использовать:"
      ]
    },
    {
      "cell_type": "code",
      "metadata": {
        "id": "6BU6YJteDB7c",
        "colab_type": "code",
        "colab": {}
      },
      "source": [
        "useful_cols = ['Name', 'Platform', 'Year_of_Release', 'Genre', \n",
        "               'Global_Sales', 'Critic_Score', 'Critic_Count',\n",
        "               'User_Score', 'User_Count', 'Rating'\n",
        "              ]\n",
        "df[useful_cols].head()"
      ],
      "execution_count": 0,
      "outputs": []
    },
    {
      "cell_type": "markdown",
      "metadata": {
        "id": "XnUxOI-YDKiJ",
        "colab_type": "text"
      },
      "source": [
        "Построим график продаж видео игр в различных странах в зависимости от года. Для начала отфильтруем только нужные нам столбцы (в цикле: x for x in df.columns if 'Sales' in x, где содержится слово \"Продажи\" - 'Sales' in x), затем посчитаем суммарные продажи по годам и у получившегося DataFrame вызовем функцию plot без параметров."
      ]
    },
    {
      "cell_type": "code",
      "metadata": {
        "id": "uegGsIhwDN64",
        "colab_type": "code",
        "colab": {}
      },
      "source": [
        "sales_df = df[[x for x in df.columns if 'Sales' in x] + ['Year_of_Release']]\n",
        "sales_df.groupby('Year_of_Release').sum().plot()"
      ],
      "execution_count": 0,
      "outputs": []
    },
    {
      "cell_type": "markdown",
      "metadata": {
        "id": "L91_5E9lFIED",
        "colab_type": "text"
      },
      "source": [
        "Напомним, что реализация функции plot в pandas основана на библиотеке matplotlib.\n",
        "C помощью параметра kind можно изменить тип графика, например, на bar chart. Matplotlib позволяет очень гибко настраивать графики. На графике можно изменить почти все, что угодно, но потребуется порыться в документации и найти нужные параметры. Например, параметр rot отвечает за угол наклона подписей к оси x.\n",
        "\n"
      ]
    },
    {
      "cell_type": "code",
      "metadata": {
        "id": "-U5UiQb7FHhQ",
        "colab_type": "code",
        "colab": {}
      },
      "source": [
        "sales_df.groupby('Year_of_Release').sum().plot(kind='bar', rot=45)"
      ],
      "execution_count": 0,
      "outputs": []
    },
    {
      "cell_type": "markdown",
      "metadata": {
        "id": "5GSFvyxIM1OZ",
        "colab_type": "text"
      },
      "source": [
        "## Seaborn"
      ]
    },
    {
      "cell_type": "markdown",
      "metadata": {
        "id": "z7ibYnm8Hmjc",
        "colab_type": "text"
      },
      "source": [
        "**Seaborn** - более высокоуровневое API на базе библиотеки Matplotlib. Seaborn содержит более адекватные дефолтные настройки оформления графиков. Также в библиотеке есть достаточно сложные типы визуализации, которые в matplotlib потребовали бы большого количество кода."
      ]
    },
    {
      "cell_type": "markdown",
      "metadata": {
        "id": "Qwa4WEoxH4_C",
        "colab_type": "text"
      },
      "source": [
        "### Импорт модуля Seaborn"
      ]
    },
    {
      "cell_type": "code",
      "metadata": {
        "id": "h_2rw0s9H8Wz",
        "colab_type": "code",
        "colab": {}
      },
      "source": [
        "import seaborn as sns"
      ],
      "execution_count": 0,
      "outputs": []
    },
    {
      "cell_type": "markdown",
      "metadata": {
        "id": "4t6UtcGfNdAw",
        "colab_type": "text"
      },
      "source": [
        "### Основные виды графиков"
      ]
    },
    {
      "cell_type": "markdown",
      "metadata": {
        "id": "_VdLpmA4HwS5",
        "colab_type": "text"
      },
      "source": [
        "Познакомимся с первым таким \"сложным\" типом графиков pair plot (scatter plot matrix). Эта визуализация поможет нам посмотреть на одной картинке, как связаны между собой различные признаки."
      ]
    },
    {
      "cell_type": "code",
      "metadata": {
        "id": "x54ZdbRFH1Oa",
        "colab_type": "code",
        "colab": {}
      },
      "source": [
        "# c svg pairplot браузер начинает тормозить\n",
        "%config InlineBackend.figure_format = 'png' \n",
        "cols = ['Global_Sales', 'Critic_Score', 'Critic_Count', 'User_Score', 'User_Count']\n",
        "sns_plot = sns.pairplot(df[cols])"
      ],
      "execution_count": 0,
      "outputs": []
    },
    {
      "cell_type": "markdown",
      "metadata": {
        "id": "c4BqOqzRIo1M",
        "colab_type": "text"
      },
      "source": [
        "Как можно видеть, на диагонали матрицы графиков расположены гистограммы распределений признака. Остальные же графики — это обычные диаграммы рассеяния (scatter plots) для соответствующих пар признаков.\n",
        "\n",
        "Для сохранения графиков в файлы стоит использовать метод savefig, например:  sns_plot.savefig('pairplot.png')\n",
        "\n",
        "С помощью seaborn можно построить и распределение dist plot. Для примера посмотрим на распределение оценок критиков Critic_Score. По умолчанию на графике отображается гистограмма и [kernel density estimation](https://en.wikipedia.org/wiki/Kernel_density_estimation)."
      ]
    },
    {
      "cell_type": "code",
      "metadata": {
        "id": "g1b_q0nWJjJL",
        "colab_type": "code",
        "colab": {}
      },
      "source": [
        "%config InlineBackend.figure_format = 'svg' \n",
        "sns.distplot(df.Critic_Score)"
      ],
      "execution_count": 0,
      "outputs": []
    },
    {
      "cell_type": "markdown",
      "metadata": {
        "id": "MDxkvFz5JoEp",
        "colab_type": "text"
      },
      "source": [
        "Для того, чтобы подробнее посмотреть на взаимосвязь двух численных признаков, есть еще и joint plot — это гибрид scatter plot и histogram. Посмотрим на то, как связаны между собой оценка критиков Critic_Score и оценка пользователя User_Score."
      ]
    },
    {
      "cell_type": "code",
      "metadata": {
        "id": "5YY1kyA5Jols",
        "colab_type": "code",
        "colab": {}
      },
      "source": [
        "sns.jointplot(x='Critic_Score', y='User_Score', \n",
        "              data=df, kind='scatter');"
      ],
      "execution_count": 0,
      "outputs": []
    },
    {
      "cell_type": "markdown",
      "metadata": {
        "id": "PT5Ek3x-PjrM",
        "colab_type": "text"
      },
      "source": [
        "Еще один полезный тип графиков — это box plot. Давайте сравним оценки игр от критиков для топ-5 крупнейших игровых платформ."
      ]
    },
    {
      "cell_type": "code",
      "metadata": {
        "id": "3ZevzOmpPmjh",
        "colab_type": "code",
        "colab": {}
      },
      "source": [
        "top_platforms = df.Platform.value_counts().sort_values(ascending = False).head(5).index.values\n",
        "sns.boxplot(y=\"Platform\", x=\"Critic_Score\", data=df[df.Platform.isin(top_platforms)], orient=\"h\")"
      ],
      "execution_count": 0,
      "outputs": []
    },
    {
      "cell_type": "markdown",
      "metadata": {
        "id": "e0BJ0HYvPtkz",
        "colab_type": "text"
      },
      "source": [
        "Обсудим немного подробнее, как же понимать box plot. Box plot состоит из коробки (поэтому он и называется box plot), усиков и точек. Коробка показывает интерквартильный размах распределения, то есть соответственно 25% (Q1) и 75% (Q3) перцентили. Черта внутри коробки обозначает медиану распределения.\n",
        "С коробкой разобрались, перейдем к усам. Усы отображают весь разброс точек кроме выбросов, то есть минимальные и максимальные значения, которые попадают в промежуток (Q1 - 1.5*IQR, Q3 + 1.5*IQR), где IQR = Q3 - Q1 — интерквартильный размах. Точками на графике обозначаются выбросы (outliers) — те значения, которые не вписываются в промежуток значений, заданный усами графика.\n",
        "\n",
        "Для понимания лучше один раз увидеть, поэтому вот еще и картинка с [Wikipedia](https://en.wikipedia.org/wiki/Box_plot):\n",
        "\n",
        "![](https://github.com/Eductorium/DataScience/raw/master/Module2/img/box_diag.png)"
      ]
    },
    {
      "cell_type": "markdown",
      "metadata": {
        "id": "5MRZJYBaMEpD",
        "colab_type": "text"
      },
      "source": [
        "И еще один тип графиков (последний из тех, которые мы рассмотрим в этой статье) — это heat map. Heat map позволяет посмотреть на распределение какого-то численного признака по двум категориальным. Визуализируем суммарные продажи игр по жанрам и игровым платформам."
      ]
    },
    {
      "cell_type": "code",
      "metadata": {
        "id": "CoqYJ4OjNKzq",
        "colab_type": "code",
        "colab": {}
      },
      "source": [
        "platform_genre_sales = df.pivot_table(\n",
        "                        index='Platform', \n",
        "                        columns='Genre', \n",
        "                        values='Global_Sales', \n",
        "                        aggfunc=sum).fillna(0).applymap(float)\n",
        "sns.heatmap(platform_genre_sales, annot=True, fmt=\".1f\", linewidths=.5)"
      ],
      "execution_count": 0,
      "outputs": []
    },
    {
      "cell_type": "markdown",
      "metadata": {
        "id": "LkvFicj1NjCI",
        "colab_type": "text"
      },
      "source": [
        "## Plotly"
      ]
    },
    {
      "cell_type": "markdown",
      "metadata": {
        "id": "x35ZiUaQNmFu",
        "colab_type": "text"
      },
      "source": [
        "Мы рассмотрели визуализации на базе библиотеки matplotlib. Однако это не единственная опция для построения графиков на языке python. Познакомимся также с библиотекой plotly. \n",
        "\n",
        "**Plotly** — это open-source библиотека, которая позволяет строить интерактивные графики в jupyter.notebook'e без необходимости зарываться в javascript код.\n",
        "\n",
        "Удобство интерактивных графиков заключается в том, что можно посмотреть точное численное значение при наведении мыши, скрыть неинтересные ряды в визуализации, приблизить определенный участок графика и т.д.\n"
      ]
    },
    {
      "cell_type": "markdown",
      "metadata": {
        "id": "7Bj5sv8KRg12",
        "colab_type": "text"
      },
      "source": [
        "### Импорт модулей Plotly"
      ]
    },
    {
      "cell_type": "markdown",
      "metadata": {
        "id": "ZjXXLuAERuLd",
        "colab_type": "text"
      },
      "source": [
        "Перед началом работы импортируем все необходимые модули."
      ]
    },
    {
      "cell_type": "code",
      "metadata": {
        "id": "VBUP6G7YRvQF",
        "colab_type": "code",
        "colab": {}
      },
      "source": [
        "from plotly.offline import download_plotlyjs, init_notebook_mode, plot, iplot\n",
        "import plotly\n",
        "import plotly.graph_objs as go"
      ],
      "execution_count": 0,
      "outputs": []
    },
    {
      "cell_type": "markdown",
      "metadata": {
        "id": "9Ut3Zv7lR3mM",
        "colab_type": "text"
      },
      "source": [
        "Для начала построим line plot с динамикой числа вышедших игр и их продаж по годам."
      ]
    },
    {
      "cell_type": "code",
      "metadata": {
        "id": "DaoM-cGJR6Iy",
        "colab_type": "code",
        "colab": {}
      },
      "source": [
        "years_df = df.groupby('Year_of_Release')[['Global_Sales']].sum().join(\n",
        "    df.groupby('Year_of_Release')[['Name']].count())\n",
        "years_df.columns = ['Global_Sales', 'Number_of_Games']"
      ],
      "execution_count": 0,
      "outputs": []
    },
    {
      "cell_type": "markdown",
      "metadata": {
        "id": "O7yz_K0xTxsN",
        "colab_type": "text"
      },
      "source": [
        "В Plotly строится визуализация объекта Figure, который состоит из данных (массив линий, которые в библиотеке называются traces) и оформления/стиля, за который отвечает объект layout. В простых случаях можно вызывать функцию iplot и просто от массива traces."
      ]
    },
    {
      "cell_type": "code",
      "metadata": {
        "id": "otiktXFZT5Kh",
        "colab_type": "code",
        "colab": {}
      },
      "source": [
        "# создаем линию для числа проданных копий\n",
        "trace0 = go.Scatter(\n",
        "    x=years_df.index,\n",
        "    y=years_df.Global_Sales,\n",
        "    name='Global Sales'\n",
        ")\n",
        "\n",
        "# создаем линию для числа вышедших игр \n",
        "trace1 = go.Scatter(\n",
        "    x=years_df.index,\n",
        "    y=years_df.Number_of_Games,\n",
        "    name='Number of games released'\n",
        ")\n",
        "\n",
        "# определяем массив данных и задаем title графика в layout\n",
        "data = [trace0, trace1]\n",
        "layout = {'title': 'Statistics of video games'}\n",
        "\n",
        "# cоздаем объект Figure и визуализируем его\n",
        "fig = go.Figure(data=data, layout=layout)\n",
        "iplot(fig, show_link=False)\n",
        "# параметр show_link отвечает за ссылки на online-платформу plot.ly на графиках\n",
        "# поскольку обычно это функциональность не нужна, то лучше ее скрывать во избежание случайных нажатий"
      ],
      "execution_count": 0,
      "outputs": []
    },
    {
      "cell_type": "markdown",
      "metadata": {
        "id": "D7fsFRpYWeIg",
        "colab_type": "text"
      },
      "source": [
        "Посмотрим также на рыночную долю игровых платформ, рассчитанную по количеству выпущенных игр и по суммарной выручке. Для этого построим bar chart."
      ]
    },
    {
      "cell_type": "code",
      "metadata": {
        "id": "hLqbg8l1Wg9v",
        "colab_type": "code",
        "colab": {}
      },
      "source": [
        "# считаем число проданных и вышедших игр по платформам\n",
        "platforms_df = df.groupby('Platform')[['Global_Sales']].sum().join(\n",
        "    df.groupby('Platform')[['Name']].count()\n",
        ")\n",
        "platforms_df.columns = ['Global_Sales', 'Number_of_Games']\n",
        "platforms_df.sort_values('Global_Sales', ascending=False, inplace=True)\n",
        "\n",
        "# создаем traces для визуализации\n",
        "trace0 = go.Bar(\n",
        "    x=platforms_df.index,\n",
        "    y=platforms_df.Global_Sales,\n",
        "    name='Global Sales'\n",
        ")\n",
        "\n",
        "trace1 = go.Bar(\n",
        "    x=platforms_df.index,\n",
        "    y=platforms_df.Number_of_Games,\n",
        "    name='Number of games released'\n",
        ")\n",
        "\n",
        "# создаем массив с данными и задаем title для графика и оси x в layout\n",
        "data = [trace0, trace1]\n",
        "layout = {'title': 'Share of platforms', 'xaxis': {'title': 'platform'}}\n",
        "\n",
        "# создаем объект Figure и визуализируем его\n",
        "fig = go.Figure(data=data, layout=layout)\n",
        "iplot(fig, show_link=False)"
      ],
      "execution_count": 0,
      "outputs": []
    },
    {
      "cell_type": "markdown",
      "metadata": {
        "id": "WSvwHtxYWnou",
        "colab_type": "text"
      },
      "source": [
        "В plotly можно построить и box plot. Рассмотрим распределения оценок критиков в зависимости от жанра игры."
      ]
    },
    {
      "cell_type": "code",
      "metadata": {
        "id": "WuWJ-aF4WoSc",
        "colab_type": "code",
        "colab": {}
      },
      "source": [
        "# создаем Box trace для каждого жанра из наших данных\n",
        "data = []\n",
        "for genre in df.Genre.unique():\n",
        "    data.append(\n",
        "        go.Box(y=df[df.Genre==genre].Critic_Score, name=genre)\n",
        "    )\n",
        "\n",
        "# визуализируем данные\n",
        "iplot(data, show_link = False)"
      ],
      "execution_count": 0,
      "outputs": []
    },
    {
      "cell_type": "markdown",
      "metadata": {
        "id": "rbzjCVBJWvuj",
        "colab_type": "text"
      },
      "source": [
        "С помощью plotly можно построить и другие типы визуализаций. Графики получаются достаточно симпатичными с дефолтными настройками. Однако библиотека позволяет и гибко настраивать различные параметры визуализации: цвета, шрифты, подписи, аннотации и многое другое."
      ]
    }
  ]
}