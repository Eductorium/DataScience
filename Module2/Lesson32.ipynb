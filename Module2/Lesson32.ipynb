{
  "nbformat": 4,
  "nbformat_minor": 0,
  "metadata": {
    "colab": {
      "name": "Lesson32.ipynb",
      "provenance": [],
      "collapsed_sections": []
    },
    "kernelspec": {
      "name": "python3",
      "display_name": "Python 3"
    }
  },
  "cells": [
    {
      "cell_type": "markdown",
      "metadata": {
        "id": "YYES13DuO7Bx",
        "colab_type": "text"
      },
      "source": [
        "# Лекция 3.2. Pandas"
      ]
    },
    {
      "cell_type": "markdown",
      "metadata": {
        "id": "Q6o5qzLfPECj",
        "colab_type": "text"
      },
      "source": [
        "Pandas — это библиотека Python, предоставляющая широкие возможности для анализа данных. Данные, с которыми работают датасаентисты, часто хранятся в форме табличек — например, в форматах .csv, .tsv или .xlsx. С помощью библиотеки Pandas такие табличные данные очень удобно загружать, обрабатывать и анализировать с помощью SQL-подобных запросов. А в связке с библиотеками Matplotlib и Seaborn Pandas предоставляет широкие возможности визуального анализа табличных данных.\n",
        "\n",
        "\n",
        "Основными структурами данных в Pandas являются классы Series и DataFrame. Первый из них представляет собой одномерный индексированный массив данных некоторого фиксированного типа. Второй – это двухмерная структура данных, представляющая собой таблицу, каждый столбец которой содержит данные одного типа. Можно представлять её как словарь объектов типа Series. Структура DataFrame отлично подходит для представления реальных данных: строки соответствуют признаковым описаниям отдельных объектов, а столбцы соответствуют признакам."
      ]
    },
    {
      "cell_type": "markdown",
      "metadata": {
        "id": "NEjG1x9RPLyR",
        "colab_type": "text"
      },
      "source": [
        "## Импорт модуля pandas и numpy"
      ]
    },
    {
      "cell_type": "code",
      "metadata": {
        "id": "NMiqwWvfPUXJ",
        "colab_type": "code",
        "colab": {}
      },
      "source": [
        "import pandas as pd\n",
        "import numpy as np"
      ],
      "execution_count": 0,
      "outputs": []
    },
    {
      "cell_type": "markdown",
      "metadata": {
        "id": "ktbn5uC8RIPE",
        "colab_type": "text"
      },
      "source": [
        "## Обзор основных методов"
      ]
    },
    {
      "cell_type": "markdown",
      "metadata": {
        "id": "WJNmApEXRLbY",
        "colab_type": "text"
      },
      "source": [
        "Будем показывать основные методы в деле, анализируя набор данных по оттоку клиентов телеком-оператора, который уже закачан в [репозиторий](data/telecom_churn.csv) и доступен по относительному пути data/telecom_churn.csv. Прочитаем данные (метод read_csv) и посмотрим на первые 5 строк с помощью метода head:"
      ]
    },
    {
      "cell_type": "code",
      "metadata": {
        "id": "pmO10GpmUSzn",
        "colab_type": "code",
        "colab": {
          "base_uri": "https://localhost:8080/",
          "height": 163
        },
        "outputId": "16bbbb3d-c3f2-411d-905c-2182828976a2"
      },
      "source": [
        "df = pd.read_csv('data/telecom_churn.csv')"
      ],
      "execution_count": 1,
      "outputs": [
        {
          "output_type": "error",
          "ename": "NameError",
          "evalue": "ignored",
          "traceback": [
            "\u001b[0;31m---------------------------------------------------------------------------\u001b[0m",
            "\u001b[0;31mNameError\u001b[0m                                 Traceback (most recent call last)",
            "\u001b[0;32m<ipython-input-1-62b65cad0417>\u001b[0m in \u001b[0;36m<module>\u001b[0;34m()\u001b[0m\n\u001b[0;32m----> 1\u001b[0;31m \u001b[0mdf\u001b[0m \u001b[0;34m=\u001b[0m \u001b[0mpd\u001b[0m\u001b[0;34m.\u001b[0m\u001b[0mread_csv\u001b[0m\u001b[0;34m(\u001b[0m\u001b[0;34m'data/telecom_churn.csv'\u001b[0m\u001b[0;34m)\u001b[0m\u001b[0;34m\u001b[0m\u001b[0;34m\u001b[0m\u001b[0m\n\u001b[0m",
            "\u001b[0;31mNameError\u001b[0m: name 'pd' is not defined"
          ]
        }
      ]
    }
  ]
}