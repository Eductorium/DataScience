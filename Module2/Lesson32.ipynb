{
  "nbformat": 4,
  "nbformat_minor": 0,
  "metadata": {
    "colab": {
      "name": "Lesson32.ipynb",
      "provenance": []
    },
    "kernelspec": {
      "name": "python3",
      "display_name": "Python 3"
    }
  },
  "cells": [
    {
      "cell_type": "markdown",
      "metadata": {
        "id": "YYES13DuO7Bx",
        "colab_type": "text"
      },
      "source": [
        "# Лекция 3.2. Pandas"
      ]
    },
    {
      "cell_type": "markdown",
      "metadata": {
        "id": "Q6o5qzLfPECj",
        "colab_type": "text"
      },
      "source": [
        "Pandas — это библиотека Python, предоставляющая широкие возможности для анализа данных. Данные, с которыми работают датасаентисты, часто хранятся в форме табличек — например, в форматах .csv, .tsv или .xlsx. С помощью библиотеки Pandas такие табличные данные очень удобно загружать, обрабатывать и анализировать с помощью SQL-подобных запросов. А в связке с библиотеками Matplotlib и Seaborn Pandas предоставляет широкие возможности визуального анализа табличных данных.\n",
        "\n",
        "\n",
        "Основными структурами данных в Pandas являются классы Series и DataFrame. Первый из них представляет собой одномерный индексированный массив данных некоторого фиксированного типа. Второй – это двухмерная структура данных, представляющая собой таблицу, каждый столбец которой содержит данные одного типа. Можно представлять её как словарь объектов типа Series. Структура DataFrame отлично подходит для представления реальных данных: строки соответствуют признаковым описаниям отдельных объектов, а столбцы соответствуют признакам."
      ]
    },
    {
      "cell_type": "markdown",
      "metadata": {
        "id": "NEjG1x9RPLyR",
        "colab_type": "text"
      },
      "source": [
        "## Импорт модуля pandas и numpy"
      ]
    },
    {
      "cell_type": "code",
      "metadata": {
        "id": "NMiqwWvfPUXJ",
        "colab_type": "code",
        "colab": {}
      },
      "source": [
        "import pandas as pd\n",
        "import numpy as np"
      ],
      "execution_count": 0,
      "outputs": []
    }
  ]
}