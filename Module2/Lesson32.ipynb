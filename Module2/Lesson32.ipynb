{
 "nbformat": 4,
 "nbformat_minor": 0,
 "metadata": {
  "colab": {
   "name": "Lesson32.ipynb",
   "provenance": [],
   "collapsed_sections": []
  },
  "kernelspec": {
   "name": "python3",
   "display_name": "Python 3"
  }
 },
 "cells": [
  {
   "cell_type": "markdown",
   "metadata": {
    "id": "YYES13DuO7Bx",
    "colab_type": "text"
   },
   "source": [
    "# Лекция 3.2. Pandas. Первичный анализ данных"
   ]
  },
  {
   "cell_type": "markdown",
   "metadata": {
    "id": "Q6o5qzLfPECj",
    "colab_type": "text"
   },
   "source": [
    "**Pandas** — это библиотека Python, предоставляющая широкие возможности для анализа данных. Данные, с которыми работают датасаентисты, часто хранятся в форме табличек — например, в форматах .csv, .tsv или .xlsx. С помощью библиотеки Pandas такие табличные данные очень удобно загружать, обрабатывать и анализировать с помощью SQL-подобных запросов. А в связке с библиотеками Matplotlib и Seaborn Pandas предоставляет широкие возможности визуального анализа табличных данных.\n",
    "\n",
    "\n",
    "Основными структурами данных в Pandas являются классы Series и DataFrame. Первый из них представляет собой одномерный индексированный массив данных некоторого фиксированного типа. Второй – это двухмерная структура данных, представляющая собой таблицу, каждый столбец которой содержит данные одного типа. Можно представлять её как словарь объектов типа Series. Структура DataFrame отлично подходит для представления реальных данных: строки соответствуют признаковым описаниям отдельных объектов, а столбцы соответствуют признакам.\n",
    "\n",
    "Официальная документация pandas: https://pandas.pydata.org/pandas-docs/stable/index.html"
   ]
  },
  {
   "cell_type": "markdown",
   "metadata": {
    "id": "NEjG1x9RPLyR",
    "colab_type": "text"
   },
   "source": [
    "## Импорт модуля pandas и numpy"
   ]
  },
  {
   "cell_type": "code",
   "metadata": {
    "id": "NMiqwWvfPUXJ",
    "colab_type": "code",
    "colab": {}
   },
   "source": [
    "import pandas as pd\n",
    "import numpy as np"
   ],
   "execution_count": 0,
   "outputs": []
  },
  {
   "cell_type": "markdown",
   "metadata": {
    "id": "ktbn5uC8RIPE",
    "colab_type": "text"
   },
   "source": [
    "## Использование основных методов"
   ]
  },
  {
   "cell_type": "markdown",
   "metadata": {
    "id": "WJNmApEXRLbY",
    "colab_type": "text"
   },
   "source": [
    "Будем рассматривать основные методы на практике, анализируя набор данных по оттоку клиентов телеком-оператора, который уже закачан в [репозиторий](data/telecom_churn.csv) и доступен по пути адресу https://github.com/Eductorium/DataScience/raw/master/Module2/data/telecom_churn.csv. Прочитаем данные (метод read_csv) и посмотрим на первые 5 строк с помощью метода head:"
   ]
  },
  {
   "cell_type": "code",
   "metadata": {
    "id": "pmO10GpmUSzn",
    "colab_type": "code",
    "colab": {}
   },
   "source": [
    "df = pd.read_csv('https://github.com/Eductorium/DataScience/raw/master/Module2/data/telecom_churn.csv')"
   ],
   "execution_count": 0,
   "outputs": []
  },
  {
   "cell_type": "code",
   "metadata": {
    "id": "4lRmv-Dl1qoJ",
    "colab_type": "code",
    "colab": {}
   },
   "source": [
    "df.head()"
   ],
   "execution_count": 0,
   "outputs": []
  },
  {
   "cell_type": "markdown",
   "metadata": {
    "id": "0h19vyQn1_9f",
    "colab_type": "text"
   },
   "source": [
    "В Jupyter-ноутбуках датафреймы Pandas выводятся в виде вот таких красивых табличек как выше. Команда print(df.head()) выглядела бы намного хуже:"
   ]
  },
  {
   "cell_type": "code",
   "metadata": {
    "id": "rajN2aOo2JCU",
    "colab_type": "code",
    "colab": {}
   },
   "source": [
    "print(df.head())"
   ],
   "execution_count": 0,
   "outputs": []
  },
  {
   "cell_type": "markdown",
   "metadata": {
    "id": "v7iqLzuR-ojM",
    "colab_type": "text"
   },
   "source": [
    "Весь датафрейм можно вывести просто указав название переменной:"
   ]
  },
  {
   "cell_type": "code",
   "metadata": {
    "id": "OqmLYzz--nOn",
    "colab_type": "code",
    "colab": {}
   },
   "source": [
    "df"
   ],
   "execution_count": 0,
   "outputs": []
  },
  {
   "cell_type": "markdown",
   "metadata": {
    "id": "vVprCQyG2IEx",
    "colab_type": "text"
   },
   "source": [
    "По умолчанию Pandas выводит 60 строк и 50 столбцов, либо в зависимости от размера экрана. В нашем случае - от размера экрана. Поэтому если Ваш датафрейм больше, воспользуйтесь функцией set_option:"
   ]
  },
  {
   "cell_type": "code",
   "metadata": {
    "id": "G2P7N86l2prR",
    "colab_type": "code",
    "colab": {}
   },
   "source": [
    "pd.set_option('max_rows', 3500)\n",
    "pd.set_option('max_colwidth', 60)\n",
    "# df можно для теста раскомментировать и посмотреть как будет выведена таблица"
   ],
   "execution_count": 0,
   "outputs": []
  },
  {
   "cell_type": "markdown",
   "metadata": {
    "id": "7r1FPJPrAG7J",
    "colab_type": "text"
   },
   "source": [
    "Вернем исходные значения параметров:"
   ]
  },
  {
   "cell_type": "code",
   "metadata": {
    "id": "Zf3ygDtaAK0S",
    "colab_type": "code",
    "colab": {}
   },
   "source": [
    "pd.set_option('max_rows', 60)\n",
    "pd.set_option('max_colwidth', 50)"
   ],
   "execution_count": 0,
   "outputs": []
  },
  {
   "cell_type": "markdown",
   "metadata": {
    "id": "b4PDmaY42r7R",
    "colab_type": "text"
   },
   "source": [
    "Вернемся к данным. Каждая строка представляет собой одного клиента – это объект исследования.\n",
    "Столбцы – признаки объекта."
   ]
  },
  {
   "cell_type": "markdown",
   "metadata": {
    "id": "z4i50v6PAWvX",
    "colab_type": "text"
   },
   "source": [
    "**Описание признаков:**\n",
    "\n",
    "![](https://github.com/Eductorium/DataScience/raw/master/Module2/params.png)\n",
    "\n",
    "Целевая переменная: **Churn** – Признак оттока, бинарный признак (1 – потеря клиента, то есть отток). Потом мы будем строить модели, прогнозирующие этот признак по остальным, поэтому мы и назвали его целевым.\n",
    "\n",
    "Посмотрим на размер данных, названия признаков и их типы.\n"
   ]
  },
  {
   "cell_type": "code",
   "metadata": {
    "id": "wErjxkjxBfZ_",
    "colab_type": "code",
    "colab": {}
   },
   "source": [
    "print(df.shape)"
   ],
   "execution_count": 0,
   "outputs": []
  },
  {
   "cell_type": "markdown",
   "metadata": {
    "id": "p3CMhH8gBkV7",
    "colab_type": "text"
   },
   "source": [
    "Видим, что в таблице 3333 строки и 20 столбцов. Выведем названия столбцов:"
   ]
  },
  {
   "cell_type": "code",
   "metadata": {
    "id": "3nrhKOmUBk6-",
    "colab_type": "code",
    "colab": {}
   },
   "source": [
    "print(df.columns)"
   ],
   "execution_count": 0,
   "outputs": []
  },
  {
   "cell_type": "markdown",
   "metadata": {
    "id": "oxnl6NztBp2h",
    "colab_type": "text"
   },
   "source": [
    "Чтобы посмотреть общую информацию по датафрейму и всем признакам, воспользуемся методом info:"
   ]
  },
  {
   "cell_type": "code",
   "metadata": {
    "id": "bgy5GjdIBr6P",
    "colab_type": "code",
    "colab": {}
   },
   "source": [
    "print(df.info())"
   ],
   "execution_count": 0,
   "outputs": []
  },
  {
   "cell_type": "markdown",
   "metadata": {
    "id": "tlItxHs3Bwoi",
    "colab_type": "text"
   },
   "source": [
    "bool, int64, float64 и object — это типы признаков. Видим, что 1 признак — логический (bool), 3 признака имеют тип object и 16 признаков — числовые. Также с помощью метода info удобно быстро посмотреть на пропуски в данных, в нашем случае их нет, в каждом столбце по 3333 наблюдения.\n",
    "\n",
    "\n",
    "**Изменить тип колонки** можно с помощью метода astype. Применим этот метод к признаку Churn и переведём его в int64:"
   ]
  },
  {
   "cell_type": "code",
   "metadata": {
    "id": "uw24veXfB4qZ",
    "colab_type": "code",
    "colab": {}
   },
   "source": [
    "df['Churn'] = df['Churn'].astype('int64')"
   ],
   "execution_count": 0,
   "outputs": []
  },
  {
   "cell_type": "markdown",
   "metadata": {
    "id": "nyW0p6zOB9i7",
    "colab_type": "text"
   },
   "source": [
    "Метод describe показывает основные статистические характеристики данных по каждому числовому признаку (типы int64 и float64): число непропущенных значений, среднее, стандартное отклонение, диапазон, медиану, 0.25 и 0.75 квартили."
   ]
  },
  {
   "cell_type": "code",
   "metadata": {
    "id": "gRiR2H3KB_TT",
    "colab_type": "code",
    "colab": {}
   },
   "source": [
    "df.describe()"
   ],
   "execution_count": 0,
   "outputs": []
  },
  {
   "cell_type": "markdown",
   "metadata": {
    "id": "3piDWlecDnKc",
    "colab_type": "text"
   },
   "source": [
    "Чтобы посмотреть статистику по нечисловым признакам, нужно явно указать интересующие нас типы в параметре include."
   ]
  },
  {
   "cell_type": "code",
   "metadata": {
    "id": "0qp-7YgfDoiT",
    "colab_type": "code",
    "colab": {}
   },
   "source": [
    "df.describe(include=['object', 'bool'])"
   ],
   "execution_count": 0,
   "outputs": []
  },
  {
   "cell_type": "markdown",
   "metadata": {
    "id": "RBsclAldD0_s",
    "colab_type": "text"
   },
   "source": [
    "Для категориальных (тип object) и булевых (тип bool) признаков можно воспользоваться методом value_counts. Посмотрим на распределение данных по нашей целевой переменной — Churn:"
   ]
  },
  {
   "cell_type": "code",
   "metadata": {
    "id": "h9E1_jotD5NM",
    "colab_type": "code",
    "colab": {}
   },
   "source": [
    "df['Churn'].value_counts()"
   ],
   "execution_count": 0,
   "outputs": []
  },
  {
   "cell_type": "markdown",
   "metadata": {
    "id": "VZ830FeeEBg_",
    "colab_type": "text"
   },
   "source": [
    "2850 пользователей из 3333 — лояльные, значение переменной Churn у них — 0.\n",
    "\n",
    "Посмотрим на распределение пользователей по переменной Area code. Укажем значение параметра normalize=True, чтобы посмотреть не абсолютные частоты, а относительные - в процента (100% = 1)."
   ]
  },
  {
   "cell_type": "code",
   "metadata": {
    "id": "q5pApTLlEFm8",
    "colab_type": "code",
    "colab": {}
   },
   "source": [
    "df['Area code'].value_counts(normalize=True)"
   ],
   "execution_count": 0,
   "outputs": []
  },
  {
   "cell_type": "markdown",
   "metadata": {
    "id": "VNC41svNEPdM",
    "colab_type": "text"
   },
   "source": [
    "## Сортировка"
   ]
  },
  {
   "cell_type": "markdown",
   "metadata": {
    "id": "sT01SQHYEg5q",
    "colab_type": "text"
   },
   "source": [
    "DataFrame можно отсортировать по значению какого-нибудь из признаков. В нашем случае, например, по Total day charge (ascending=False для сортировки по убыванию):"
   ]
  },
  {
   "cell_type": "code",
   "metadata": {
    "id": "ipbdNwrGEnx-",
    "colab_type": "code",
    "colab": {}
   },
   "source": [
    "df.sort_values(by='Total day charge', \n",
    "        ascending=False).head()"
   ],
   "execution_count": 0,
   "outputs": []
  },
  {
   "cell_type": "markdown",
   "metadata": {
    "id": "9eqMC7B8Fdqb",
    "colab_type": "text"
   },
   "source": [
    "Сортировать можно и по группе столбцов:"
   ]
  },
  {
   "cell_type": "code",
   "metadata": {
    "id": "fKynDtk0FgD_",
    "colab_type": "code",
    "colab": {}
   },
   "source": [
    "df.sort_values(by=['Churn', 'Total day charge'],\n",
    "        ascending=[True, False]).head()"
   ],
   "execution_count": 0,
   "outputs": []
  },
  {
   "cell_type": "markdown",
   "metadata": {
    "id": "DgOZbbDxFlPi",
    "colab_type": "text"
   },
   "source": [
    "## Индексация и извлечение данных"
   ]
  },
  {
   "cell_type": "markdown",
   "metadata": {
    "id": "BvNZsWMcFoZd",
    "colab_type": "text"
   },
   "source": [
    "DataFrame можно индексировать по-разному. В связи с этим рассмотрим различные способы индексации и извлечения нужных нам данных из датафрейма на примере простых вопросов.\n",
    "\n",
    "Для извлечения отдельного столбца можно использовать конструкцию вида DataFrame['Name']. Воспользуемся этим для ответа на вопрос: **какова доля нелояльных пользователей в нашем датафрейме?**"
   ]
  },
  {
   "cell_type": "code",
   "metadata": {
    "id": "332nKYEsF62S",
    "colab_type": "code",
    "colab": {}
   },
   "source": [
    "df['Churn'].mean()"
   ],
   "execution_count": 0,
   "outputs": []
  },
  {
   "cell_type": "markdown",
   "metadata": {
    "id": "Zfd1tZwRGtQ2",
    "colab_type": "text"
   },
   "source": [
    "14,5% — довольно плохой показатель для компании, с таким процентом оттока можно и разориться. Здесь мы нашли среднее mean значение Churn. Это и есть доля нелояльных пользователей.\n",
    "\n",
    "Очень удобной является логическая индексация DataFrame по одному столбцу. Выглядит она следующим образом: df[P(df['Name'])], где P — это некоторое логическое условие, проверяемое для каждого элемента столбца Name. Итогом такой индексации является DataFrame, состоящий только из строк, удовлетворяющих условию P по столбцу Name.\n",
    "\n",
    "Воспользуемся этим для ответа на вопрос: **каковы средние значения числовых признаков среди нелояльных пользователей?**"
   ]
  },
  {
   "cell_type": "code",
   "metadata": {
    "id": "-WpaQRyfGuIH",
    "colab_type": "code",
    "colab": {}
   },
   "source": [
    "df[df['Churn'] == 1].mean()"
   ],
   "execution_count": 0,
   "outputs": []
  },
  {
   "cell_type": "markdown",
   "metadata": {
    "id": "Tls0g3tfHYN_",
    "colab_type": "text"
   },
   "source": [
    "Скомбинировав предыдущие два вида индексации, ответим на вопрос: **сколько в среднем в течение дня разговаривают по телефону нелояльные пользователи?**"
   ]
  },
  {
   "cell_type": "code",
   "metadata": {
    "id": "pb8HYBUcHZqO",
    "colab_type": "code",
    "colab": {}
   },
   "source": [
    "df[df['Churn'] == 1]['Total day minutes'].mean()"
   ],
   "execution_count": 0,
   "outputs": []
  },
  {
   "cell_type": "markdown",
   "metadata": {
    "id": "KUIXte25HhY9",
    "colab_type": "text"
   },
   "source": [
    "**Какова максимальная длина международных звонков среди лояльных пользователей (Churn == 0), не пользующихся услугой международного роуминга ('International plan' == 'No')?**"
   ]
  },
  {
   "cell_type": "code",
   "metadata": {
    "id": "HtihKVrbHpHs",
    "colab_type": "code",
    "colab": {}
   },
   "source": [
    "df[(df['Churn'] == 0) & (df['International plan'] == 'No')]['Total intl minutes'].max()"
   ],
   "execution_count": 0,
   "outputs": []
  },
  {
   "cell_type": "markdown",
   "metadata": {
    "id": "zH2i500lH4PR",
    "colab_type": "text"
   },
   "source": [
    "Датафреймы можно индексировать как по названию столбца или строки, так и по порядковому номеру. Для индексации по названию используется метод loc, по номеру — iloc.\n",
    "\n",
    "В первом случае мы говорим «передай нам значения для id строк от 0 до 5 и для столбцов от State до Area code», а во втором — «передай нам значения первых пяти строк в первых трёх столбцах»."
   ]
  },
  {
   "cell_type": "code",
   "metadata": {
    "id": "VV2DNWx6IH2U",
    "colab_type": "code",
    "colab": {}
   },
   "source": [
    "df.loc[0:5, 'State':'Area code']"
   ],
   "execution_count": 0,
   "outputs": []
  },
  {
   "cell_type": "markdown",
   "metadata": {
    "id": "eGiVuym4IDyp",
    "colab_type": "text"
   },
   "source": [
    "**Примечание:** когда мы передаём slice object в iloc, датафрейм слайсится как обычно. Однако в случае с loc учитываются и начало, и конец слайса"
   ]
  },
  {
   "cell_type": "code",
   "metadata": {
    "id": "J9gbU8yxIcu6",
    "colab_type": "code",
    "colab": {}
   },
   "source": [
    "df.iloc[0:5, 0:3]"
   ],
   "execution_count": 0,
   "outputs": []
  },
  {
   "cell_type": "markdown",
   "metadata": {
    "id": "IacUpt-GIgtS",
    "colab_type": "text"
   },
   "source": [
    "Если нам нужна первая или последняя строчка датафрейма, пользуемся конструкцией df[:1] или df[-1:]:"
   ]
  },
  {
   "cell_type": "code",
   "metadata": {
    "id": "ZjBWy6vBIkjz",
    "colab_type": "code",
    "colab": {}
   },
   "source": [
    "df[-1:]"
   ],
   "execution_count": 0,
   "outputs": []
  },
  {
   "cell_type": "markdown",
   "metadata": {
    "id": "n57cGzsZI46-",
    "colab_type": "text"
   },
   "source": [
    "## Применение функций к ячейкам, столбцам и строкам"
   ]
  },
  {
   "cell_type": "code",
   "metadata": {
    "id": "viy-m5ndI8H4",
    "colab_type": "code",
    "colab": {}
   },
   "source": [
    "df.apply(np.max) "
   ],
   "execution_count": 0,
   "outputs": []
  },
  {
   "cell_type": "markdown",
   "metadata": {
    "id": "C3int_9ZI7MX",
    "colab_type": "text"
   },
   "source": [
    "Метод apply можно использовать и для того, чтобы применить функцию к каждой строке. Для этого нужно указать axis=1.\n",
    "\n",
    "Применение функции к каждой ячейке столбца: map\n",
    "\n",
    "Например, метод map можно использовать для замены значений в колонке, передав ему в качестве аргумента словарь вида {old_value: new_value}:"
   ]
  },
  {
   "cell_type": "code",
   "metadata": {
    "id": "ABa-L83QJhHN",
    "colab_type": "code",
    "colab": {}
   },
   "source": [
    "d = {'No' : False, 'Yes' : True}\n",
    "df['International plan'] = df['International plan'].map(d)\n",
    "df.head()"
   ],
   "execution_count": 0,
   "outputs": []
  },
  {
   "cell_type": "markdown",
   "metadata": {
    "id": "yU0IgsoFJndw",
    "colab_type": "text"
   },
   "source": [
    "Аналогичную операцию можно провернуть с помощью метода replace:"
   ]
  },
  {
   "cell_type": "code",
   "metadata": {
    "id": "ofDGukRdJn_F",
    "colab_type": "code",
    "colab": {}
   },
   "source": [
    "df = df.replace({'Voice mail plan': d})\n",
    "df.head()"
   ],
   "execution_count": 0,
   "outputs": []
  },
  {
   "cell_type": "markdown",
   "metadata": {
    "id": "iErsnmNAJu11",
    "colab_type": "text"
   },
   "source": [
    "## Группировка данных"
   ]
  },
  {
   "cell_type": "markdown",
   "metadata": {
    "id": "4UCOniydJsnD",
    "colab_type": "text"
   },
   "source": [
    "В общем случае группировка данных в Pandas выглядит следующим образом:\n",
    "\n",
    "    df.groupby(by=grouping_columns)[columns_to_show].function()\n",
    "\n",
    "1. К датафрейму применяется метод groupby, который разделяет данные по grouping_columns – признаку или набору признаков.\n",
    "2. Выбираем нужные нам столбцы (columns_to_show).\n",
    "3. К полученным группам применяется функция или несколько функций.\n",
    "\n",
    "**Группирование данных в зависимости от значения признака Churn и вывод статистик по трём столбцам в каждой группе:**"
   ]
  },
  {
   "cell_type": "code",
   "metadata": {
    "id": "s0ZQ0CuLJ0cv",
    "colab_type": "code",
    "colab": {}
   },
   "source": [
    "columns_to_show = ['Total day minutes', 'Total eve minutes', 'Total night minutes']\n",
    "df.groupby(['Churn'])[columns_to_show].describe(percentiles=[])"
   ],
   "execution_count": 0,
   "outputs": []
  },
  {
   "cell_type": "markdown",
   "metadata": {
    "id": "ByP3wNaPRRDG",
    "colab_type": "text"
   },
   "source": [
    "Сделаем то же самое, но немного по-другому, передав в agg список функций:"
   ]
  },
  {
   "cell_type": "code",
   "metadata": {
    "id": "ZHC7hbrhRSyF",
    "colab_type": "code",
    "colab": {}
   },
   "source": [
    "columns_to_show = ['Total day minutes', 'Total eve minutes', 'Total night minutes']\n",
    "df.groupby(['Churn'])[columns_to_show].agg([np.mean, np.std, np.min, np.max])"
   ],
   "execution_count": 0,
   "outputs": []
  },
  {
   "cell_type": "markdown",
   "metadata": {
    "id": "f3aDziwBR8D5",
    "colab_type": "text"
   },
   "source": [
    "## Сводные таблицы"
   ]
  },
  {
   "cell_type": "markdown",
   "metadata": {
    "id": "IV22DCUZSFCx",
    "colab_type": "text"
   },
   "source": [
    "Допустим, мы хотим посмотреть, как наблюдения в нашей выборке распределены в контексте двух признаков — Churn и International plan. Для этого мы можем построить таблицу сопряженности, воспользовавшись методом crosstab:"
   ]
  },
  {
   "cell_type": "code",
   "metadata": {
    "id": "zXxNDC4GR_AX",
    "colab_type": "code",
    "colab": {}
   },
   "source": [
    "pd.crosstab(df['Churn'], df['International plan'])"
   ],
   "execution_count": 0,
   "outputs": []
  },
  {
   "cell_type": "markdown",
   "metadata": {
    "id": "kEq68-S7SPGG",
    "colab_type": "text"
   },
   "source": [
    "Построим таблицу для Churn и Voice mail plan в долях, для этого будем использовать нормализацию - normalize=True:"
   ]
  },
  {
   "cell_type": "code",
   "metadata": {
    "id": "g3u5PKA9SbfC",
    "colab_type": "code",
    "colab": {}
   },
   "source": [
    "pd.crosstab(df['Churn'], df['Voice mail plan'], normalize=True)"
   ],
   "execution_count": 0,
   "outputs": []
  },
  {
   "cell_type": "markdown",
   "metadata": {
    "id": "K_fZZA4dSiAI",
    "colab_type": "text"
   },
   "source": [
    "Мы видим, что большинство пользователей лояльны и при этом пользуются дополнительными услугами (международного роуминга / голосовой почты).\n",
    "\n",
    "Продвинутые пользователи Excel наверняка вспомнят о такой фиче, как сводные таблицы (pivot tables). В Pandas за сводные таблицы отвечает метод pivot_table, который принимает в качестве параметров:\n",
    "\n",
    "* values – список переменных, по которым требуется рассчитать нужные статистики,\n",
    "* index – список переменных, по которым нужно сгруппировать данные,\n",
    "* aggfunc — то, что нам, собственно, нужно посчитать по группам — сумму, среднее, максимум, минимум или что-то ещё.\n",
    "\n",
    "Давайте посмотрим среднее число дневных, вечерних и ночных звонков для разных Area code:"
   ]
  },
  {
   "cell_type": "code",
   "metadata": {
    "id": "cbxpUM2GSqRR",
    "colab_type": "code",
    "colab": {}
   },
   "source": [
    "df.pivot_table(['Total day calls', 'Total eve calls', 'Total night calls'], \n",
    "['Area code'], aggfunc='mean').head(10)"
   ],
   "execution_count": 0,
   "outputs": []
  },
  {
   "cell_type": "markdown",
   "metadata": {
    "id": "82w_e9OlStgC",
    "colab_type": "text"
   },
   "source": [
    "## Преобразование датафреймов\n"
   ]
  },
  {
   "cell_type": "markdown",
   "metadata": {
    "id": "WNNF22LTSvke",
    "colab_type": "text"
   },
   "source": [
    "Как и многое другое в Pandas, добавление столбцов в DataFrame осуществимо несколькими способами.\n",
    "\n",
    "Например, мы хотим посчитать общее количество звонков для всех пользователей. Создадим объект total_calls типа Series и вставим его в датафрейм:"
   ]
  },
  {
   "cell_type": "code",
   "metadata": {
    "id": "ralkoPrcS3Id",
    "colab_type": "code",
    "colab": {}
   },
   "source": [
    "total_calls = df['Total day calls'] + df['Total eve calls'] + \\\n",
    "                  df['Total night calls'] + df['Total intl calls']\n",
    "df.insert(loc=len(df.columns), column='Total calls', value=total_calls) \n",
    "# loc - номер столбца, после которого нужно вставить данный Series\n",
    "# мы указали len(df.columns), чтобы вставить его в самом конце\n",
    "df.head()"
   ],
   "execution_count": 0,
   "outputs": []
  },
  {
   "cell_type": "markdown",
   "metadata": {
    "id": "pjKjCUDUTHSV",
    "colab_type": "text"
   },
   "source": [
    "Добавить столбец из имеющихся можно и проще, не создавая промежуточных Series:"
   ]
  },
  {
   "cell_type": "code",
   "metadata": {
    "id": "dW0AEecCTLdA",
    "colab_type": "code",
    "colab": {}
   },
   "source": [
    "df['Total charge'] = df['Total day charge'] + df['Total eve charge'] + df['Total night charge'] + df['Total intl charge']\n",
    "df.head()"
   ],
   "execution_count": 0,
   "outputs": []
  },
  {
   "cell_type": "markdown",
   "metadata": {
    "id": "3UdzcSmOTKrg",
    "colab_type": "text"
   },
   "source": [
    "Чтобы удалить столбцы или строки, воспользуйтесь методом drop, передавая в качестве аргумента нужные индексы и требуемое значение параметра axis (1, если удаляете столбцы, и ничего или 0, если удаляете строки):"
   ]
  },
  {
   "cell_type": "code",
   "metadata": {
    "id": "7PsAnra_TPdD",
    "colab_type": "code",
    "colab": {}
   },
   "source": [
    "# избавляемся от созданных только что столбцов\n",
    "df = df.drop(['Total charge', 'Total calls'], axis=1) \n",
    "df.drop([1, 2]).head() # а вот так можно удалить строчки"
   ],
   "execution_count": 0,
   "outputs": []
  },
  {
   "cell_type": "markdown",
   "metadata": {
    "id": "_NYpB9uJTdxc",
    "colab_type": "text"
   },
   "source": [
    "## Первые попытки прогнозирования оттока"
   ]
  },
  {
   "cell_type": "markdown",
   "metadata": {
    "id": "xo31EktbTiJ_",
    "colab_type": "text"
   },
   "source": [
    "Посмотрим, как отток связан с признаком \"Подключение международного роуминга\" (International plan). Сделаем это с помощью сводной таблички crosstab, а также путем иллюстрации с Seaborn (как именно строить такие картинки и анализировать с их помощью графики – материал следующей лекции)."
   ]
  },
  {
   "cell_type": "code",
   "metadata": {
    "id": "sBnqdVt9Tl4g",
    "colab_type": "code",
    "colab": {}
   },
   "source": [
    "pd.crosstab(df['Churn'], df['International plan'], margins=True)"
   ],
   "execution_count": 0,
   "outputs": []
  },
  {
   "cell_type": "markdown",
   "metadata": {
    "id": "hpxjDsevT0tn",
    "colab_type": "text"
   },
   "source": [
    "![](https://github.com/Eductorium/DataScience/raw/master/Module2/diag1.png)\n",
    "\n",
    "Видим, что когда роуминг подключен (True), доля оттока (зеленый график почти равен синему) намного выше – интересное наблюдение! Когда же роуминг выключен (False), то зеленый график намного меньше синего. Возможно, большие и плохо контролируемые траты в роуминге очень конфликтогенны и приводят к недовольству клиентов телеком-оператора и, соответственно, к их оттоку.\n",
    "\n",
    "Далее посмотрим на еще один важный признак – \"Число обращений в сервисный центр\" (Customer service calls). Также построим сводную таблицу и картинку."
   ]
  },
  {
   "cell_type": "code",
   "metadata": {
    "id": "OM6ugRlQY9Rm",
    "colab_type": "code",
    "colab": {}
   },
   "source": [
    "pd.crosstab(df['Churn'], df['Customer service calls'], margins=True)"
   ],
   "execution_count": 0,
   "outputs": []
  },
  {
   "cell_type": "markdown",
   "metadata": {
    "id": "LSDRrq0HZGVD",
    "colab_type": "text"
   },
   "source": [
    "![alt text](https://github.com/Eductorium/DataScience/raw/master/Module2/diag2.png)\n",
    "\n",
    "Может быть, по сводной табличке это не так хорошо видно (или скучно ползать взглядом по строчкам с цифрами), а вот картинка красноречиво свидетельствует о том, что доля оттока сильно возрастает начиная с 4 звонков в сервисный центр.\n",
    "\n",
    "\n",
    "Добавим теперь в наш DataFrame бинарный признак — результат сравнения Customer service calls > 3. И еще раз посмотрим, как он связан с оттоком."
   ]
  },
  {
   "cell_type": "code",
   "metadata": {
    "id": "9q_BDlvRZWTO",
    "colab_type": "code",
    "colab": {}
   },
   "source": [
    "df['Many_service_calls'] = (df['Customer service calls'] > 3).astype('int')\n",
    "pd.crosstab(df['Many_service_calls'], df['Churn'], margins=True)"
   ],
   "execution_count": 0,
   "outputs": []
  },
  {
   "cell_type": "markdown",
   "metadata": {
    "id": "5S-ic670Zb6E",
    "colab_type": "text"
   },
   "source": [
    "![alt text](https://github.com/Eductorium/DataScience/raw/master/Module2/diag2.png)\n",
    "\n",
    "Объединим рассмотренные выше условия и построим сводную табличку для этого объединения и оттока."
   ]
  },
  {
   "cell_type": "code",
   "metadata": {
    "id": "vGDufJDhZrPV",
    "colab_type": "code",
    "colab": {}
   },
   "source": [
    "pd.crosstab(df['Many_service_calls'] & df['International plan'] , df['Churn'])"
   ],
   "execution_count": 0,
   "outputs": []
  },
  {
   "cell_type": "markdown",
   "metadata": {
    "id": "UMVcaYBhaIkE",
    "colab_type": "text"
   },
   "source": [
    "Значит, прогнозируя отток клиента в случае, когда число звонков в сервисный центр больше 3 и подключен роуминг (и прогнозируя лояльность – в противном случае), можно ожидать около 85.8% правильных попаданий (ошибаемся всего 464 + 9 раз). Эти 85.8%, которые мы получили с помощью очень простых рассуждений – это неплохая отправная точка (baseline) для дальнейших моделей машинного обучения, которые мы будем строить.\n",
    "\n",
    "В целом до появления машинного обучения процесс анализа данных выглядел примерно так. Прорезюмируем:\n",
    "\n",
    "* Доля лояльных клиентов в выборке – 85.5%. Самая наивная модель, ответ которой \"клиент всегда лоялен\" на подобных данных будет угадывать примерно в 85.5% случаев. То есть доли правильных ответов (accuracy) последующих моделей должны быть как минимум не меньше, а лучше, значительно выше этой цифры;\n",
    "* С помощью простого прогноза, который условно можно выразить такой формулой: \"International plan = True & Customer Service calls > 3 => Churn = 1, else Churn = 0\", можно ожидать долю угадываний 85.8%, что еще чуть выше 85.5%. Впоследствии мы поговорим о деревьях решений и разберемся, как находить подобные правила автоматически на основе только входных данных;\n",
    "* Эти два бейзлайна мы получили без всякого машинного обучения, и они служат отправной точной для наших последующих моделей. Если окажется, что мы громадными усилиями увеличиваем долю правильных ответов всего, скажем, на 0.5%, то возможно, мы что-то делаем не так, и достаточно ограничиться простой моделью из двух условий;\n",
    "* Перед обучением сложных моделей рекомендуется немного покрутить данные и проверить простые предположения. Более того, в бизнес-приложениях машинного обучения чаще всего начинают именно с простых решений, а потом экспериментируют с их усложнениями."
   ]
  }
 ]
}